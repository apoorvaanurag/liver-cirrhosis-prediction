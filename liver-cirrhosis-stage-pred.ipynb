{
 "cells": [
  {
   "cell_type": "markdown",
   "id": "340b0180",
   "metadata": {
    "papermill": {
     "duration": 0.083708,
     "end_time": "2022-03-04T12:08:59.389305",
     "exception": false,
     "start_time": "2022-03-04T12:08:59.305597",
     "status": "completed"
    },
    "tags": []
   },
   "source": [
    "# Liver-Cirrhosis-Stage-Prediction"
   ]
  },
  {
   "cell_type": "code",
   "execution_count": 1,
   "id": "34415301",
   "metadata": {
    "_cell_guid": "b1076dfc-b9ad-4769-8c92-a6c4dae69d19",
    "_uuid": "8f2839f25d086af736a60e9eeb907d3b93b6e0e5",
    "execution": {
     "iopub.execute_input": "2022-03-04T12:08:59.541128Z",
     "iopub.status.busy": "2022-03-04T12:08:59.539639Z",
     "iopub.status.idle": "2022-03-04T12:08:59.564420Z",
     "shell.execute_reply": "2022-03-04T12:08:59.564951Z",
     "shell.execute_reply.started": "2022-03-04T11:56:09.592976Z"
    },
    "papermill": {
     "duration": 0.092801,
     "end_time": "2022-03-04T12:08:59.565228",
     "exception": false,
     "start_time": "2022-03-04T12:08:59.472427",
     "status": "completed"
    },
    "tags": []
   },
   "outputs": [
    {
     "name": "stdout",
     "output_type": "stream",
     "text": [
      "/kaggle/input/cirrhosis-prediction-dataset/cirrhosis.csv\n",
      "/kaggle/input/no-title/train_dataset.csv\n",
      "/kaggle/input/no-title/test_dataset.csv\n"
     ]
    }
   ],
   "source": [
    "\n",
    "import numpy as np # linear algebra\n",
    "import pandas as pd # data processing, CSV file I/O (e.g. pd.read_csv)\n",
    "pd.options.mode.chained_assignment = None  # default='warn'\n",
    "import warnings\n",
    "warnings.simplefilter(action='ignore')\n",
    "\n",
    "import os\n",
    "for dirname, _, filenames in os.walk('/kaggle/input'):\n",
    "    for filename in filenames:\n",
    "        print(os.path.join(dirname, filename))\n"
   ]
  },
  {
   "cell_type": "markdown",
   "id": "a955bdd6",
   "metadata": {
    "papermill": {
     "duration": 0.063675,
     "end_time": "2022-03-04T12:08:59.695139",
     "exception": false,
     "start_time": "2022-03-04T12:08:59.631464",
     "status": "completed"
    },
    "tags": []
   },
   "source": [
    "Loading dataset:"
   ]
  },
  {
   "cell_type": "code",
   "execution_count": 2,
   "id": "c54d33e3",
   "metadata": {
    "execution": {
     "iopub.execute_input": "2022-03-04T12:08:59.827376Z",
     "iopub.status.busy": "2022-03-04T12:08:59.826717Z",
     "iopub.status.idle": "2022-03-04T12:08:59.892800Z",
     "shell.execute_reply": "2022-03-04T12:08:59.893219Z",
     "shell.execute_reply.started": "2022-03-04T11:56:09.610116Z"
    },
    "papermill": {
     "duration": 0.13459,
     "end_time": "2022-03-04T12:08:59.893353",
     "exception": false,
     "start_time": "2022-03-04T12:08:59.758763",
     "status": "completed"
    },
    "tags": []
   },
   "outputs": [
    {
     "data": {
      "text/html": [
       "<div>\n",
       "<style scoped>\n",
       "    .dataframe tbody tr th:only-of-type {\n",
       "        vertical-align: middle;\n",
       "    }\n",
       "\n",
       "    .dataframe tbody tr th {\n",
       "        vertical-align: top;\n",
       "    }\n",
       "\n",
       "    .dataframe thead th {\n",
       "        text-align: right;\n",
       "    }\n",
       "</style>\n",
       "<table border=\"1\" class=\"dataframe\">\n",
       "  <thead>\n",
       "    <tr style=\"text-align: right;\">\n",
       "      <th></th>\n",
       "      <th>ID</th>\n",
       "      <th>N_Days</th>\n",
       "      <th>Status</th>\n",
       "      <th>Drug</th>\n",
       "      <th>Age</th>\n",
       "      <th>Sex</th>\n",
       "      <th>Ascites</th>\n",
       "      <th>Hepatomegaly</th>\n",
       "      <th>Spiders</th>\n",
       "      <th>Edema</th>\n",
       "      <th>Bilirubin</th>\n",
       "      <th>Cholesterol</th>\n",
       "      <th>Albumin</th>\n",
       "      <th>Copper</th>\n",
       "      <th>Alk_Phos</th>\n",
       "      <th>SGOT</th>\n",
       "      <th>Tryglicerides</th>\n",
       "      <th>Platelets</th>\n",
       "      <th>Prothrombin</th>\n",
       "      <th>Stage</th>\n",
       "    </tr>\n",
       "  </thead>\n",
       "  <tbody>\n",
       "    <tr>\n",
       "      <th>0</th>\n",
       "      <td>7135</td>\n",
       "      <td>1654</td>\n",
       "      <td>CL</td>\n",
       "      <td>D-penicillamine</td>\n",
       "      <td>19581</td>\n",
       "      <td>F</td>\n",
       "      <td>N</td>\n",
       "      <td>N</td>\n",
       "      <td>Y</td>\n",
       "      <td>N</td>\n",
       "      <td>0.3</td>\n",
       "      <td>279.0</td>\n",
       "      <td>2.96</td>\n",
       "      <td>84.0</td>\n",
       "      <td>1500.8</td>\n",
       "      <td>99.43</td>\n",
       "      <td>109.0</td>\n",
       "      <td>293.0</td>\n",
       "      <td>10.2</td>\n",
       "      <td>4.0</td>\n",
       "    </tr>\n",
       "    <tr>\n",
       "      <th>1</th>\n",
       "      <td>7326</td>\n",
       "      <td>41</td>\n",
       "      <td>C</td>\n",
       "      <td>D-penicillamine</td>\n",
       "      <td>22880</td>\n",
       "      <td>F</td>\n",
       "      <td>NaN</td>\n",
       "      <td>N</td>\n",
       "      <td>NaN</td>\n",
       "      <td>N</td>\n",
       "      <td>0.3</td>\n",
       "      <td>NaN</td>\n",
       "      <td>2.96</td>\n",
       "      <td>NaN</td>\n",
       "      <td>1835.4</td>\n",
       "      <td>26.35</td>\n",
       "      <td>131.0</td>\n",
       "      <td>308.0</td>\n",
       "      <td>10.8</td>\n",
       "      <td>1.0</td>\n",
       "    </tr>\n",
       "    <tr>\n",
       "      <th>2</th>\n",
       "      <td>7254</td>\n",
       "      <td>297</td>\n",
       "      <td>D</td>\n",
       "      <td>NaN</td>\n",
       "      <td>27957</td>\n",
       "      <td>F</td>\n",
       "      <td>N</td>\n",
       "      <td>N</td>\n",
       "      <td>NaN</td>\n",
       "      <td>N</td>\n",
       "      <td>0.3</td>\n",
       "      <td>328.0</td>\n",
       "      <td>2.64</td>\n",
       "      <td>4.0</td>\n",
       "      <td>NaN</td>\n",
       "      <td>NaN</td>\n",
       "      <td>116.0</td>\n",
       "      <td>194.0</td>\n",
       "      <td>10.3</td>\n",
       "      <td>3.0</td>\n",
       "    </tr>\n",
       "    <tr>\n",
       "      <th>3</th>\n",
       "      <td>3135</td>\n",
       "      <td>1872</td>\n",
       "      <td>C</td>\n",
       "      <td>D-penicillamine</td>\n",
       "      <td>21111</td>\n",
       "      <td>F</td>\n",
       "      <td>NaN</td>\n",
       "      <td>Y</td>\n",
       "      <td>Y</td>\n",
       "      <td>N</td>\n",
       "      <td>0.3</td>\n",
       "      <td>302.0</td>\n",
       "      <td>2.02</td>\n",
       "      <td>49.0</td>\n",
       "      <td>NaN</td>\n",
       "      <td>26.35</td>\n",
       "      <td>NaN</td>\n",
       "      <td>NaN</td>\n",
       "      <td>10.5</td>\n",
       "      <td>4.0</td>\n",
       "    </tr>\n",
       "    <tr>\n",
       "      <th>4</th>\n",
       "      <td>2483</td>\n",
       "      <td>939</td>\n",
       "      <td>CL</td>\n",
       "      <td>D-penicillamine</td>\n",
       "      <td>18061</td>\n",
       "      <td>F</td>\n",
       "      <td>NaN</td>\n",
       "      <td>NaN</td>\n",
       "      <td>NaN</td>\n",
       "      <td>N</td>\n",
       "      <td>0.5</td>\n",
       "      <td>344.0</td>\n",
       "      <td>3.11</td>\n",
       "      <td>91.0</td>\n",
       "      <td>NaN</td>\n",
       "      <td>104.56</td>\n",
       "      <td>NaN</td>\n",
       "      <td>306.0</td>\n",
       "      <td>11.4</td>\n",
       "      <td>2.0</td>\n",
       "    </tr>\n",
       "    <tr>\n",
       "      <th>...</th>\n",
       "      <td>...</td>\n",
       "      <td>...</td>\n",
       "      <td>...</td>\n",
       "      <td>...</td>\n",
       "      <td>...</td>\n",
       "      <td>...</td>\n",
       "      <td>...</td>\n",
       "      <td>...</td>\n",
       "      <td>...</td>\n",
       "      <td>...</td>\n",
       "      <td>...</td>\n",
       "      <td>...</td>\n",
       "      <td>...</td>\n",
       "      <td>...</td>\n",
       "      <td>...</td>\n",
       "      <td>...</td>\n",
       "      <td>...</td>\n",
       "      <td>...</td>\n",
       "      <td>...</td>\n",
       "      <td>...</td>\n",
       "    </tr>\n",
       "    <tr>\n",
       "      <th>6795</th>\n",
       "      <td>4622</td>\n",
       "      <td>1762</td>\n",
       "      <td>C</td>\n",
       "      <td>Placebo</td>\n",
       "      <td>20909</td>\n",
       "      <td>M</td>\n",
       "      <td>NaN</td>\n",
       "      <td>N</td>\n",
       "      <td>NaN</td>\n",
       "      <td>N</td>\n",
       "      <td>0.9</td>\n",
       "      <td>360.0</td>\n",
       "      <td>2.43</td>\n",
       "      <td>NaN</td>\n",
       "      <td>3444.4</td>\n",
       "      <td>131.59</td>\n",
       "      <td>130.0</td>\n",
       "      <td>314.0</td>\n",
       "      <td>12.9</td>\n",
       "      <td>1.0</td>\n",
       "    </tr>\n",
       "    <tr>\n",
       "      <th>6796</th>\n",
       "      <td>4446</td>\n",
       "      <td>2955</td>\n",
       "      <td>C</td>\n",
       "      <td>Placebo</td>\n",
       "      <td>28650</td>\n",
       "      <td>F</td>\n",
       "      <td>Y</td>\n",
       "      <td>N</td>\n",
       "      <td>N</td>\n",
       "      <td>N</td>\n",
       "      <td>0.3</td>\n",
       "      <td>NaN</td>\n",
       "      <td>2.99</td>\n",
       "      <td>43.0</td>\n",
       "      <td>NaN</td>\n",
       "      <td>NaN</td>\n",
       "      <td>238.0</td>\n",
       "      <td>399.0</td>\n",
       "      <td>10.6</td>\n",
       "      <td>4.0</td>\n",
       "    </tr>\n",
       "    <tr>\n",
       "      <th>6797</th>\n",
       "      <td>4082</td>\n",
       "      <td>584</td>\n",
       "      <td>C</td>\n",
       "      <td>NaN</td>\n",
       "      <td>24102</td>\n",
       "      <td>F</td>\n",
       "      <td>N</td>\n",
       "      <td>Y</td>\n",
       "      <td>NaN</td>\n",
       "      <td>N</td>\n",
       "      <td>0.3</td>\n",
       "      <td>218.0</td>\n",
       "      <td>2.79</td>\n",
       "      <td>NaN</td>\n",
       "      <td>NaN</td>\n",
       "      <td>26.35</td>\n",
       "      <td>123.0</td>\n",
       "      <td>103.0</td>\n",
       "      <td>9.3</td>\n",
       "      <td>1.0</td>\n",
       "    </tr>\n",
       "    <tr>\n",
       "      <th>6798</th>\n",
       "      <td>2248</td>\n",
       "      <td>1426</td>\n",
       "      <td>CL</td>\n",
       "      <td>D-penicillamine</td>\n",
       "      <td>19791</td>\n",
       "      <td>F</td>\n",
       "      <td>N</td>\n",
       "      <td>NaN</td>\n",
       "      <td>Y</td>\n",
       "      <td>N</td>\n",
       "      <td>0.3</td>\n",
       "      <td>NaN</td>\n",
       "      <td>1.96</td>\n",
       "      <td>12.0</td>\n",
       "      <td>289.0</td>\n",
       "      <td>72.95</td>\n",
       "      <td>134.0</td>\n",
       "      <td>354.0</td>\n",
       "      <td>10.6</td>\n",
       "      <td>2.0</td>\n",
       "    </tr>\n",
       "    <tr>\n",
       "      <th>6799</th>\n",
       "      <td>4826</td>\n",
       "      <td>125</td>\n",
       "      <td>D</td>\n",
       "      <td>D-penicillamine</td>\n",
       "      <td>25245</td>\n",
       "      <td>F</td>\n",
       "      <td>Y</td>\n",
       "      <td>N</td>\n",
       "      <td>NaN</td>\n",
       "      <td>N</td>\n",
       "      <td>5.9</td>\n",
       "      <td>NaN</td>\n",
       "      <td>3.65</td>\n",
       "      <td>NaN</td>\n",
       "      <td>NaN</td>\n",
       "      <td>26.35</td>\n",
       "      <td>69.0</td>\n",
       "      <td>288.0</td>\n",
       "      <td>11.1</td>\n",
       "      <td>4.0</td>\n",
       "    </tr>\n",
       "  </tbody>\n",
       "</table>\n",
       "<p>6800 rows × 20 columns</p>\n",
       "</div>"
      ],
      "text/plain": [
       "        ID  N_Days Status             Drug    Age Sex Ascites Hepatomegaly  \\\n",
       "0     7135    1654     CL  D-penicillamine  19581   F       N            N   \n",
       "1     7326      41      C  D-penicillamine  22880   F     NaN            N   \n",
       "2     7254     297      D              NaN  27957   F       N            N   \n",
       "3     3135    1872      C  D-penicillamine  21111   F     NaN            Y   \n",
       "4     2483     939     CL  D-penicillamine  18061   F     NaN          NaN   \n",
       "...    ...     ...    ...              ...    ...  ..     ...          ...   \n",
       "6795  4622    1762      C          Placebo  20909   M     NaN            N   \n",
       "6796  4446    2955      C          Placebo  28650   F       Y            N   \n",
       "6797  4082     584      C              NaN  24102   F       N            Y   \n",
       "6798  2248    1426     CL  D-penicillamine  19791   F       N          NaN   \n",
       "6799  4826     125      D  D-penicillamine  25245   F       Y            N   \n",
       "\n",
       "     Spiders Edema  Bilirubin  Cholesterol  Albumin  Copper  Alk_Phos    SGOT  \\\n",
       "0          Y     N        0.3        279.0     2.96    84.0    1500.8   99.43   \n",
       "1        NaN     N        0.3          NaN     2.96     NaN    1835.4   26.35   \n",
       "2        NaN     N        0.3        328.0     2.64     4.0       NaN     NaN   \n",
       "3          Y     N        0.3        302.0     2.02    49.0       NaN   26.35   \n",
       "4        NaN     N        0.5        344.0     3.11    91.0       NaN  104.56   \n",
       "...      ...   ...        ...          ...      ...     ...       ...     ...   \n",
       "6795     NaN     N        0.9        360.0     2.43     NaN    3444.4  131.59   \n",
       "6796       N     N        0.3          NaN     2.99    43.0       NaN     NaN   \n",
       "6797     NaN     N        0.3        218.0     2.79     NaN       NaN   26.35   \n",
       "6798       Y     N        0.3          NaN     1.96    12.0     289.0   72.95   \n",
       "6799     NaN     N        5.9          NaN     3.65     NaN       NaN   26.35   \n",
       "\n",
       "      Tryglicerides  Platelets  Prothrombin  Stage  \n",
       "0             109.0      293.0         10.2    4.0  \n",
       "1             131.0      308.0         10.8    1.0  \n",
       "2             116.0      194.0         10.3    3.0  \n",
       "3               NaN        NaN         10.5    4.0  \n",
       "4               NaN      306.0         11.4    2.0  \n",
       "...             ...        ...          ...    ...  \n",
       "6795          130.0      314.0         12.9    1.0  \n",
       "6796          238.0      399.0         10.6    4.0  \n",
       "6797          123.0      103.0          9.3    1.0  \n",
       "6798          134.0      354.0         10.6    2.0  \n",
       "6799           69.0      288.0         11.1    4.0  \n",
       "\n",
       "[6800 rows x 20 columns]"
      ]
     },
     "execution_count": 2,
     "metadata": {},
     "output_type": "execute_result"
    }
   ],
   "source": [
    "import pandas as pd\n",
    "df_full = pd.read_csv(\"../input/no-title/train_dataset.csv\")\n",
    "df_full\n"
   ]
  },
  {
   "cell_type": "markdown",
   "id": "3222e124",
   "metadata": {
    "papermill": {
     "duration": 0.064964,
     "end_time": "2022-03-04T12:09:00.024063",
     "exception": false,
     "start_time": "2022-03-04T12:08:59.959099",
     "status": "completed"
    },
    "tags": []
   },
   "source": [
    "Separating a small slice of data as validation set.\\\n",
    "This is meant for tackling **data leakage** due to train-test contamination.\\\n",
    "Treating `df_val` as a pseudo \"Real World\" data and see how model performs."
   ]
  },
  {
   "cell_type": "code",
   "execution_count": 3,
   "id": "e6617ae9",
   "metadata": {
    "execution": {
     "iopub.execute_input": "2022-03-04T12:09:00.158931Z",
     "iopub.status.busy": "2022-03-04T12:09:00.158244Z",
     "iopub.status.idle": "2022-03-04T12:09:00.199146Z",
     "shell.execute_reply": "2022-03-04T12:09:00.199810Z",
     "shell.execute_reply.started": "2022-03-04T11:56:09.672239Z"
    },
    "papermill": {
     "duration": 0.111244,
     "end_time": "2022-03-04T12:09:00.199979",
     "exception": false,
     "start_time": "2022-03-04T12:09:00.088735",
     "status": "completed"
    },
    "tags": []
   },
   "outputs": [
    {
     "name": "stdout",
     "output_type": "stream",
     "text": [
      "Shape of new dataframes - (6800, 20) , (418, 20)\n"
     ]
    },
    {
     "data": {
      "text/html": [
       "<div>\n",
       "<style scoped>\n",
       "    .dataframe tbody tr th:only-of-type {\n",
       "        vertical-align: middle;\n",
       "    }\n",
       "\n",
       "    .dataframe tbody tr th {\n",
       "        vertical-align: top;\n",
       "    }\n",
       "\n",
       "    .dataframe thead th {\n",
       "        text-align: right;\n",
       "    }\n",
       "</style>\n",
       "<table border=\"1\" class=\"dataframe\">\n",
       "  <thead>\n",
       "    <tr style=\"text-align: right;\">\n",
       "      <th></th>\n",
       "      <th>ID</th>\n",
       "      <th>N_Days</th>\n",
       "      <th>Status</th>\n",
       "      <th>Drug</th>\n",
       "      <th>Age</th>\n",
       "      <th>Sex</th>\n",
       "      <th>Ascites</th>\n",
       "      <th>Hepatomegaly</th>\n",
       "      <th>Spiders</th>\n",
       "      <th>Edema</th>\n",
       "      <th>Bilirubin</th>\n",
       "      <th>Cholesterol</th>\n",
       "      <th>Albumin</th>\n",
       "      <th>Copper</th>\n",
       "      <th>Alk_Phos</th>\n",
       "      <th>SGOT</th>\n",
       "      <th>Tryglicerides</th>\n",
       "      <th>Platelets</th>\n",
       "      <th>Prothrombin</th>\n",
       "      <th>Stage</th>\n",
       "    </tr>\n",
       "  </thead>\n",
       "  <tbody>\n",
       "    <tr>\n",
       "      <th>0</th>\n",
       "      <td>7135</td>\n",
       "      <td>1654</td>\n",
       "      <td>CL</td>\n",
       "      <td>D-penicillamine</td>\n",
       "      <td>19581</td>\n",
       "      <td>F</td>\n",
       "      <td>N</td>\n",
       "      <td>N</td>\n",
       "      <td>Y</td>\n",
       "      <td>N</td>\n",
       "      <td>0.3</td>\n",
       "      <td>279.0</td>\n",
       "      <td>2.96</td>\n",
       "      <td>84.0</td>\n",
       "      <td>1500.8</td>\n",
       "      <td>99.43</td>\n",
       "      <td>109.0</td>\n",
       "      <td>293.0</td>\n",
       "      <td>10.2</td>\n",
       "      <td>4.0</td>\n",
       "    </tr>\n",
       "    <tr>\n",
       "      <th>1</th>\n",
       "      <td>7326</td>\n",
       "      <td>41</td>\n",
       "      <td>C</td>\n",
       "      <td>D-penicillamine</td>\n",
       "      <td>22880</td>\n",
       "      <td>F</td>\n",
       "      <td>NaN</td>\n",
       "      <td>N</td>\n",
       "      <td>NaN</td>\n",
       "      <td>N</td>\n",
       "      <td>0.3</td>\n",
       "      <td>NaN</td>\n",
       "      <td>2.96</td>\n",
       "      <td>NaN</td>\n",
       "      <td>1835.4</td>\n",
       "      <td>26.35</td>\n",
       "      <td>131.0</td>\n",
       "      <td>308.0</td>\n",
       "      <td>10.8</td>\n",
       "      <td>1.0</td>\n",
       "    </tr>\n",
       "    <tr>\n",
       "      <th>2</th>\n",
       "      <td>7254</td>\n",
       "      <td>297</td>\n",
       "      <td>D</td>\n",
       "      <td>NaN</td>\n",
       "      <td>27957</td>\n",
       "      <td>F</td>\n",
       "      <td>N</td>\n",
       "      <td>N</td>\n",
       "      <td>NaN</td>\n",
       "      <td>N</td>\n",
       "      <td>0.3</td>\n",
       "      <td>328.0</td>\n",
       "      <td>2.64</td>\n",
       "      <td>4.0</td>\n",
       "      <td>NaN</td>\n",
       "      <td>NaN</td>\n",
       "      <td>116.0</td>\n",
       "      <td>194.0</td>\n",
       "      <td>10.3</td>\n",
       "      <td>3.0</td>\n",
       "    </tr>\n",
       "    <tr>\n",
       "      <th>3</th>\n",
       "      <td>3135</td>\n",
       "      <td>1872</td>\n",
       "      <td>C</td>\n",
       "      <td>D-penicillamine</td>\n",
       "      <td>21111</td>\n",
       "      <td>F</td>\n",
       "      <td>NaN</td>\n",
       "      <td>Y</td>\n",
       "      <td>Y</td>\n",
       "      <td>N</td>\n",
       "      <td>0.3</td>\n",
       "      <td>302.0</td>\n",
       "      <td>2.02</td>\n",
       "      <td>49.0</td>\n",
       "      <td>NaN</td>\n",
       "      <td>26.35</td>\n",
       "      <td>NaN</td>\n",
       "      <td>NaN</td>\n",
       "      <td>10.5</td>\n",
       "      <td>4.0</td>\n",
       "    </tr>\n",
       "    <tr>\n",
       "      <th>4</th>\n",
       "      <td>2483</td>\n",
       "      <td>939</td>\n",
       "      <td>CL</td>\n",
       "      <td>D-penicillamine</td>\n",
       "      <td>18061</td>\n",
       "      <td>F</td>\n",
       "      <td>NaN</td>\n",
       "      <td>NaN</td>\n",
       "      <td>NaN</td>\n",
       "      <td>N</td>\n",
       "      <td>0.5</td>\n",
       "      <td>344.0</td>\n",
       "      <td>3.11</td>\n",
       "      <td>91.0</td>\n",
       "      <td>NaN</td>\n",
       "      <td>104.56</td>\n",
       "      <td>NaN</td>\n",
       "      <td>306.0</td>\n",
       "      <td>11.4</td>\n",
       "      <td>2.0</td>\n",
       "    </tr>\n",
       "    <tr>\n",
       "      <th>...</th>\n",
       "      <td>...</td>\n",
       "      <td>...</td>\n",
       "      <td>...</td>\n",
       "      <td>...</td>\n",
       "      <td>...</td>\n",
       "      <td>...</td>\n",
       "      <td>...</td>\n",
       "      <td>...</td>\n",
       "      <td>...</td>\n",
       "      <td>...</td>\n",
       "      <td>...</td>\n",
       "      <td>...</td>\n",
       "      <td>...</td>\n",
       "      <td>...</td>\n",
       "      <td>...</td>\n",
       "      <td>...</td>\n",
       "      <td>...</td>\n",
       "      <td>...</td>\n",
       "      <td>...</td>\n",
       "      <td>...</td>\n",
       "    </tr>\n",
       "    <tr>\n",
       "      <th>6795</th>\n",
       "      <td>4622</td>\n",
       "      <td>1762</td>\n",
       "      <td>C</td>\n",
       "      <td>Placebo</td>\n",
       "      <td>20909</td>\n",
       "      <td>M</td>\n",
       "      <td>NaN</td>\n",
       "      <td>N</td>\n",
       "      <td>NaN</td>\n",
       "      <td>N</td>\n",
       "      <td>0.9</td>\n",
       "      <td>360.0</td>\n",
       "      <td>2.43</td>\n",
       "      <td>NaN</td>\n",
       "      <td>3444.4</td>\n",
       "      <td>131.59</td>\n",
       "      <td>130.0</td>\n",
       "      <td>314.0</td>\n",
       "      <td>12.9</td>\n",
       "      <td>1.0</td>\n",
       "    </tr>\n",
       "    <tr>\n",
       "      <th>6796</th>\n",
       "      <td>4446</td>\n",
       "      <td>2955</td>\n",
       "      <td>C</td>\n",
       "      <td>Placebo</td>\n",
       "      <td>28650</td>\n",
       "      <td>F</td>\n",
       "      <td>Y</td>\n",
       "      <td>N</td>\n",
       "      <td>N</td>\n",
       "      <td>N</td>\n",
       "      <td>0.3</td>\n",
       "      <td>NaN</td>\n",
       "      <td>2.99</td>\n",
       "      <td>43.0</td>\n",
       "      <td>NaN</td>\n",
       "      <td>NaN</td>\n",
       "      <td>238.0</td>\n",
       "      <td>399.0</td>\n",
       "      <td>10.6</td>\n",
       "      <td>4.0</td>\n",
       "    </tr>\n",
       "    <tr>\n",
       "      <th>6797</th>\n",
       "      <td>4082</td>\n",
       "      <td>584</td>\n",
       "      <td>C</td>\n",
       "      <td>NaN</td>\n",
       "      <td>24102</td>\n",
       "      <td>F</td>\n",
       "      <td>N</td>\n",
       "      <td>Y</td>\n",
       "      <td>NaN</td>\n",
       "      <td>N</td>\n",
       "      <td>0.3</td>\n",
       "      <td>218.0</td>\n",
       "      <td>2.79</td>\n",
       "      <td>NaN</td>\n",
       "      <td>NaN</td>\n",
       "      <td>26.35</td>\n",
       "      <td>123.0</td>\n",
       "      <td>103.0</td>\n",
       "      <td>9.3</td>\n",
       "      <td>1.0</td>\n",
       "    </tr>\n",
       "    <tr>\n",
       "      <th>6798</th>\n",
       "      <td>2248</td>\n",
       "      <td>1426</td>\n",
       "      <td>CL</td>\n",
       "      <td>D-penicillamine</td>\n",
       "      <td>19791</td>\n",
       "      <td>F</td>\n",
       "      <td>N</td>\n",
       "      <td>NaN</td>\n",
       "      <td>Y</td>\n",
       "      <td>N</td>\n",
       "      <td>0.3</td>\n",
       "      <td>NaN</td>\n",
       "      <td>1.96</td>\n",
       "      <td>12.0</td>\n",
       "      <td>289.0</td>\n",
       "      <td>72.95</td>\n",
       "      <td>134.0</td>\n",
       "      <td>354.0</td>\n",
       "      <td>10.6</td>\n",
       "      <td>2.0</td>\n",
       "    </tr>\n",
       "    <tr>\n",
       "      <th>6799</th>\n",
       "      <td>4826</td>\n",
       "      <td>125</td>\n",
       "      <td>D</td>\n",
       "      <td>D-penicillamine</td>\n",
       "      <td>25245</td>\n",
       "      <td>F</td>\n",
       "      <td>Y</td>\n",
       "      <td>N</td>\n",
       "      <td>NaN</td>\n",
       "      <td>N</td>\n",
       "      <td>5.9</td>\n",
       "      <td>NaN</td>\n",
       "      <td>3.65</td>\n",
       "      <td>NaN</td>\n",
       "      <td>NaN</td>\n",
       "      <td>26.35</td>\n",
       "      <td>69.0</td>\n",
       "      <td>288.0</td>\n",
       "      <td>11.1</td>\n",
       "      <td>4.0</td>\n",
       "    </tr>\n",
       "  </tbody>\n",
       "</table>\n",
       "<p>6800 rows × 20 columns</p>\n",
       "</div>"
      ],
      "text/plain": [
       "        ID  N_Days Status             Drug    Age Sex Ascites Hepatomegaly  \\\n",
       "0     7135    1654     CL  D-penicillamine  19581   F       N            N   \n",
       "1     7326      41      C  D-penicillamine  22880   F     NaN            N   \n",
       "2     7254     297      D              NaN  27957   F       N            N   \n",
       "3     3135    1872      C  D-penicillamine  21111   F     NaN            Y   \n",
       "4     2483     939     CL  D-penicillamine  18061   F     NaN          NaN   \n",
       "...    ...     ...    ...              ...    ...  ..     ...          ...   \n",
       "6795  4622    1762      C          Placebo  20909   M     NaN            N   \n",
       "6796  4446    2955      C          Placebo  28650   F       Y            N   \n",
       "6797  4082     584      C              NaN  24102   F       N            Y   \n",
       "6798  2248    1426     CL  D-penicillamine  19791   F       N          NaN   \n",
       "6799  4826     125      D  D-penicillamine  25245   F       Y            N   \n",
       "\n",
       "     Spiders Edema  Bilirubin  Cholesterol  Albumin  Copper  Alk_Phos    SGOT  \\\n",
       "0          Y     N        0.3        279.0     2.96    84.0    1500.8   99.43   \n",
       "1        NaN     N        0.3          NaN     2.96     NaN    1835.4   26.35   \n",
       "2        NaN     N        0.3        328.0     2.64     4.0       NaN     NaN   \n",
       "3          Y     N        0.3        302.0     2.02    49.0       NaN   26.35   \n",
       "4        NaN     N        0.5        344.0     3.11    91.0       NaN  104.56   \n",
       "...      ...   ...        ...          ...      ...     ...       ...     ...   \n",
       "6795     NaN     N        0.9        360.0     2.43     NaN    3444.4  131.59   \n",
       "6796       N     N        0.3          NaN     2.99    43.0       NaN     NaN   \n",
       "6797     NaN     N        0.3        218.0     2.79     NaN       NaN   26.35   \n",
       "6798       Y     N        0.3          NaN     1.96    12.0     289.0   72.95   \n",
       "6799     NaN     N        5.9          NaN     3.65     NaN       NaN   26.35   \n",
       "\n",
       "      Tryglicerides  Platelets  Prothrombin  Stage  \n",
       "0             109.0      293.0         10.2    4.0  \n",
       "1             131.0      308.0         10.8    1.0  \n",
       "2             116.0      194.0         10.3    3.0  \n",
       "3               NaN        NaN         10.5    4.0  \n",
       "4               NaN      306.0         11.4    2.0  \n",
       "...             ...        ...          ...    ...  \n",
       "6795          130.0      314.0         12.9    1.0  \n",
       "6796          238.0      399.0         10.6    4.0  \n",
       "6797          123.0      103.0          9.3    1.0  \n",
       "6798          134.0      354.0         10.6    2.0  \n",
       "6799           69.0      288.0         11.1    4.0  \n",
       "\n",
       "[6800 rows x 20 columns]"
      ]
     },
     "execution_count": 3,
     "metadata": {},
     "output_type": "execute_result"
    }
   ],
   "source": [
    "df = df_full.copy()\n",
    "df_val = pd.read_csv(\"../input/cirrhosis-prediction-dataset/cirrhosis.csv\")   \n",
    "#df_val.reset_index(inplace = True)\n",
    "#df_val = df_full.iloc[6500:,:].copy()\n",
    "print(\"Shape of new dataframes - {} , {}\".format(df.shape, df_val.shape))\n",
    "df"
   ]
  },
  {
   "cell_type": "markdown",
   "id": "7a230f6e",
   "metadata": {
    "papermill": {
     "duration": 0.065914,
     "end_time": "2022-03-04T12:09:00.331390",
     "exception": false,
     "start_time": "2022-03-04T12:09:00.265476",
     "status": "completed"
    },
    "tags": []
   },
   "source": [
    "Checking number of missing values per column:"
   ]
  },
  {
   "cell_type": "code",
   "execution_count": 4,
   "id": "b1a91a52",
   "metadata": {
    "execution": {
     "iopub.execute_input": "2022-03-04T12:09:00.473171Z",
     "iopub.status.busy": "2022-03-04T12:09:00.472363Z",
     "iopub.status.idle": "2022-03-04T12:09:00.501558Z",
     "shell.execute_reply": "2022-03-04T12:09:00.501916Z",
     "shell.execute_reply.started": "2022-03-04T11:56:09.721896Z"
    },
    "papermill": {
     "duration": 0.105266,
     "end_time": "2022-03-04T12:09:00.502076",
     "exception": false,
     "start_time": "2022-03-04T12:09:00.396810",
     "status": "completed"
    },
    "tags": []
   },
   "outputs": [
    {
     "data": {
      "text/html": [
       "<div>\n",
       "<style scoped>\n",
       "    .dataframe tbody tr th:only-of-type {\n",
       "        vertical-align: middle;\n",
       "    }\n",
       "\n",
       "    .dataframe tbody tr th {\n",
       "        vertical-align: top;\n",
       "    }\n",
       "\n",
       "    .dataframe thead th {\n",
       "        text-align: right;\n",
       "    }\n",
       "</style>\n",
       "<table border=\"1\" class=\"dataframe\">\n",
       "  <thead>\n",
       "    <tr style=\"text-align: right;\">\n",
       "      <th></th>\n",
       "      <th>Feature</th>\n",
       "      <th>No. of missing values</th>\n",
       "    </tr>\n",
       "  </thead>\n",
       "  <tbody>\n",
       "    <tr>\n",
       "      <th>0</th>\n",
       "      <td>Drug</td>\n",
       "      <td>2025</td>\n",
       "    </tr>\n",
       "    <tr>\n",
       "      <th>1</th>\n",
       "      <td>Ascites</td>\n",
       "      <td>2246</td>\n",
       "    </tr>\n",
       "    <tr>\n",
       "      <th>2</th>\n",
       "      <td>Hepatomegaly</td>\n",
       "      <td>2427</td>\n",
       "    </tr>\n",
       "    <tr>\n",
       "      <th>3</th>\n",
       "      <td>Spiders</td>\n",
       "      <td>2590</td>\n",
       "    </tr>\n",
       "    <tr>\n",
       "      <th>4</th>\n",
       "      <td>Cholesterol</td>\n",
       "      <td>3101</td>\n",
       "    </tr>\n",
       "    <tr>\n",
       "      <th>5</th>\n",
       "      <td>Copper</td>\n",
       "      <td>2156</td>\n",
       "    </tr>\n",
       "    <tr>\n",
       "      <th>6</th>\n",
       "      <td>Alk_Phos</td>\n",
       "      <td>2498</td>\n",
       "    </tr>\n",
       "    <tr>\n",
       "      <th>7</th>\n",
       "      <td>SGOT</td>\n",
       "      <td>2102</td>\n",
       "    </tr>\n",
       "    <tr>\n",
       "      <th>8</th>\n",
       "      <td>Tryglicerides</td>\n",
       "      <td>2812</td>\n",
       "    </tr>\n",
       "    <tr>\n",
       "      <th>9</th>\n",
       "      <td>Platelets</td>\n",
       "      <td>338</td>\n",
       "    </tr>\n",
       "    <tr>\n",
       "      <th>10</th>\n",
       "      <td>Prothrombin</td>\n",
       "      <td>155</td>\n",
       "    </tr>\n",
       "  </tbody>\n",
       "</table>\n",
       "</div>"
      ],
      "text/plain": [
       "          Feature  No. of missing values\n",
       "0            Drug                   2025\n",
       "1         Ascites                   2246\n",
       "2    Hepatomegaly                   2427\n",
       "3         Spiders                   2590\n",
       "4     Cholesterol                   3101\n",
       "5          Copper                   2156\n",
       "6        Alk_Phos                   2498\n",
       "7            SGOT                   2102\n",
       "8   Tryglicerides                   2812\n",
       "9       Platelets                    338\n",
       "10    Prothrombin                    155"
      ]
     },
     "execution_count": 4,
     "metadata": {},
     "output_type": "execute_result"
    }
   ],
   "source": [
    "col_list = df.columns\n",
    "ukw_cols = []\n",
    "for i in col_list:\n",
    "    if df[i].value_counts().sum() != len(df):\n",
    "        ukw_val = len(df) - df[i].value_counts().sum()\n",
    "        ukw_cols.append((i,ukw_val))\n",
    "df2 = pd.DataFrame(ukw_cols, columns=['Feature','No. of missing values'])\n",
    "df2"
   ]
  },
  {
   "cell_type": "code",
   "execution_count": 5,
   "id": "9a2a2c21",
   "metadata": {
    "execution": {
     "iopub.execute_input": "2022-03-04T12:09:00.641717Z",
     "iopub.status.busy": "2022-03-04T12:09:00.641126Z",
     "iopub.status.idle": "2022-03-04T12:09:00.643666Z",
     "shell.execute_reply": "2022-03-04T12:09:00.644243Z",
     "shell.execute_reply.started": "2022-03-04T11:56:09.769230Z"
    },
    "papermill": {
     "duration": 0.076294,
     "end_time": "2022-03-04T12:09:00.644400",
     "exception": false,
     "start_time": "2022-03-04T12:09:00.568106",
     "status": "completed"
    },
    "tags": []
   },
   "outputs": [
    {
     "name": "stdout",
     "output_type": "stream",
     "text": [
      "Percentage of missing data in the whole dataset: 0.95%.\n"
     ]
    }
   ],
   "source": [
    "s = df_val.isnull().sum().sum()\n",
    "missing_percent = (s*100)/(len(df)*(len(df.columns)-4))     #Dropping ID, N_Days, Status and Stage from total data consideration\n",
    "print(\"Percentage of missing data in the whole dataset: {}%.\".format(missing_percent.round(2)))"
   ]
  },
  {
   "cell_type": "markdown",
   "id": "f7f3ebf3",
   "metadata": {
    "papermill": {
     "duration": 0.065794,
     "end_time": "2022-03-04T12:09:00.777515",
     "exception": false,
     "start_time": "2022-03-04T12:09:00.711721",
     "status": "completed"
    },
    "tags": []
   },
   "source": [
    "Since there are so many missing values, filtering the dataset by dropping samples/rows with more than 2 missing values."
   ]
  },
  {
   "cell_type": "code",
   "execution_count": 6,
   "id": "b7cef449",
   "metadata": {
    "execution": {
     "iopub.execute_input": "2022-03-04T12:09:00.948877Z",
     "iopub.status.busy": "2022-03-04T12:09:00.947988Z",
     "iopub.status.idle": "2022-03-04T12:09:01.003009Z",
     "shell.execute_reply": "2022-03-04T12:09:01.003439Z",
     "shell.execute_reply.started": "2022-03-04T11:56:09.781612Z"
    },
    "papermill": {
     "duration": 0.159,
     "end_time": "2022-03-04T12:09:01.003617",
     "exception": false,
     "start_time": "2022-03-04T12:09:00.844617",
     "status": "completed"
    },
    "tags": []
   },
   "outputs": [
    {
     "data": {
      "text/html": [
       "<div>\n",
       "<style scoped>\n",
       "    .dataframe tbody tr th:only-of-type {\n",
       "        vertical-align: middle;\n",
       "    }\n",
       "\n",
       "    .dataframe tbody tr th {\n",
       "        vertical-align: top;\n",
       "    }\n",
       "\n",
       "    .dataframe thead th {\n",
       "        text-align: right;\n",
       "    }\n",
       "</style>\n",
       "<table border=\"1\" class=\"dataframe\">\n",
       "  <thead>\n",
       "    <tr style=\"text-align: right;\">\n",
       "      <th></th>\n",
       "      <th>ID</th>\n",
       "      <th>N_Days</th>\n",
       "      <th>Status</th>\n",
       "      <th>Drug</th>\n",
       "      <th>Age</th>\n",
       "      <th>Sex</th>\n",
       "      <th>Ascites</th>\n",
       "      <th>Hepatomegaly</th>\n",
       "      <th>Spiders</th>\n",
       "      <th>Edema</th>\n",
       "      <th>Bilirubin</th>\n",
       "      <th>Cholesterol</th>\n",
       "      <th>Albumin</th>\n",
       "      <th>Copper</th>\n",
       "      <th>Alk_Phos</th>\n",
       "      <th>SGOT</th>\n",
       "      <th>Tryglicerides</th>\n",
       "      <th>Platelets</th>\n",
       "      <th>Prothrombin</th>\n",
       "      <th>Stage</th>\n",
       "    </tr>\n",
       "  </thead>\n",
       "  <tbody>\n",
       "    <tr>\n",
       "      <th>0</th>\n",
       "      <td>1</td>\n",
       "      <td>400</td>\n",
       "      <td>D</td>\n",
       "      <td>D-penicillamine</td>\n",
       "      <td>21464</td>\n",
       "      <td>F</td>\n",
       "      <td>Y</td>\n",
       "      <td>Y</td>\n",
       "      <td>Y</td>\n",
       "      <td>Y</td>\n",
       "      <td>14.5</td>\n",
       "      <td>261.0</td>\n",
       "      <td>2.60</td>\n",
       "      <td>156.0</td>\n",
       "      <td>1718.0</td>\n",
       "      <td>137.95</td>\n",
       "      <td>172.0</td>\n",
       "      <td>190.0</td>\n",
       "      <td>12.2</td>\n",
       "      <td>4.0</td>\n",
       "    </tr>\n",
       "    <tr>\n",
       "      <th>1</th>\n",
       "      <td>2</td>\n",
       "      <td>4500</td>\n",
       "      <td>C</td>\n",
       "      <td>D-penicillamine</td>\n",
       "      <td>20617</td>\n",
       "      <td>F</td>\n",
       "      <td>N</td>\n",
       "      <td>Y</td>\n",
       "      <td>Y</td>\n",
       "      <td>N</td>\n",
       "      <td>1.1</td>\n",
       "      <td>302.0</td>\n",
       "      <td>4.14</td>\n",
       "      <td>54.0</td>\n",
       "      <td>7394.8</td>\n",
       "      <td>113.52</td>\n",
       "      <td>88.0</td>\n",
       "      <td>221.0</td>\n",
       "      <td>10.6</td>\n",
       "      <td>3.0</td>\n",
       "    </tr>\n",
       "    <tr>\n",
       "      <th>2</th>\n",
       "      <td>3</td>\n",
       "      <td>1012</td>\n",
       "      <td>D</td>\n",
       "      <td>D-penicillamine</td>\n",
       "      <td>25594</td>\n",
       "      <td>M</td>\n",
       "      <td>N</td>\n",
       "      <td>N</td>\n",
       "      <td>N</td>\n",
       "      <td>S</td>\n",
       "      <td>1.4</td>\n",
       "      <td>176.0</td>\n",
       "      <td>3.48</td>\n",
       "      <td>210.0</td>\n",
       "      <td>516.0</td>\n",
       "      <td>96.10</td>\n",
       "      <td>55.0</td>\n",
       "      <td>151.0</td>\n",
       "      <td>12.0</td>\n",
       "      <td>4.0</td>\n",
       "    </tr>\n",
       "    <tr>\n",
       "      <th>3</th>\n",
       "      <td>4</td>\n",
       "      <td>1925</td>\n",
       "      <td>D</td>\n",
       "      <td>D-penicillamine</td>\n",
       "      <td>19994</td>\n",
       "      <td>F</td>\n",
       "      <td>N</td>\n",
       "      <td>Y</td>\n",
       "      <td>Y</td>\n",
       "      <td>S</td>\n",
       "      <td>1.8</td>\n",
       "      <td>244.0</td>\n",
       "      <td>2.54</td>\n",
       "      <td>64.0</td>\n",
       "      <td>6121.8</td>\n",
       "      <td>60.63</td>\n",
       "      <td>92.0</td>\n",
       "      <td>183.0</td>\n",
       "      <td>10.3</td>\n",
       "      <td>4.0</td>\n",
       "    </tr>\n",
       "    <tr>\n",
       "      <th>4</th>\n",
       "      <td>5</td>\n",
       "      <td>1504</td>\n",
       "      <td>CL</td>\n",
       "      <td>Placebo</td>\n",
       "      <td>13918</td>\n",
       "      <td>F</td>\n",
       "      <td>N</td>\n",
       "      <td>Y</td>\n",
       "      <td>Y</td>\n",
       "      <td>N</td>\n",
       "      <td>3.4</td>\n",
       "      <td>279.0</td>\n",
       "      <td>3.53</td>\n",
       "      <td>143.0</td>\n",
       "      <td>671.0</td>\n",
       "      <td>113.15</td>\n",
       "      <td>72.0</td>\n",
       "      <td>136.0</td>\n",
       "      <td>10.9</td>\n",
       "      <td>3.0</td>\n",
       "    </tr>\n",
       "    <tr>\n",
       "      <th>...</th>\n",
       "      <td>...</td>\n",
       "      <td>...</td>\n",
       "      <td>...</td>\n",
       "      <td>...</td>\n",
       "      <td>...</td>\n",
       "      <td>...</td>\n",
       "      <td>...</td>\n",
       "      <td>...</td>\n",
       "      <td>...</td>\n",
       "      <td>...</td>\n",
       "      <td>...</td>\n",
       "      <td>...</td>\n",
       "      <td>...</td>\n",
       "      <td>...</td>\n",
       "      <td>...</td>\n",
       "      <td>...</td>\n",
       "      <td>...</td>\n",
       "      <td>...</td>\n",
       "      <td>...</td>\n",
       "      <td>...</td>\n",
       "    </tr>\n",
       "    <tr>\n",
       "      <th>413</th>\n",
       "      <td>414</td>\n",
       "      <td>681</td>\n",
       "      <td>D</td>\n",
       "      <td>NaN</td>\n",
       "      <td>24472</td>\n",
       "      <td>F</td>\n",
       "      <td>NaN</td>\n",
       "      <td>NaN</td>\n",
       "      <td>NaN</td>\n",
       "      <td>N</td>\n",
       "      <td>1.2</td>\n",
       "      <td>NaN</td>\n",
       "      <td>2.96</td>\n",
       "      <td>NaN</td>\n",
       "      <td>NaN</td>\n",
       "      <td>NaN</td>\n",
       "      <td>NaN</td>\n",
       "      <td>174.0</td>\n",
       "      <td>10.9</td>\n",
       "      <td>3.0</td>\n",
       "    </tr>\n",
       "    <tr>\n",
       "      <th>414</th>\n",
       "      <td>415</td>\n",
       "      <td>1103</td>\n",
       "      <td>C</td>\n",
       "      <td>NaN</td>\n",
       "      <td>14245</td>\n",
       "      <td>F</td>\n",
       "      <td>NaN</td>\n",
       "      <td>NaN</td>\n",
       "      <td>NaN</td>\n",
       "      <td>N</td>\n",
       "      <td>0.9</td>\n",
       "      <td>NaN</td>\n",
       "      <td>3.83</td>\n",
       "      <td>NaN</td>\n",
       "      <td>NaN</td>\n",
       "      <td>NaN</td>\n",
       "      <td>NaN</td>\n",
       "      <td>180.0</td>\n",
       "      <td>11.2</td>\n",
       "      <td>4.0</td>\n",
       "    </tr>\n",
       "    <tr>\n",
       "      <th>415</th>\n",
       "      <td>416</td>\n",
       "      <td>1055</td>\n",
       "      <td>C</td>\n",
       "      <td>NaN</td>\n",
       "      <td>20819</td>\n",
       "      <td>F</td>\n",
       "      <td>NaN</td>\n",
       "      <td>NaN</td>\n",
       "      <td>NaN</td>\n",
       "      <td>N</td>\n",
       "      <td>1.6</td>\n",
       "      <td>NaN</td>\n",
       "      <td>3.42</td>\n",
       "      <td>NaN</td>\n",
       "      <td>NaN</td>\n",
       "      <td>NaN</td>\n",
       "      <td>NaN</td>\n",
       "      <td>143.0</td>\n",
       "      <td>9.9</td>\n",
       "      <td>3.0</td>\n",
       "    </tr>\n",
       "    <tr>\n",
       "      <th>416</th>\n",
       "      <td>417</td>\n",
       "      <td>691</td>\n",
       "      <td>C</td>\n",
       "      <td>NaN</td>\n",
       "      <td>21185</td>\n",
       "      <td>F</td>\n",
       "      <td>NaN</td>\n",
       "      <td>NaN</td>\n",
       "      <td>NaN</td>\n",
       "      <td>N</td>\n",
       "      <td>0.8</td>\n",
       "      <td>NaN</td>\n",
       "      <td>3.75</td>\n",
       "      <td>NaN</td>\n",
       "      <td>NaN</td>\n",
       "      <td>NaN</td>\n",
       "      <td>NaN</td>\n",
       "      <td>269.0</td>\n",
       "      <td>10.4</td>\n",
       "      <td>3.0</td>\n",
       "    </tr>\n",
       "    <tr>\n",
       "      <th>417</th>\n",
       "      <td>418</td>\n",
       "      <td>976</td>\n",
       "      <td>C</td>\n",
       "      <td>NaN</td>\n",
       "      <td>19358</td>\n",
       "      <td>F</td>\n",
       "      <td>NaN</td>\n",
       "      <td>NaN</td>\n",
       "      <td>NaN</td>\n",
       "      <td>N</td>\n",
       "      <td>0.7</td>\n",
       "      <td>NaN</td>\n",
       "      <td>3.29</td>\n",
       "      <td>NaN</td>\n",
       "      <td>NaN</td>\n",
       "      <td>NaN</td>\n",
       "      <td>NaN</td>\n",
       "      <td>350.0</td>\n",
       "      <td>10.6</td>\n",
       "      <td>4.0</td>\n",
       "    </tr>\n",
       "  </tbody>\n",
       "</table>\n",
       "<p>418 rows × 20 columns</p>\n",
       "</div>"
      ],
      "text/plain": [
       "      ID  N_Days Status             Drug    Age Sex Ascites Hepatomegaly  \\\n",
       "0      1     400      D  D-penicillamine  21464   F       Y            Y   \n",
       "1      2    4500      C  D-penicillamine  20617   F       N            Y   \n",
       "2      3    1012      D  D-penicillamine  25594   M       N            N   \n",
       "3      4    1925      D  D-penicillamine  19994   F       N            Y   \n",
       "4      5    1504     CL          Placebo  13918   F       N            Y   \n",
       "..   ...     ...    ...              ...    ...  ..     ...          ...   \n",
       "413  414     681      D              NaN  24472   F     NaN          NaN   \n",
       "414  415    1103      C              NaN  14245   F     NaN          NaN   \n",
       "415  416    1055      C              NaN  20819   F     NaN          NaN   \n",
       "416  417     691      C              NaN  21185   F     NaN          NaN   \n",
       "417  418     976      C              NaN  19358   F     NaN          NaN   \n",
       "\n",
       "    Spiders Edema  Bilirubin  Cholesterol  Albumin  Copper  Alk_Phos    SGOT  \\\n",
       "0         Y     Y       14.5        261.0     2.60   156.0    1718.0  137.95   \n",
       "1         Y     N        1.1        302.0     4.14    54.0    7394.8  113.52   \n",
       "2         N     S        1.4        176.0     3.48   210.0     516.0   96.10   \n",
       "3         Y     S        1.8        244.0     2.54    64.0    6121.8   60.63   \n",
       "4         Y     N        3.4        279.0     3.53   143.0     671.0  113.15   \n",
       "..      ...   ...        ...          ...      ...     ...       ...     ...   \n",
       "413     NaN     N        1.2          NaN     2.96     NaN       NaN     NaN   \n",
       "414     NaN     N        0.9          NaN     3.83     NaN       NaN     NaN   \n",
       "415     NaN     N        1.6          NaN     3.42     NaN       NaN     NaN   \n",
       "416     NaN     N        0.8          NaN     3.75     NaN       NaN     NaN   \n",
       "417     NaN     N        0.7          NaN     3.29     NaN       NaN     NaN   \n",
       "\n",
       "     Tryglicerides  Platelets  Prothrombin  Stage  \n",
       "0            172.0      190.0         12.2    4.0  \n",
       "1             88.0      221.0         10.6    3.0  \n",
       "2             55.0      151.0         12.0    4.0  \n",
       "3             92.0      183.0         10.3    4.0  \n",
       "4             72.0      136.0         10.9    3.0  \n",
       "..             ...        ...          ...    ...  \n",
       "413            NaN      174.0         10.9    3.0  \n",
       "414            NaN      180.0         11.2    4.0  \n",
       "415            NaN      143.0          9.9    3.0  \n",
       "416            NaN      269.0         10.4    3.0  \n",
       "417            NaN      350.0         10.6    4.0  \n",
       "\n",
       "[418 rows x 20 columns]"
      ]
     },
     "execution_count": 6,
     "metadata": {},
     "output_type": "execute_result"
    }
   ],
   "source": [
    "#df.dropna(axis= 0, inplace= True, thresh = 18)\n",
    "df_val"
   ]
  },
  {
   "cell_type": "code",
   "execution_count": 7,
   "id": "897c4d16",
   "metadata": {
    "execution": {
     "iopub.execute_input": "2022-03-04T12:09:01.233129Z",
     "iopub.status.busy": "2022-03-04T12:09:01.232352Z",
     "iopub.status.idle": "2022-03-04T12:09:01.237555Z",
     "shell.execute_reply": "2022-03-04T12:09:01.238177Z",
     "shell.execute_reply.started": "2022-03-04T11:56:09.830895Z"
    },
    "papermill": {
     "duration": 0.12468,
     "end_time": "2022-03-04T12:09:01.238356",
     "exception": false,
     "start_time": "2022-03-04T12:09:01.113676",
     "status": "completed"
    },
    "tags": []
   },
   "outputs": [
    {
     "data": {
      "text/plain": [
       "3.0    155\n",
       "4.0    144\n",
       "2.0     92\n",
       "1.0     21\n",
       "Name: Stage, dtype: int64"
      ]
     },
     "execution_count": 7,
     "metadata": {},
     "output_type": "execute_result"
    }
   ],
   "source": [
    "df_val['Stage'].value_counts()"
   ]
  },
  {
   "cell_type": "markdown",
   "id": "38f80f33",
   "metadata": {
    "papermill": {
     "duration": 0.112391,
     "end_time": "2022-03-04T12:09:01.462493",
     "exception": false,
     "start_time": "2022-03-04T12:09:01.350102",
     "status": "completed"
    },
    "tags": []
   },
   "source": [
    "# ENCODING OPERATION \n",
    "Encoding categorical columns using Ordinal Encoding in the following way:\n",
    "* Spiders:       Y = 1 and N = 0\n",
    "* Hepatomegaly:  Y = 1 and N = 0\n",
    "* Ascites:       Y = 1 and N = 0\n",
    "* Drug:          D-penicillamine = 0 and Placebo = 1  (reason for this particular encoding is explained later)\n",
    "* Edema:         N = -1, S = 0, Y = 1\n",
    "* Status:        D = -1, CL = 0, C = 1\n",
    "\n",
    "For Sex, One Hot Encoding is performed."
   ]
  },
  {
   "cell_type": "code",
   "execution_count": 8,
   "id": "030da234",
   "metadata": {
    "execution": {
     "iopub.execute_input": "2022-03-04T12:09:01.607672Z",
     "iopub.status.busy": "2022-03-04T12:09:01.606938Z",
     "iopub.status.idle": "2022-03-04T12:09:02.483554Z",
     "shell.execute_reply": "2022-03-04T12:09:02.482960Z",
     "shell.execute_reply.started": "2022-03-04T11:56:09.844360Z"
    },
    "papermill": {
     "duration": 0.953536,
     "end_time": "2022-03-04T12:09:02.483686",
     "exception": false,
     "start_time": "2022-03-04T12:09:01.530150",
     "status": "completed"
    },
    "tags": []
   },
   "outputs": [],
   "source": [
    "def EncodeAll(df):\n",
    "    from sklearn.preprocessing import OrdinalEncoder\n",
    "\n",
    "    df[\"NaN_Drug\"] = df[\"Drug\"].isna()\n",
    "    df_copy = df.copy()\n",
    "    ordinal_encoder = OrdinalEncoder()\n",
    "    col_dict = {\"Y\": 1, \"N\": 0}\n",
    "    df_copy[\"Spiders\"].replace(col_dict, inplace=True)\n",
    "    df_copy[\"Hepatomegaly\"].replace(col_dict, inplace=True)\n",
    "    df_copy[\"Ascites\"].replace(col_dict, inplace=True)\n",
    "    df_copy[\"Drug\"].replace({\"D-penicillamine\": 0, \"Placebo\": 1}, inplace = True)\n",
    "    df_copy[\"Edema\"].replace({\"N\": -1, \"S\": 0, \"Y\": 1}, inplace = True)\n",
    "    df_copy[\"Status\"].replace({\"D\": -1, \"CL\": 0, \"C\": 1}, inplace = True)\n",
    "\n",
    "\n",
    "    from sklearn.preprocessing import OneHotEncoder\n",
    "\n",
    "\n",
    "    OH_encoder = OneHotEncoder(handle_unknown='ignore', sparse=False)\n",
    "    df_OHE = pd.DataFrame(OH_encoder.fit_transform(df_copy[[\"Sex\"]]))\n",
    "    df_OHE.index = df_copy.index\n",
    "\n",
    "    df_encoded = df_copy.drop([\"Sex\"], axis=1)\n",
    "    encoded_cols = list(OH_encoder.get_feature_names([\"Sex\"]))\n",
    "    df_encoded[encoded_cols] = OH_encoder.transform(df_copy[[\"Sex\"]])\n",
    "\n",
    "    return df_encoded\n",
    "\n",
    "df_encoded = EncodeAll(df)\n",
    "df_encoded_val = EncodeAll(df_val)\n"
   ]
  },
  {
   "cell_type": "markdown",
   "id": "01a1a4bf",
   "metadata": {
    "papermill": {
     "duration": 0.067829,
     "end_time": "2022-03-04T12:09:02.619886",
     "exception": false,
     "start_time": "2022-03-04T12:09:02.552057",
     "status": "completed"
    },
    "tags": []
   },
   "source": [
    "Due to the presence of ambiguity (missing values) of which drug was administered to patients, a separate column has been created which keeps track of this ambiguity in form of boolean data.\\\n",
    "This column represents which all samples/patients previously had `NaN` in Drug column."
   ]
  },
  {
   "cell_type": "markdown",
   "id": "d9a83946",
   "metadata": {
    "papermill": {
     "duration": 0.067234,
     "end_time": "2022-03-04T12:09:02.754401",
     "exception": false,
     "start_time": "2022-03-04T12:09:02.687167",
     "status": "completed"
    },
    "tags": []
   },
   "source": [
    "# IMPUTATION OPERATION\n",
    "Number of missing values per feature:\n"
   ]
  },
  {
   "cell_type": "code",
   "execution_count": 9,
   "id": "0d9cc0d6",
   "metadata": {
    "execution": {
     "iopub.execute_input": "2022-03-04T12:09:02.899618Z",
     "iopub.status.busy": "2022-03-04T12:09:02.894122Z",
     "iopub.status.idle": "2022-03-04T12:09:02.905961Z",
     "shell.execute_reply": "2022-03-04T12:09:02.905574Z",
     "shell.execute_reply.started": "2022-03-04T11:56:09.921070Z"
    },
    "papermill": {
     "duration": 0.084618,
     "end_time": "2022-03-04T12:09:02.906098",
     "exception": false,
     "start_time": "2022-03-04T12:09:02.821480",
     "status": "completed"
    },
    "tags": []
   },
   "outputs": [
    {
     "data": {
      "text/plain": [
       "ID                  0\n",
       "N_Days              0\n",
       "Status              0\n",
       "Drug             2025\n",
       "Age                 0\n",
       "Sex                 0\n",
       "Ascites          2246\n",
       "Hepatomegaly     2427\n",
       "Spiders          2590\n",
       "Edema               0\n",
       "Bilirubin           0\n",
       "Cholesterol      3101\n",
       "Albumin             0\n",
       "Copper           2156\n",
       "Alk_Phos         2498\n",
       "SGOT             2102\n",
       "Tryglicerides    2812\n",
       "Platelets         338\n",
       "Prothrombin       155\n",
       "Stage               0\n",
       "NaN_Drug            0\n",
       "dtype: int64"
      ]
     },
     "execution_count": 9,
     "metadata": {},
     "output_type": "execute_result"
    }
   ],
   "source": [
    "df.isna().sum()"
   ]
  },
  {
   "cell_type": "code",
   "execution_count": 10,
   "id": "54ef8a48",
   "metadata": {
    "execution": {
     "iopub.execute_input": "2022-03-04T12:09:03.051711Z",
     "iopub.status.busy": "2022-03-04T12:09:03.051019Z",
     "iopub.status.idle": "2022-03-04T12:09:03.053989Z",
     "shell.execute_reply": "2022-03-04T12:09:03.054428Z",
     "shell.execute_reply.started": "2022-03-04T11:56:09.938385Z"
    },
    "papermill": {
     "duration": 0.079863,
     "end_time": "2022-03-04T12:09:03.054546",
     "exception": false,
     "start_time": "2022-03-04T12:09:02.974683",
     "status": "completed"
    },
    "tags": []
   },
   "outputs": [
    {
     "data": {
      "text/plain": [
       "ID                 0\n",
       "N_Days             0\n",
       "Status             0\n",
       "Drug             106\n",
       "Age                0\n",
       "Sex                0\n",
       "Ascites          106\n",
       "Hepatomegaly     106\n",
       "Spiders          106\n",
       "Edema              0\n",
       "Bilirubin          0\n",
       "Cholesterol      134\n",
       "Albumin            0\n",
       "Copper           108\n",
       "Alk_Phos         106\n",
       "SGOT             106\n",
       "Tryglicerides    136\n",
       "Platelets         11\n",
       "Prothrombin        2\n",
       "Stage              6\n",
       "NaN_Drug           0\n",
       "dtype: int64"
      ]
     },
     "execution_count": 10,
     "metadata": {},
     "output_type": "execute_result"
    }
   ],
   "source": [
    "df_val.isna().sum()"
   ]
  },
  {
   "cell_type": "markdown",
   "id": "858f254b",
   "metadata": {
    "papermill": {
     "duration": 0.068179,
     "end_time": "2022-03-04T12:09:03.190778",
     "exception": false,
     "start_time": "2022-03-04T12:09:03.122599",
     "status": "completed"
    },
    "tags": []
   },
   "source": [
    "Using KNNImputer for imputing the missing values in the features. \\\n",
    "It is a more useful method which works on the basic approach of the KNN algorithm rather than the naive approach of filling all the values with mean or the median."
   ]
  },
  {
   "cell_type": "code",
   "execution_count": 11,
   "id": "6d6f093e",
   "metadata": {
    "execution": {
     "iopub.execute_input": "2022-03-04T12:09:03.333040Z",
     "iopub.status.busy": "2022-03-04T12:09:03.332418Z",
     "iopub.status.idle": "2022-03-04T12:09:08.430754Z",
     "shell.execute_reply": "2022-03-04T12:09:08.431858Z",
     "shell.execute_reply.started": "2022-03-04T11:56:09.953268Z"
    },
    "papermill": {
     "duration": 5.172398,
     "end_time": "2022-03-04T12:09:08.432117",
     "exception": false,
     "start_time": "2022-03-04T12:09:03.259719",
     "status": "completed"
    },
    "tags": []
   },
   "outputs": [],
   "source": [
    "#Imputation\n",
    "import numpy as np\n",
    "from sklearn.impute import KNNImputer\n",
    "import pandas as pd\n",
    "\n",
    "def ImputeAll(df_encoded):\n",
    "    imputer = KNNImputer(n_neighbors =5)                              #Mess around with n_neighbors to improve accuracy in the end model\n",
    "    imputed_data = imputer.fit_transform(df_encoded) \n",
    "    df_imputed = pd.DataFrame(imputed_data)\n",
    "    df_imputed.columns = df_encoded.columns\n",
    "    del imputer\n",
    "\n",
    "    return df_imputed\n",
    "\n",
    "df_imputed = ImputeAll(df_encoded)\n",
    "df_imputed_val = ImputeAll(df_encoded_val)"
   ]
  },
  {
   "cell_type": "code",
   "execution_count": 12,
   "id": "b08c62c2",
   "metadata": {
    "execution": {
     "iopub.execute_input": "2022-03-04T12:09:08.623473Z",
     "iopub.status.busy": "2022-03-04T12:09:08.622521Z",
     "iopub.status.idle": "2022-03-04T12:09:08.629731Z",
     "shell.execute_reply": "2022-03-04T12:09:08.629330Z",
     "shell.execute_reply.started": "2022-03-04T11:56:16.133115Z"
    },
    "papermill": {
     "duration": 0.078988,
     "end_time": "2022-03-04T12:09:08.629841",
     "exception": false,
     "start_time": "2022-03-04T12:09:08.550853",
     "status": "completed"
    },
    "tags": []
   },
   "outputs": [
    {
     "data": {
      "text/plain": [
       "ID               0\n",
       "N_Days           0\n",
       "Status           0\n",
       "Drug             0\n",
       "Age              0\n",
       "Ascites          0\n",
       "Hepatomegaly     0\n",
       "Spiders          0\n",
       "Edema            0\n",
       "Bilirubin        0\n",
       "Cholesterol      0\n",
       "Albumin          0\n",
       "Copper           0\n",
       "Alk_Phos         0\n",
       "SGOT             0\n",
       "Tryglicerides    0\n",
       "Platelets        0\n",
       "Prothrombin      0\n",
       "Stage            0\n",
       "NaN_Drug         0\n",
       "Sex_F            0\n",
       "Sex_M            0\n",
       "dtype: int64"
      ]
     },
     "execution_count": 12,
     "metadata": {},
     "output_type": "execute_result"
    }
   ],
   "source": [
    "df_imputed.isna().sum()"
   ]
  },
  {
   "cell_type": "code",
   "execution_count": 13,
   "id": "9b2539ba",
   "metadata": {
    "execution": {
     "iopub.execute_input": "2022-03-04T12:09:08.773976Z",
     "iopub.status.busy": "2022-03-04T12:09:08.773279Z",
     "iopub.status.idle": "2022-03-04T12:09:08.775960Z",
     "shell.execute_reply": "2022-03-04T12:09:08.776477Z",
     "shell.execute_reply.started": "2022-03-04T11:56:16.151987Z"
    },
    "papermill": {
     "duration": 0.077871,
     "end_time": "2022-03-04T12:09:08.776598",
     "exception": false,
     "start_time": "2022-03-04T12:09:08.698727",
     "status": "completed"
    },
    "tags": []
   },
   "outputs": [
    {
     "data": {
      "text/plain": [
       "ID               0\n",
       "N_Days           0\n",
       "Status           0\n",
       "Drug             0\n",
       "Age              0\n",
       "Ascites          0\n",
       "Hepatomegaly     0\n",
       "Spiders          0\n",
       "Edema            0\n",
       "Bilirubin        0\n",
       "Cholesterol      0\n",
       "Albumin          0\n",
       "Copper           0\n",
       "Alk_Phos         0\n",
       "SGOT             0\n",
       "Tryglicerides    0\n",
       "Platelets        0\n",
       "Prothrombin      0\n",
       "Stage            0\n",
       "NaN_Drug         0\n",
       "Sex_F            0\n",
       "Sex_M            0\n",
       "dtype: int64"
      ]
     },
     "execution_count": 13,
     "metadata": {},
     "output_type": "execute_result"
    }
   ],
   "source": [
    "df_imputed_val.isna().sum()"
   ]
  },
  {
   "cell_type": "markdown",
   "id": "b30da5ae",
   "metadata": {
    "papermill": {
     "duration": 0.078209,
     "end_time": "2022-03-04T12:09:08.923209",
     "exception": false,
     "start_time": "2022-03-04T12:09:08.845000",
     "status": "completed"
    },
    "tags": []
   },
   "source": [
    "All missing values have been accounted for."
   ]
  },
  {
   "cell_type": "code",
   "execution_count": 14,
   "id": "9d9d2e88",
   "metadata": {
    "execution": {
     "iopub.execute_input": "2022-03-04T12:09:09.068814Z",
     "iopub.status.busy": "2022-03-04T12:09:09.066837Z",
     "iopub.status.idle": "2022-03-04T12:09:09.129658Z",
     "shell.execute_reply": "2022-03-04T12:09:09.130041Z",
     "shell.execute_reply.started": "2022-03-04T11:56:16.177940Z"
    },
    "papermill": {
     "duration": 0.138209,
     "end_time": "2022-03-04T12:09:09.130204",
     "exception": false,
     "start_time": "2022-03-04T12:09:08.991995",
     "status": "completed"
    },
    "tags": []
   },
   "outputs": [
    {
     "data": {
      "text/html": [
       "<div>\n",
       "<style scoped>\n",
       "    .dataframe tbody tr th:only-of-type {\n",
       "        vertical-align: middle;\n",
       "    }\n",
       "\n",
       "    .dataframe tbody tr th {\n",
       "        vertical-align: top;\n",
       "    }\n",
       "\n",
       "    .dataframe thead th {\n",
       "        text-align: right;\n",
       "    }\n",
       "</style>\n",
       "<table border=\"1\" class=\"dataframe\">\n",
       "  <thead>\n",
       "    <tr style=\"text-align: right;\">\n",
       "      <th></th>\n",
       "      <th>ID</th>\n",
       "      <th>N_Days</th>\n",
       "      <th>Status</th>\n",
       "      <th>Drug</th>\n",
       "      <th>Age</th>\n",
       "      <th>Ascites</th>\n",
       "      <th>Hepatomegaly</th>\n",
       "      <th>Spiders</th>\n",
       "      <th>Edema</th>\n",
       "      <th>Bilirubin</th>\n",
       "      <th>...</th>\n",
       "      <th>Copper</th>\n",
       "      <th>Alk_Phos</th>\n",
       "      <th>SGOT</th>\n",
       "      <th>Tryglicerides</th>\n",
       "      <th>Platelets</th>\n",
       "      <th>Prothrombin</th>\n",
       "      <th>Stage</th>\n",
       "      <th>NaN_Drug</th>\n",
       "      <th>Sex_F</th>\n",
       "      <th>Sex_M</th>\n",
       "    </tr>\n",
       "  </thead>\n",
       "  <tbody>\n",
       "    <tr>\n",
       "      <th>count</th>\n",
       "      <td>6800.000000</td>\n",
       "      <td>6800.000000</td>\n",
       "      <td>6800.000000</td>\n",
       "      <td>6800.000000</td>\n",
       "      <td>6800.000000</td>\n",
       "      <td>6800.000000</td>\n",
       "      <td>6800.000000</td>\n",
       "      <td>6800.000000</td>\n",
       "      <td>6800.000000</td>\n",
       "      <td>6800.000000</td>\n",
       "      <td>...</td>\n",
       "      <td>6800.000000</td>\n",
       "      <td>6800.000000</td>\n",
       "      <td>6800.000000</td>\n",
       "      <td>6800.000000</td>\n",
       "      <td>6800.000000</td>\n",
       "      <td>6800.000000</td>\n",
       "      <td>6800.000000</td>\n",
       "      <td>6800.000000</td>\n",
       "      <td>6800.000000</td>\n",
       "      <td>6800.000000</td>\n",
       "    </tr>\n",
       "    <tr>\n",
       "      <th>mean</th>\n",
       "      <td>6268.608088</td>\n",
       "      <td>1664.055441</td>\n",
       "      <td>0.150588</td>\n",
       "      <td>0.489676</td>\n",
       "      <td>22863.223529</td>\n",
       "      <td>0.126706</td>\n",
       "      <td>0.420235</td>\n",
       "      <td>0.309735</td>\n",
       "      <td>-0.716912</td>\n",
       "      <td>1.806147</td>\n",
       "      <td>...</td>\n",
       "      <td>68.795735</td>\n",
       "      <td>1797.753232</td>\n",
       "      <td>79.399043</td>\n",
       "      <td>134.079618</td>\n",
       "      <td>293.367824</td>\n",
       "      <td>11.231056</td>\n",
       "      <td>3.157206</td>\n",
       "      <td>0.297794</td>\n",
       "      <td>0.858088</td>\n",
       "      <td>0.141912</td>\n",
       "    </tr>\n",
       "    <tr>\n",
       "      <th>std</th>\n",
       "      <td>2405.527133</td>\n",
       "      <td>1332.308135</td>\n",
       "      <td>0.947807</td>\n",
       "      <td>0.436528</td>\n",
       "      <td>4671.135682</td>\n",
       "      <td>0.286283</td>\n",
       "      <td>0.417308</td>\n",
       "      <td>0.385804</td>\n",
       "      <td>0.579349</td>\n",
       "      <td>3.218009</td>\n",
       "      <td>...</td>\n",
       "      <td>51.596268</td>\n",
       "      <td>1350.931405</td>\n",
       "      <td>37.628954</td>\n",
       "      <td>38.870722</td>\n",
       "      <td>112.937967</td>\n",
       "      <td>1.113798</td>\n",
       "      <td>0.993059</td>\n",
       "      <td>0.457322</td>\n",
       "      <td>0.348985</td>\n",
       "      <td>0.348985</td>\n",
       "    </tr>\n",
       "    <tr>\n",
       "      <th>min</th>\n",
       "      <td>1239.000000</td>\n",
       "      <td>41.000000</td>\n",
       "      <td>-1.000000</td>\n",
       "      <td>0.000000</td>\n",
       "      <td>9598.000000</td>\n",
       "      <td>0.000000</td>\n",
       "      <td>0.000000</td>\n",
       "      <td>0.000000</td>\n",
       "      <td>-1.000000</td>\n",
       "      <td>0.300000</td>\n",
       "      <td>...</td>\n",
       "      <td>4.000000</td>\n",
       "      <td>289.000000</td>\n",
       "      <td>26.350000</td>\n",
       "      <td>33.000000</td>\n",
       "      <td>62.000000</td>\n",
       "      <td>9.000000</td>\n",
       "      <td>1.000000</td>\n",
       "      <td>0.000000</td>\n",
       "      <td>0.000000</td>\n",
       "      <td>0.000000</td>\n",
       "    </tr>\n",
       "    <tr>\n",
       "      <th>25%</th>\n",
       "      <td>4353.750000</td>\n",
       "      <td>537.000000</td>\n",
       "      <td>-1.000000</td>\n",
       "      <td>0.000000</td>\n",
       "      <td>19416.500000</td>\n",
       "      <td>0.000000</td>\n",
       "      <td>0.000000</td>\n",
       "      <td>0.000000</td>\n",
       "      <td>-1.000000</td>\n",
       "      <td>0.300000</td>\n",
       "      <td>...</td>\n",
       "      <td>39.000000</td>\n",
       "      <td>1239.455000</td>\n",
       "      <td>48.067500</td>\n",
       "      <td>117.000000</td>\n",
       "      <td>216.000000</td>\n",
       "      <td>10.500000</td>\n",
       "      <td>2.000000</td>\n",
       "      <td>0.000000</td>\n",
       "      <td>1.000000</td>\n",
       "      <td>0.000000</td>\n",
       "    </tr>\n",
       "    <tr>\n",
       "      <th>50%</th>\n",
       "      <td>6599.500000</td>\n",
       "      <td>1443.000000</td>\n",
       "      <td>1.000000</td>\n",
       "      <td>0.400000</td>\n",
       "      <td>23367.000000</td>\n",
       "      <td>0.000000</td>\n",
       "      <td>0.400000</td>\n",
       "      <td>0.200000</td>\n",
       "      <td>-1.000000</td>\n",
       "      <td>0.400000</td>\n",
       "      <td>...</td>\n",
       "      <td>67.000000</td>\n",
       "      <td>1581.450000</td>\n",
       "      <td>80.766000</td>\n",
       "      <td>129.400000</td>\n",
       "      <td>286.000000</td>\n",
       "      <td>11.100000</td>\n",
       "      <td>4.000000</td>\n",
       "      <td>0.000000</td>\n",
       "      <td>1.000000</td>\n",
       "      <td>0.000000</td>\n",
       "    </tr>\n",
       "    <tr>\n",
       "      <th>75%</th>\n",
       "      <td>8299.250000</td>\n",
       "      <td>2519.000000</td>\n",
       "      <td>1.000000</td>\n",
       "      <td>1.000000</td>\n",
       "      <td>27125.500000</td>\n",
       "      <td>0.000000</td>\n",
       "      <td>1.000000</td>\n",
       "      <td>0.600000</td>\n",
       "      <td>-1.000000</td>\n",
       "      <td>1.800000</td>\n",
       "      <td>...</td>\n",
       "      <td>88.600000</td>\n",
       "      <td>2008.310000</td>\n",
       "      <td>106.112500</td>\n",
       "      <td>144.000000</td>\n",
       "      <td>363.000000</td>\n",
       "      <td>11.700000</td>\n",
       "      <td>4.000000</td>\n",
       "      <td>1.000000</td>\n",
       "      <td>1.000000</td>\n",
       "      <td>0.000000</td>\n",
       "    </tr>\n",
       "    <tr>\n",
       "      <th>max</th>\n",
       "      <td>9999.000000</td>\n",
       "      <td>4795.000000</td>\n",
       "      <td>1.000000</td>\n",
       "      <td>1.000000</td>\n",
       "      <td>28650.000000</td>\n",
       "      <td>1.000000</td>\n",
       "      <td>1.000000</td>\n",
       "      <td>1.000000</td>\n",
       "      <td>1.000000</td>\n",
       "      <td>28.000000</td>\n",
       "      <td>...</td>\n",
       "      <td>588.000000</td>\n",
       "      <td>13862.400000</td>\n",
       "      <td>340.480000</td>\n",
       "      <td>498.000000</td>\n",
       "      <td>563.000000</td>\n",
       "      <td>18.000000</td>\n",
       "      <td>4.000000</td>\n",
       "      <td>1.000000</td>\n",
       "      <td>1.000000</td>\n",
       "      <td>1.000000</td>\n",
       "    </tr>\n",
       "  </tbody>\n",
       "</table>\n",
       "<p>8 rows × 22 columns</p>\n",
       "</div>"
      ],
      "text/plain": [
       "                ID       N_Days       Status         Drug           Age  \\\n",
       "count  6800.000000  6800.000000  6800.000000  6800.000000   6800.000000   \n",
       "mean   6268.608088  1664.055441     0.150588     0.489676  22863.223529   \n",
       "std    2405.527133  1332.308135     0.947807     0.436528   4671.135682   \n",
       "min    1239.000000    41.000000    -1.000000     0.000000   9598.000000   \n",
       "25%    4353.750000   537.000000    -1.000000     0.000000  19416.500000   \n",
       "50%    6599.500000  1443.000000     1.000000     0.400000  23367.000000   \n",
       "75%    8299.250000  2519.000000     1.000000     1.000000  27125.500000   \n",
       "max    9999.000000  4795.000000     1.000000     1.000000  28650.000000   \n",
       "\n",
       "           Ascites  Hepatomegaly      Spiders        Edema    Bilirubin  ...  \\\n",
       "count  6800.000000   6800.000000  6800.000000  6800.000000  6800.000000  ...   \n",
       "mean      0.126706      0.420235     0.309735    -0.716912     1.806147  ...   \n",
       "std       0.286283      0.417308     0.385804     0.579349     3.218009  ...   \n",
       "min       0.000000      0.000000     0.000000    -1.000000     0.300000  ...   \n",
       "25%       0.000000      0.000000     0.000000    -1.000000     0.300000  ...   \n",
       "50%       0.000000      0.400000     0.200000    -1.000000     0.400000  ...   \n",
       "75%       0.000000      1.000000     0.600000    -1.000000     1.800000  ...   \n",
       "max       1.000000      1.000000     1.000000     1.000000    28.000000  ...   \n",
       "\n",
       "            Copper      Alk_Phos         SGOT  Tryglicerides    Platelets  \\\n",
       "count  6800.000000   6800.000000  6800.000000    6800.000000  6800.000000   \n",
       "mean     68.795735   1797.753232    79.399043     134.079618   293.367824   \n",
       "std      51.596268   1350.931405    37.628954      38.870722   112.937967   \n",
       "min       4.000000    289.000000    26.350000      33.000000    62.000000   \n",
       "25%      39.000000   1239.455000    48.067500     117.000000   216.000000   \n",
       "50%      67.000000   1581.450000    80.766000     129.400000   286.000000   \n",
       "75%      88.600000   2008.310000   106.112500     144.000000   363.000000   \n",
       "max     588.000000  13862.400000   340.480000     498.000000   563.000000   \n",
       "\n",
       "       Prothrombin        Stage     NaN_Drug        Sex_F        Sex_M  \n",
       "count  6800.000000  6800.000000  6800.000000  6800.000000  6800.000000  \n",
       "mean     11.231056     3.157206     0.297794     0.858088     0.141912  \n",
       "std       1.113798     0.993059     0.457322     0.348985     0.348985  \n",
       "min       9.000000     1.000000     0.000000     0.000000     0.000000  \n",
       "25%      10.500000     2.000000     0.000000     1.000000     0.000000  \n",
       "50%      11.100000     4.000000     0.000000     1.000000     0.000000  \n",
       "75%      11.700000     4.000000     1.000000     1.000000     0.000000  \n",
       "max      18.000000     4.000000     1.000000     1.000000     1.000000  \n",
       "\n",
       "[8 rows x 22 columns]"
      ]
     },
     "execution_count": 14,
     "metadata": {},
     "output_type": "execute_result"
    }
   ],
   "source": [
    "df_imputed.describe()"
   ]
  },
  {
   "cell_type": "code",
   "execution_count": 15,
   "id": "7a4944fb",
   "metadata": {
    "execution": {
     "iopub.execute_input": "2022-03-04T12:09:09.275810Z",
     "iopub.status.busy": "2022-03-04T12:09:09.274992Z",
     "iopub.status.idle": "2022-03-04T12:09:09.327892Z",
     "shell.execute_reply": "2022-03-04T12:09:09.328322Z",
     "shell.execute_reply.started": "2022-03-04T11:56:16.287449Z"
    },
    "papermill": {
     "duration": 0.127496,
     "end_time": "2022-03-04T12:09:09.328454",
     "exception": false,
     "start_time": "2022-03-04T12:09:09.200958",
     "status": "completed"
    },
    "tags": []
   },
   "outputs": [
    {
     "data": {
      "text/html": [
       "<div>\n",
       "<style scoped>\n",
       "    .dataframe tbody tr th:only-of-type {\n",
       "        vertical-align: middle;\n",
       "    }\n",
       "\n",
       "    .dataframe tbody tr th {\n",
       "        vertical-align: top;\n",
       "    }\n",
       "\n",
       "    .dataframe thead th {\n",
       "        text-align: right;\n",
       "    }\n",
       "</style>\n",
       "<table border=\"1\" class=\"dataframe\">\n",
       "  <thead>\n",
       "    <tr style=\"text-align: right;\">\n",
       "      <th></th>\n",
       "      <th>ID</th>\n",
       "      <th>N_Days</th>\n",
       "      <th>Status</th>\n",
       "      <th>Drug</th>\n",
       "      <th>Age</th>\n",
       "      <th>Ascites</th>\n",
       "      <th>Hepatomegaly</th>\n",
       "      <th>Spiders</th>\n",
       "      <th>Edema</th>\n",
       "      <th>Bilirubin</th>\n",
       "      <th>...</th>\n",
       "      <th>Copper</th>\n",
       "      <th>Alk_Phos</th>\n",
       "      <th>SGOT</th>\n",
       "      <th>Tryglicerides</th>\n",
       "      <th>Platelets</th>\n",
       "      <th>Prothrombin</th>\n",
       "      <th>Stage</th>\n",
       "      <th>NaN_Drug</th>\n",
       "      <th>Sex_F</th>\n",
       "      <th>Sex_M</th>\n",
       "    </tr>\n",
       "  </thead>\n",
       "  <tbody>\n",
       "    <tr>\n",
       "      <th>count</th>\n",
       "      <td>418.000000</td>\n",
       "      <td>418.000000</td>\n",
       "      <td>418.000000</td>\n",
       "      <td>418.000000</td>\n",
       "      <td>418.000000</td>\n",
       "      <td>418.000000</td>\n",
       "      <td>418.000000</td>\n",
       "      <td>418.000000</td>\n",
       "      <td>418.000000</td>\n",
       "      <td>418.000000</td>\n",
       "      <td>...</td>\n",
       "      <td>418.000000</td>\n",
       "      <td>418.000000</td>\n",
       "      <td>418.000000</td>\n",
       "      <td>418.000000</td>\n",
       "      <td>418.000000</td>\n",
       "      <td>418.000000</td>\n",
       "      <td>418.000000</td>\n",
       "      <td>418.000000</td>\n",
       "      <td>418.000000</td>\n",
       "      <td>418.000000</td>\n",
       "    </tr>\n",
       "    <tr>\n",
       "      <th>mean</th>\n",
       "      <td>209.500000</td>\n",
       "      <td>1917.782297</td>\n",
       "      <td>0.169856</td>\n",
       "      <td>0.489952</td>\n",
       "      <td>18533.351675</td>\n",
       "      <td>0.075120</td>\n",
       "      <td>0.535407</td>\n",
       "      <td>0.295694</td>\n",
       "      <td>-0.799043</td>\n",
       "      <td>3.220813</td>\n",
       "      <td>...</td>\n",
       "      <td>99.300957</td>\n",
       "      <td>1969.008708</td>\n",
       "      <td>123.565407</td>\n",
       "      <td>126.567464</td>\n",
       "      <td>257.155981</td>\n",
       "      <td>10.731914</td>\n",
       "      <td>3.025359</td>\n",
       "      <td>0.253589</td>\n",
       "      <td>0.894737</td>\n",
       "      <td>0.105263</td>\n",
       "    </tr>\n",
       "    <tr>\n",
       "      <th>std</th>\n",
       "      <td>120.810458</td>\n",
       "      <td>1104.672992</td>\n",
       "      <td>0.955785</td>\n",
       "      <td>0.445327</td>\n",
       "      <td>3815.845055</td>\n",
       "      <td>0.239109</td>\n",
       "      <td>0.456385</td>\n",
       "      <td>0.409047</td>\n",
       "      <td>0.506835</td>\n",
       "      <td>4.407506</td>\n",
       "      <td>...</td>\n",
       "      <td>78.205649</td>\n",
       "      <td>1894.333743</td>\n",
       "      <td>51.419009</td>\n",
       "      <td>57.180801</td>\n",
       "      <td>97.171137</td>\n",
       "      <td>1.019985</td>\n",
       "      <td>0.877006</td>\n",
       "      <td>0.435586</td>\n",
       "      <td>0.307260</td>\n",
       "      <td>0.307260</td>\n",
       "    </tr>\n",
       "    <tr>\n",
       "      <th>min</th>\n",
       "      <td>1.000000</td>\n",
       "      <td>41.000000</td>\n",
       "      <td>-1.000000</td>\n",
       "      <td>0.000000</td>\n",
       "      <td>9598.000000</td>\n",
       "      <td>0.000000</td>\n",
       "      <td>0.000000</td>\n",
       "      <td>0.000000</td>\n",
       "      <td>-1.000000</td>\n",
       "      <td>0.300000</td>\n",
       "      <td>...</td>\n",
       "      <td>4.000000</td>\n",
       "      <td>289.000000</td>\n",
       "      <td>26.350000</td>\n",
       "      <td>33.000000</td>\n",
       "      <td>62.000000</td>\n",
       "      <td>9.000000</td>\n",
       "      <td>1.000000</td>\n",
       "      <td>0.000000</td>\n",
       "      <td>0.000000</td>\n",
       "      <td>0.000000</td>\n",
       "    </tr>\n",
       "    <tr>\n",
       "      <th>25%</th>\n",
       "      <td>105.250000</td>\n",
       "      <td>1092.750000</td>\n",
       "      <td>-1.000000</td>\n",
       "      <td>0.000000</td>\n",
       "      <td>15644.500000</td>\n",
       "      <td>0.000000</td>\n",
       "      <td>0.000000</td>\n",
       "      <td>0.000000</td>\n",
       "      <td>-1.000000</td>\n",
       "      <td>0.800000</td>\n",
       "      <td>...</td>\n",
       "      <td>46.200000</td>\n",
       "      <td>987.500000</td>\n",
       "      <td>86.809000</td>\n",
       "      <td>91.000000</td>\n",
       "      <td>190.000000</td>\n",
       "      <td>10.000000</td>\n",
       "      <td>2.000000</td>\n",
       "      <td>0.000000</td>\n",
       "      <td>1.000000</td>\n",
       "      <td>0.000000</td>\n",
       "    </tr>\n",
       "    <tr>\n",
       "      <th>50%</th>\n",
       "      <td>209.500000</td>\n",
       "      <td>1730.000000</td>\n",
       "      <td>1.000000</td>\n",
       "      <td>0.400000</td>\n",
       "      <td>18628.000000</td>\n",
       "      <td>0.000000</td>\n",
       "      <td>0.600000</td>\n",
       "      <td>0.000000</td>\n",
       "      <td>-1.000000</td>\n",
       "      <td>1.400000</td>\n",
       "      <td>...</td>\n",
       "      <td>76.000000</td>\n",
       "      <td>1424.800000</td>\n",
       "      <td>119.350000</td>\n",
       "      <td>116.400000</td>\n",
       "      <td>251.500000</td>\n",
       "      <td>10.600000</td>\n",
       "      <td>3.000000</td>\n",
       "      <td>0.000000</td>\n",
       "      <td>1.000000</td>\n",
       "      <td>0.000000</td>\n",
       "    </tr>\n",
       "    <tr>\n",
       "      <th>75%</th>\n",
       "      <td>313.750000</td>\n",
       "      <td>2613.500000</td>\n",
       "      <td>1.000000</td>\n",
       "      <td>1.000000</td>\n",
       "      <td>21272.500000</td>\n",
       "      <td>0.000000</td>\n",
       "      <td>1.000000</td>\n",
       "      <td>0.600000</td>\n",
       "      <td>-1.000000</td>\n",
       "      <td>3.400000</td>\n",
       "      <td>...</td>\n",
       "      <td>130.750000</td>\n",
       "      <td>2163.200000</td>\n",
       "      <td>150.272500</td>\n",
       "      <td>146.450000</td>\n",
       "      <td>315.500000</td>\n",
       "      <td>11.100000</td>\n",
       "      <td>4.000000</td>\n",
       "      <td>1.000000</td>\n",
       "      <td>1.000000</td>\n",
       "      <td>0.000000</td>\n",
       "    </tr>\n",
       "    <tr>\n",
       "      <th>max</th>\n",
       "      <td>418.000000</td>\n",
       "      <td>4795.000000</td>\n",
       "      <td>1.000000</td>\n",
       "      <td>1.000000</td>\n",
       "      <td>28650.000000</td>\n",
       "      <td>1.000000</td>\n",
       "      <td>1.000000</td>\n",
       "      <td>1.000000</td>\n",
       "      <td>1.000000</td>\n",
       "      <td>28.000000</td>\n",
       "      <td>...</td>\n",
       "      <td>588.000000</td>\n",
       "      <td>13862.400000</td>\n",
       "      <td>457.250000</td>\n",
       "      <td>598.000000</td>\n",
       "      <td>721.000000</td>\n",
       "      <td>18.000000</td>\n",
       "      <td>4.000000</td>\n",
       "      <td>1.000000</td>\n",
       "      <td>1.000000</td>\n",
       "      <td>1.000000</td>\n",
       "    </tr>\n",
       "  </tbody>\n",
       "</table>\n",
       "<p>8 rows × 22 columns</p>\n",
       "</div>"
      ],
      "text/plain": [
       "               ID       N_Days      Status        Drug           Age  \\\n",
       "count  418.000000   418.000000  418.000000  418.000000    418.000000   \n",
       "mean   209.500000  1917.782297    0.169856    0.489952  18533.351675   \n",
       "std    120.810458  1104.672992    0.955785    0.445327   3815.845055   \n",
       "min      1.000000    41.000000   -1.000000    0.000000   9598.000000   \n",
       "25%    105.250000  1092.750000   -1.000000    0.000000  15644.500000   \n",
       "50%    209.500000  1730.000000    1.000000    0.400000  18628.000000   \n",
       "75%    313.750000  2613.500000    1.000000    1.000000  21272.500000   \n",
       "max    418.000000  4795.000000    1.000000    1.000000  28650.000000   \n",
       "\n",
       "          Ascites  Hepatomegaly     Spiders       Edema   Bilirubin  ...  \\\n",
       "count  418.000000    418.000000  418.000000  418.000000  418.000000  ...   \n",
       "mean     0.075120      0.535407    0.295694   -0.799043    3.220813  ...   \n",
       "std      0.239109      0.456385    0.409047    0.506835    4.407506  ...   \n",
       "min      0.000000      0.000000    0.000000   -1.000000    0.300000  ...   \n",
       "25%      0.000000      0.000000    0.000000   -1.000000    0.800000  ...   \n",
       "50%      0.000000      0.600000    0.000000   -1.000000    1.400000  ...   \n",
       "75%      0.000000      1.000000    0.600000   -1.000000    3.400000  ...   \n",
       "max      1.000000      1.000000    1.000000    1.000000   28.000000  ...   \n",
       "\n",
       "           Copper      Alk_Phos        SGOT  Tryglicerides   Platelets  \\\n",
       "count  418.000000    418.000000  418.000000     418.000000  418.000000   \n",
       "mean    99.300957   1969.008708  123.565407     126.567464  257.155981   \n",
       "std     78.205649   1894.333743   51.419009      57.180801   97.171137   \n",
       "min      4.000000    289.000000   26.350000      33.000000   62.000000   \n",
       "25%     46.200000    987.500000   86.809000      91.000000  190.000000   \n",
       "50%     76.000000   1424.800000  119.350000     116.400000  251.500000   \n",
       "75%    130.750000   2163.200000  150.272500     146.450000  315.500000   \n",
       "max    588.000000  13862.400000  457.250000     598.000000  721.000000   \n",
       "\n",
       "       Prothrombin       Stage    NaN_Drug       Sex_F       Sex_M  \n",
       "count   418.000000  418.000000  418.000000  418.000000  418.000000  \n",
       "mean     10.731914    3.025359    0.253589    0.894737    0.105263  \n",
       "std       1.019985    0.877006    0.435586    0.307260    0.307260  \n",
       "min       9.000000    1.000000    0.000000    0.000000    0.000000  \n",
       "25%      10.000000    2.000000    0.000000    1.000000    0.000000  \n",
       "50%      10.600000    3.000000    0.000000    1.000000    0.000000  \n",
       "75%      11.100000    4.000000    1.000000    1.000000    0.000000  \n",
       "max      18.000000    4.000000    1.000000    1.000000    1.000000  \n",
       "\n",
       "[8 rows x 22 columns]"
      ]
     },
     "execution_count": 15,
     "metadata": {},
     "output_type": "execute_result"
    }
   ],
   "source": [
    "df_imputed_val.describe()"
   ]
  },
  {
   "cell_type": "markdown",
   "id": "6bf962b4",
   "metadata": {
    "papermill": {
     "duration": 0.074294,
     "end_time": "2022-03-04T12:09:09.473506",
     "exception": false,
     "start_time": "2022-03-04T12:09:09.399212",
     "status": "completed"
    },
    "tags": []
   },
   "source": [
    "# FEATURE EXPLORATION\n",
    "Exploring and analysing features using visualization and statistics against target to draw insights about correlations."
   ]
  },
  {
   "cell_type": "code",
   "execution_count": 16,
   "id": "49b9d085",
   "metadata": {
    "execution": {
     "iopub.execute_input": "2022-03-04T12:09:09.627530Z",
     "iopub.status.busy": "2022-03-04T12:09:09.626867Z",
     "iopub.status.idle": "2022-03-04T12:09:10.003067Z",
     "shell.execute_reply": "2022-03-04T12:09:10.003868Z",
     "shell.execute_reply.started": "2022-03-04T11:56:16.373203Z"
    },
    "papermill": {
     "duration": 0.458335,
     "end_time": "2022-03-04T12:09:10.004131",
     "exception": false,
     "start_time": "2022-03-04T12:09:09.545796",
     "status": "completed"
    },
    "tags": []
   },
   "outputs": [
    {
     "data": {
      "text/plain": [
       "<Figure size 720x360 with 0 Axes>"
      ]
     },
     "metadata": {},
     "output_type": "display_data"
    },
    {
     "data": {
      "image/png": "[encoded data removed]",
      "text/plain": [
       "<Figure size 432x288 with 1 Axes>"
      ]
     },
     "metadata": {},
     "output_type": "display_data"
    }
   ],
   "source": [
    "import matplotlib.pyplot as plt\n",
    "import seaborn as sns\n",
    "\n",
    "a = df_imputed[\"Stage\"].value_counts()\n",
    "from matplotlib import pyplot as plt\n",
    "a = dict(a)\n",
    "stages = list(a.keys())\n",
    "counts = list(a.values())\n",
    "colors = ['r', 'y', 'royalblue', 'g']\n",
    "fig = plt.figure(figsize = (10, 5))\n",
    "\n",
    "fig = plt.figure()\n",
    "ax = fig.add_axes([0,0,1,1])\n",
    "ax.axis('equal')\n",
    "ax.pie(counts, labels = stages,autopct='%1.2f%%', colors= colors, wedgeprops = {\"edgecolor\" : \"black\",'linewidth': 1,'antialiased': True})\n",
    "plt.legend()\n",
    "plt.title(\"Target Proportions\")\n",
    "plt.show()"
   ]
  },
  {
   "cell_type": "markdown",
   "id": "851e7a5c",
   "metadata": {
    "papermill": {
     "duration": 0.074622,
     "end_time": "2022-03-04T12:09:10.165795",
     "exception": false,
     "start_time": "2022-03-04T12:09:10.091173",
     "status": "completed"
    },
    "tags": []
   },
   "source": [
    "**Target Class** \\\n",
    "People with early-stage cirrhosis of the liver usually don't have symptoms. \\\n",
    "Natually, those people would not get themselves checked up and by the time they show symptoms and get tested, their liver cirrhosis would have progressed to a higher stage and therefore the target class seems to be imbalanced. "
   ]
  },
  {
   "cell_type": "code",
   "execution_count": 17,
   "id": "66f3a610",
   "metadata": {
    "execution": {
     "iopub.execute_input": "2022-03-04T12:09:10.322960Z",
     "iopub.status.busy": "2022-03-04T12:09:10.322108Z",
     "iopub.status.idle": "2022-03-04T12:09:10.928006Z",
     "shell.execute_reply": "2022-03-04T12:09:10.928494Z",
     "shell.execute_reply.started": "2022-03-04T11:56:16.662601Z"
    },
    "papermill": {
     "duration": 0.691344,
     "end_time": "2022-03-04T12:09:10.928680",
     "exception": false,
     "start_time": "2022-03-04T12:09:10.237336",
     "status": "completed"
    },
    "tags": []
   },
   "outputs": [
    {
     "data": {
      "text/plain": [
       "Text(0.5, 0.98, 'Bilirubin x Alkaline Phosphatase')"
      ]
     },
     "execution_count": 17,
     "metadata": {},
     "output_type": "execute_result"
    },
    {
     "data": {
      "text/plain": [
       "<Figure size 1440x720 with 0 Axes>"
      ]
     },
     "metadata": {},
     "output_type": "display_data"
    },
    {
     "data": {
      "image/png": "[encoded data removed]",
      "text/plain": [
       "<Figure size 720x720 with 4 Axes>"
      ]
     },
     "metadata": {
      "needs_background": "light"
     },
     "output_type": "display_data"
    }
   ],
   "source": [
    "df_1 = df_imputed[df_imputed['Stage']==1]\n",
    "df_2 = df_imputed[df_imputed['Stage']==2]\n",
    "df_3 = df_imputed[df_imputed['Stage']==3]\n",
    "df_4 = df_imputed[df_imputed['Stage']==4]\n",
    "\n",
    "plt.figure(figsize=(20,10))\n",
    "f, axes = plt.subplots(nrows = 2, ncols = 2, sharex=True, sharey = True, figsize = (10, 10))\n",
    "axes[0][0].scatter(df_1[\"Bilirubin\"],df_1[\"Alk_Phos\"], s = 5, color = 'g')\n",
    "axes[0][0].set_xlabel('Bilirubin', labelpad = 5)\n",
    "axes[0][0].set_ylabel('Alkaline Phosphatase', labelpad = 5)\n",
    "axes[0][0].set_title('Stage 1')\n",
    "\n",
    "\n",
    "axes[0][1].scatter(df_2[\"Bilirubin\"],df_2[\"Alk_Phos\"], s= 5, color = 'royalblue')\n",
    "axes[0][1].set_xlabel('Bilirubin', labelpad = 5)\n",
    "axes[0][1].set_ylabel('Alkaline Phosphatase', labelpad = 5)\n",
    "axes[0][1].set_title('Stage 2')\n",
    "\n",
    "axes[1][0].scatter(df_3[\"Bilirubin\"],df_3[\"Alk_Phos\"], s= 5, color = 'goldenrod')\n",
    "axes[1][0].set_xlabel('Bilirubin', labelpad = 5)\n",
    "axes[1][0].set_ylabel('Alkaline Phosphatase', labelpad = 5)\n",
    "axes[1][0].set_title('Stage 3')\n",
    "\n",
    "axes[1][1].scatter(df_4[\"Bilirubin\"],df_4[\"Alk_Phos\"], s= 5, color = 'r')\n",
    "axes[1][1].set_xlabel('Bilirubin', labelpad = 5)\n",
    "axes[1][1].set_ylabel('Alkaline Phosphatase', labelpad = 5)\n",
    "axes[1][1].set_title('Stage 4')\n",
    "\n",
    "f.suptitle(\"Bilirubin x Alkaline Phosphatase\", fontsize=15)"
   ]
  },
  {
   "cell_type": "code",
   "execution_count": 18,
   "id": "deefce62",
   "metadata": {
    "execution": {
     "iopub.execute_input": "2022-03-04T12:09:11.126398Z",
     "iopub.status.busy": "2022-03-04T12:09:11.118795Z",
     "iopub.status.idle": "2022-03-04T12:09:11.295645Z",
     "shell.execute_reply": "2022-03-04T12:09:11.296172Z",
     "shell.execute_reply.started": "2022-03-04T11:56:17.577559Z"
    },
    "papermill": {
     "duration": 0.2716,
     "end_time": "2022-03-04T12:09:11.296312",
     "exception": false,
     "start_time": "2022-03-04T12:09:11.024712",
     "status": "completed"
    },
    "tags": []
   },
   "outputs": [
    {
     "data": {
      "image/png": "[encoded data removed]",
      "text/plain": [
       "<Figure size 504x504 with 1 Axes>"
      ]
     },
     "metadata": {
      "needs_background": "light"
     },
     "output_type": "display_data"
    }
   ],
   "source": [
    "plt.figure(figsize=(7,7))\n",
    "plt.scatter(df_val[\"Bilirubin\"],df_val[\"Alk_Phos\"], s= 5, color = 'deeppink')\n",
    "plt.xlabel(\"Bilirubin\")\n",
    "plt.ylabel(\"Alkaline Phosphatase\")\n",
    "plt.title(\"Bilirubin x Alkaline Phosphatase for (Validation)\")\n",
    "plt.show()"
   ]
  },
  {
   "cell_type": "markdown",
   "id": "6e6e7c00",
   "metadata": {
    "papermill": {
     "duration": 0.075863,
     "end_time": "2022-03-04T12:09:11.447166",
     "exception": false,
     "start_time": "2022-03-04T12:09:11.371303",
     "status": "completed"
    },
    "tags": []
   },
   "source": [
    "**Bilirubin**\\\n",
    "Bilirubin is the yellow pigment extracted from old blood cells by the liver and excreeted with the stool. Studies have shown that increase in Bilirubin in blood accounts for liver malfunction. \\\n",
    "The given data shows that Bilirubin value in blood is directly proportional to the cirrhosis of the liver."
   ]
  },
  {
   "cell_type": "markdown",
   "id": "7ca7837f",
   "metadata": {
    "papermill": {
     "duration": 0.078245,
     "end_time": "2022-03-04T12:09:11.605024",
     "exception": false,
     "start_time": "2022-03-04T12:09:11.526779",
     "status": "completed"
    },
    "tags": []
   },
   "source": [
    "**Alkaline Phosphatase**\\\n",
    "Alkaline Phosphatase (ALP) is produced when there is bone damage or liver damage. To find the right source, a follow-up Bilirubin test is conducted. \\\n",
    "If the Bilirubin value is within the normal range then the cause for ALP production would be some bone damage and if the value of Bilirubin is high, then it is concluded that the ALP is in fact produced by damaged liver."
   ]
  },
  {
   "cell_type": "code",
   "execution_count": 19,
   "id": "9b4ee04f",
   "metadata": {
    "execution": {
     "iopub.execute_input": "2022-03-04T12:09:11.800922Z",
     "iopub.status.busy": "2022-03-04T12:09:11.799978Z",
     "iopub.status.idle": "2022-03-04T12:09:12.665154Z",
     "shell.execute_reply": "2022-03-04T12:09:12.665565Z",
     "shell.execute_reply.started": "2022-03-04T11:56:17.837621Z"
    },
    "papermill": {
     "duration": 0.982375,
     "end_time": "2022-03-04T12:09:12.665707",
     "exception": false,
     "start_time": "2022-03-04T12:09:11.683332",
     "status": "completed"
    },
    "tags": []
   },
   "outputs": [
    {
     "data": {
      "text/plain": [
       "Text(0.5, 0.98, 'Tryglicerides x Alkaline Phosphatase')"
      ]
     },
     "execution_count": 19,
     "metadata": {},
     "output_type": "execute_result"
    },
    {
     "data": {
      "text/plain": [
       "<Figure size 1440x720 with 0 Axes>"
      ]
     },
     "metadata": {},
     "output_type": "display_data"
    },
    {
     "data": {
      "image/png": "[encoded data removed]",
      "text/plain": [
       "<Figure size 720x720 with 4 Axes>"
      ]
     },
     "metadata": {
      "needs_background": "light"
     },
     "output_type": "display_data"
    }
   ],
   "source": [
    "plt.figure(figsize=(20,10))\n",
    "f, axes = plt.subplots(nrows = 2, ncols = 2, sharex=True, sharey = True, figsize = (10, 10))\n",
    "axes[0][0].scatter(df_1[\"Tryglicerides\"],df_1[\"Alk_Phos\"], s = 5, color = 'g')\n",
    "axes[0][0].set_xlabel('Tryglicerides', labelpad = 5)\n",
    "axes[0][0].set_ylabel('Alkaline Phosphatase', labelpad = 5)\n",
    "axes[0][0].set_title('Stage 1')\n",
    "\n",
    "\n",
    "axes[0][1].scatter(df_2[\"Tryglicerides\"],df_2[\"Alk_Phos\"], s= 5, color = 'royalblue')\n",
    "axes[0][1].set_xlabel('Tryglicerides', labelpad = 5)\n",
    "axes[0][1].set_ylabel('Alkaline Phosphatase', labelpad = 5)\n",
    "axes[0][1].set_title('Stage 2')\n",
    "\n",
    "axes[1][0].scatter(df_3[\"Tryglicerides\"],df_3[\"Alk_Phos\"], s= 5, color = 'y')\n",
    "axes[1][0].set_xlabel('Tryglicerides', labelpad = 5)\n",
    "axes[1][0].set_ylabel('Alkaline Phosphatase', labelpad = 5)\n",
    "axes[1][0].set_title('Stage 3')\n",
    "\n",
    "axes[1][1].scatter(df_4[\"Tryglicerides\"],df_4[\"Alk_Phos\"], s= 5, color = 'r')\n",
    "axes[1][1].set_xlabel('Tryglicerides', labelpad = 5)\n",
    "axes[1][1].set_ylabel('Alkaline Phosphatase', labelpad = 5)\n",
    "axes[1][1].set_title('Stage 4')\n",
    "\n",
    "f.suptitle(\"Tryglicerides x Alkaline Phosphatase\", fontsize=15)"
   ]
  },
  {
   "cell_type": "code",
   "execution_count": 20,
   "id": "b9538738",
   "metadata": {
    "execution": {
     "iopub.execute_input": "2022-03-04T12:09:12.838825Z",
     "iopub.status.busy": "2022-03-04T12:09:12.836482Z",
     "iopub.status.idle": "2022-03-04T12:09:13.011677Z",
     "shell.execute_reply": "2022-03-04T12:09:13.012077Z",
     "shell.execute_reply.started": "2022-03-04T11:56:18.746123Z"
    },
    "papermill": {
     "duration": 0.268225,
     "end_time": "2022-03-04T12:09:13.012246",
     "exception": false,
     "start_time": "2022-03-04T12:09:12.744021",
     "status": "completed"
    },
    "tags": []
   },
   "outputs": [
    {
     "data": {
      "image/png": "[encoded data removed]",
      "text/plain": [
       "<Figure size 504x504 with 1 Axes>"
      ]
     },
     "metadata": {
      "needs_background": "light"
     },
     "output_type": "display_data"
    }
   ],
   "source": [
    "plt.figure(figsize=(7,7))\n",
    "plt.scatter(df_val[\"Bilirubin\"],df_val[\"Alk_Phos\"], s= 5, color = 'deeppink')\n",
    "plt.xlabel(\"Tryglicerides\")\n",
    "plt.ylabel(\"Alkaline Phosphatase\")\n",
    "plt.title(\"Tryglicerides x Alkaline Phosphatase for (Validation)\")\n",
    "plt.show()"
   ]
  },
  {
   "cell_type": "markdown",
   "id": "50971a52",
   "metadata": {
    "papermill": {
     "duration": 0.078809,
     "end_time": "2022-03-04T12:09:13.172053",
     "exception": false,
     "start_time": "2022-03-04T12:09:13.093244",
     "status": "completed"
    },
    "tags": []
   },
   "source": [
    "**Triglycerides**\\\n",
    "Triglycerides are a type of fat (lipid) found in the blood and the liver is the central organ for fatty acid metabolism. If there is presence of high levels of Triglycerides, it indicates that the liver is not functioning properly. With the progression of liver cirrhosis, higher levels of Triglycerides are found in the blood.\\\n",
    "Triglycerides test can also be used to determine the source of ALP production in the body and the graphs dictate that it is produced due to cirrhosis of liver.\n"
   ]
  },
  {
   "cell_type": "code",
   "execution_count": 21,
   "id": "ca6d1d65",
   "metadata": {
    "execution": {
     "iopub.execute_input": "2022-03-04T12:09:13.380444Z",
     "iopub.status.busy": "2022-03-04T12:09:13.367374Z",
     "iopub.status.idle": "2022-03-04T12:09:13.930235Z",
     "shell.execute_reply": "2022-03-04T12:09:13.930624Z",
     "shell.execute_reply.started": "2022-03-04T11:56:19.002743Z"
    },
    "papermill": {
     "duration": 0.678241,
     "end_time": "2022-03-04T12:09:13.930781",
     "exception": false,
     "start_time": "2022-03-04T12:09:13.252540",
     "status": "completed"
    },
    "tags": []
   },
   "outputs": [
    {
     "data": {
      "text/plain": [
       "Text(0.5, 0.98, 'Bilirubin x SGOT')"
      ]
     },
     "execution_count": 21,
     "metadata": {},
     "output_type": "execute_result"
    },
    {
     "data": {
      "text/plain": [
       "<Figure size 1440x720 with 0 Axes>"
      ]
     },
     "metadata": {},
     "output_type": "display_data"
    },
    {
     "data": {
      "image/png": "[encoded data removed]",
      "text/plain": [
       "<Figure size 720x720 with 4 Axes>"
      ]
     },
     "metadata": {
      "needs_background": "light"
     },
     "output_type": "display_data"
    }
   ],
   "source": [
    "plt.figure(figsize=(20,10))\n",
    "f, axes = plt.subplots(nrows = 2, ncols = 2, sharex=True, sharey = True, figsize = (10, 10))\n",
    "axes[0][0].scatter(df_1[\"Bilirubin\"],df_1[\"SGOT\"], s = 5, color = 'g')\n",
    "axes[0][0].set_xlabel('Bilirubin', labelpad = 5)\n",
    "axes[0][0].set_ylabel('SGOT', labelpad = 5)\n",
    "axes[0][0].set_title('Stage 1')\n",
    "\n",
    "\n",
    "axes[0][1].scatter(df_2[\"Bilirubin\"],df_2[\"SGOT\"], s = 5, color = 'royalblue')\n",
    "axes[0][1].set_xlabel('Bilirubin', labelpad = 5)\n",
    "axes[0][1].set_ylabel('SGOT', labelpad = 5)\n",
    "axes[0][1].set_title('Stage 2')\n",
    "\n",
    "axes[1][0].scatter(df_3[\"Bilirubin\"],df_3[\"SGOT\"], s = 5, color = 'y')\n",
    "axes[1][0].set_xlabel('Bilirubin', labelpad = 5)\n",
    "axes[1][0].set_ylabel('SGOT', labelpad = 5)\n",
    "axes[1][0].set_title('Stage 3')\n",
    "\n",
    "axes[1][1].scatter(df_4[\"Bilirubin\"],df_4[\"SGOT\"], s = 5, color = 'r')\n",
    "axes[1][1].set_xlabel('Bilirubin', labelpad = 5)\n",
    "axes[1][1].set_ylabel('SGOT', labelpad = 5)\n",
    "axes[1][1].set_title('Stage 4')\n",
    "\n",
    "f.suptitle(\"Bilirubin x SGOT\", fontsize=15)"
   ]
  },
  {
   "cell_type": "code",
   "execution_count": 22,
   "id": "ded82535",
   "metadata": {
    "execution": {
     "iopub.execute_input": "2022-03-04T12:09:14.109811Z",
     "iopub.status.busy": "2022-03-04T12:09:14.108945Z",
     "iopub.status.idle": "2022-03-04T12:09:14.288589Z",
     "shell.execute_reply": "2022-03-04T12:09:14.288952Z",
     "shell.execute_reply.started": "2022-03-04T11:56:19.898678Z"
    },
    "papermill": {
     "duration": 0.273474,
     "end_time": "2022-03-04T12:09:14.289121",
     "exception": false,
     "start_time": "2022-03-04T12:09:14.015647",
     "status": "completed"
    },
    "tags": []
   },
   "outputs": [
    {
     "data": {
      "image/png": "[encoded data removed]",
      "text/plain": [
       "<Figure size 504x504 with 1 Axes>"
      ]
     },
     "metadata": {
      "needs_background": "light"
     },
     "output_type": "display_data"
    }
   ],
   "source": [
    "plt.figure(figsize=(7,7))\n",
    "plt.scatter(df_val[\"Bilirubin\"],df_val[\"Alk_Phos\"], s= 5, color = 'deeppink')\n",
    "plt.xlabel(\"Bilirubin\")\n",
    "plt.ylabel(\"SGOT\")\n",
    "plt.title(\"Bilirubin x SGOT for (Validation)\")\n",
    "plt.show()"
   ]
  },
  {
   "cell_type": "markdown",
   "id": "71328316",
   "metadata": {
    "papermill": {
     "duration": 0.082502,
     "end_time": "2022-03-04T12:09:14.455127",
     "exception": false,
     "start_time": "2022-03-04T12:09:14.372625",
     "status": "completed"
    },
    "tags": []
   },
   "source": [
    "**SGOT**  \\\n",
    "Serum glutamic oxaloacetic transaminase (SGOT), an enzyme that is normally present in liver and heart cells. SGOT is released into blood when the liver or heart is damaged. \\\n",
    "To find the right source, a follow-up Bilirubin test is conducted. If the Bilirubin value is within the normal range then the cause for SGOT production would be heart damage and if the value of Bilirubin is high, then it is concluded that the presence of high levels of SGOT is because of liver damage.\\\n",
    "The graphs drawn (above) support this fact."
   ]
  },
  {
   "cell_type": "markdown",
   "id": "d373c4b0",
   "metadata": {
    "papermill": {
     "duration": 0.082288,
     "end_time": "2022-03-04T12:09:14.621092",
     "exception": false,
     "start_time": "2022-03-04T12:09:14.538804",
     "status": "completed"
    },
    "tags": []
   },
   "source": [
    "**Prothrombin**\\\n",
    "Prothrombin is a protein made by the liver. It is one of several substances known as clotting (coagulation) factors. Prothrombin  time (in seconds) is the time taken for blood clotting. If the blood clots too slowy, it means the protein is being produced insufficiently by the liver, meaning the liver is malfunctioning/damaged. Average Prothrombin time in humans is 11 to 13.5 seconds. Generally, if the Prothrombin time is more than this range, it indicates severe lever damage/cirrhosis."
   ]
  },
  {
   "cell_type": "code",
   "execution_count": 23,
   "id": "522eefcc",
   "metadata": {
    "execution": {
     "iopub.execute_input": "2022-03-04T12:09:14.795857Z",
     "iopub.status.busy": "2022-03-04T12:09:14.794948Z",
     "iopub.status.idle": "2022-03-04T12:09:14.798588Z",
     "shell.execute_reply": "2022-03-04T12:09:14.797966Z",
     "shell.execute_reply.started": "2022-03-04T11:56:20.145341Z"
    },
    "papermill": {
     "duration": 0.09402,
     "end_time": "2022-03-04T12:09:14.798702",
     "exception": false,
     "start_time": "2022-03-04T12:09:14.704682",
     "status": "completed"
    },
    "tags": []
   },
   "outputs": [
    {
     "data": {
      "text/plain": [
       "Stage\n",
       "1.0    11.223785\n",
       "2.0    11.228865\n",
       "3.0    11.209017\n",
       "4.0    11.241272\n",
       "Name: Prothrombin, dtype: float64"
      ]
     },
     "execution_count": 23,
     "metadata": {},
     "output_type": "execute_result"
    }
   ],
   "source": [
    "df_imputed.groupby(\"Stage\")[\"Prothrombin\"].mean()"
   ]
  },
  {
   "cell_type": "code",
   "execution_count": 24,
   "id": "fc42401d",
   "metadata": {
    "execution": {
     "iopub.execute_input": "2022-03-04T12:09:14.970320Z",
     "iopub.status.busy": "2022-03-04T12:09:14.969722Z",
     "iopub.status.idle": "2022-03-04T12:09:14.972741Z",
     "shell.execute_reply": "2022-03-04T12:09:14.973161Z",
     "shell.execute_reply.started": "2022-03-04T11:56:20.160706Z"
    },
    "papermill": {
     "duration": 0.091619,
     "end_time": "2022-03-04T12:09:14.973291",
     "exception": false,
     "start_time": "2022-03-04T12:09:14.881672",
     "status": "completed"
    },
    "tags": []
   },
   "outputs": [
    {
     "data": {
      "text/plain": [
       "10.731913875598085"
      ]
     },
     "execution_count": 24,
     "metadata": {},
     "output_type": "execute_result"
    }
   ],
   "source": [
    "df_imputed_val[\"Prothrombin\"].mean()"
   ]
  },
  {
   "cell_type": "markdown",
   "id": "c3c540f0",
   "metadata": {
    "papermill": {
     "duration": 0.083982,
     "end_time": "2022-03-04T12:09:15.142819",
     "exception": false,
     "start_time": "2022-03-04T12:09:15.058837",
     "status": "completed"
    },
    "tags": []
   },
   "source": [
    "The Prothrombin time data is inaccurate! Because the Prothrombin time given in the data is same for every stage of liver cirrhosis which is not possible. Realistically, Prothrombin time is supposed to increase (beyond 13.5 seconds) with the progression of liver cirrhosis. But the values given in the data tend to remain in the normal range."
   ]
  },
  {
   "cell_type": "markdown",
   "id": "783b1877",
   "metadata": {
    "papermill": {
     "duration": 0.082611,
     "end_time": "2022-03-04T12:09:15.309188",
     "exception": false,
     "start_time": "2022-03-04T12:09:15.226577",
     "status": "completed"
    },
    "tags": []
   },
   "source": [
    "**Urinary Copper**\\\n",
    "Urine is tested for the presence of copper. The copper urine test is used to determine the presence of Wilson disease, a sometimes fatal condition in which the buildup of excess copper damages the liver, and eventually the kidneys, eyes, and brain. Urinary copper excretion was found to be increased in patients with cholestasis, hepatitis and cirrhosis, but the penicillamine-induced increment was normal."
   ]
  },
  {
   "cell_type": "code",
   "execution_count": 25,
   "id": "18ac9fa5",
   "metadata": {
    "execution": {
     "iopub.execute_input": "2022-03-04T12:09:15.483797Z",
     "iopub.status.busy": "2022-03-04T12:09:15.482973Z",
     "iopub.status.idle": "2022-03-04T12:09:15.490315Z",
     "shell.execute_reply": "2022-03-04T12:09:15.489725Z",
     "shell.execute_reply.started": "2022-03-04T11:56:20.171291Z"
    },
    "papermill": {
     "duration": 0.096625,
     "end_time": "2022-03-04T12:09:15.490434",
     "exception": false,
     "start_time": "2022-03-04T12:09:15.393809",
     "status": "completed"
    },
    "tags": []
   },
   "outputs": [
    {
     "data": {
      "text/plain": [
       "Stage\n",
       "1.0    70.016502\n",
       "2.0    69.801019\n",
       "3.0    67.819092\n",
       "4.0    68.558062\n",
       "Name: Copper, dtype: float64"
      ]
     },
     "execution_count": 25,
     "metadata": {},
     "output_type": "execute_result"
    }
   ],
   "source": [
    "df_filter = df_imputed[df_imputed[\"Drug\"] != 1]\n",
    "df_filter.groupby(\"Stage\")[\"Copper\"].mean()"
   ]
  },
  {
   "cell_type": "code",
   "execution_count": 26,
   "id": "e79546a8",
   "metadata": {
    "execution": {
     "iopub.execute_input": "2022-03-04T12:09:15.680143Z",
     "iopub.status.busy": "2022-03-04T12:09:15.679487Z",
     "iopub.status.idle": "2022-03-04T12:09:15.682874Z",
     "shell.execute_reply": "2022-03-04T12:09:15.683302Z",
     "shell.execute_reply.started": "2022-03-04T11:56:20.186969Z"
    },
    "papermill": {
     "duration": 0.099826,
     "end_time": "2022-03-04T12:09:15.683436",
     "exception": false,
     "start_time": "2022-03-04T12:09:15.583610",
     "status": "completed"
    },
    "tags": []
   },
   "outputs": [
    {
     "data": {
      "text/plain": [
       "100.21212121212123"
      ]
     },
     "execution_count": 26,
     "metadata": {},
     "output_type": "execute_result"
    }
   ],
   "source": [
    "df_filter_val = df_imputed_val[df_imputed_val[\"Drug\"] != 1]\n",
    "df_filter_val[\"Copper\"].mean()"
   ]
  },
  {
   "cell_type": "markdown",
   "id": "c2f064a9",
   "metadata": {
    "papermill": {
     "duration": 0.084405,
     "end_time": "2022-03-04T12:09:15.855194",
     "exception": false,
     "start_time": "2022-03-04T12:09:15.770789",
     "status": "completed"
    },
    "tags": []
   },
   "source": [
    "As per the data, patients induced with penicillamine have stable urinary copper values and patients induced with placebo have more or less stagnant values."
   ]
  },
  {
   "cell_type": "markdown",
   "id": "e306f6e2",
   "metadata": {
    "papermill": {
     "duration": 0.083683,
     "end_time": "2022-03-04T12:09:16.022690",
     "exception": false,
     "start_time": "2022-03-04T12:09:15.939007",
     "status": "completed"
    },
    "tags": []
   },
   "source": [
    "**Drug**\\\n",
    "Drug column was labelled as D - Penicillamine = 0 and Placebo = 1 because:\\\n",
    "High concerntrations of Urinary Copper is a good indicator of the severity of liver damage. D - Penicillamine tends to control this increment in Copper concerntration and therefore masking the actual condition of liver. Hence, using Ordinal Encoding, D - Penicillamine has been weighted as 0 (zero importance).\\\n",
    "Whereas, Placebo has no actual treatment properties; Placebo does not control Copper levels in urine. This untreated Urinary Copper concerntration exposes the severity of liver damage. Therefore the Placebo has been weighted as 1 using Ordinal Encoding."
   ]
  },
  {
   "cell_type": "markdown",
   "id": "bd4c6c85",
   "metadata": {
    "papermill": {
     "duration": 0.083308,
     "end_time": "2022-03-04T12:09:16.189506",
     "exception": false,
     "start_time": "2022-03-04T12:09:16.106198",
     "status": "completed"
    },
    "tags": []
   },
   "source": [
    "**Cholesterol**\\\n",
    "High-density lipoprotein (HDL) cholesterol and its major apolipoproteins have been shown to be reduced in cirrhosis. The given data gently reflects this trend."
   ]
  },
  {
   "cell_type": "code",
   "execution_count": 27,
   "id": "79e64d91",
   "metadata": {
    "execution": {
     "iopub.execute_input": "2022-03-04T12:09:16.362008Z",
     "iopub.status.busy": "2022-03-04T12:09:16.361242Z",
     "iopub.status.idle": "2022-03-04T12:09:16.366972Z",
     "shell.execute_reply": "2022-03-04T12:09:16.366575Z",
     "shell.execute_reply.started": "2022-03-04T11:56:20.198444Z"
    },
    "papermill": {
     "duration": 0.094167,
     "end_time": "2022-03-04T12:09:16.367107",
     "exception": false,
     "start_time": "2022-03-04T12:09:16.272940",
     "status": "completed"
    },
    "tags": []
   },
   "outputs": [
    {
     "data": {
      "text/plain": [
       "Stage\n",
       "1.0    294.099355\n",
       "2.0    290.033179\n",
       "3.0    296.297882\n",
       "4.0    298.581517\n",
       "Name: Cholesterol, dtype: float64"
      ]
     },
     "execution_count": 27,
     "metadata": {},
     "output_type": "execute_result"
    }
   ],
   "source": [
    "df_imputed.groupby(\"Stage\")[\"Cholesterol\"].mean()"
   ]
  },
  {
   "cell_type": "code",
   "execution_count": 28,
   "id": "236a2212",
   "metadata": {
    "execution": {
     "iopub.execute_input": "2022-03-04T12:09:16.540260Z",
     "iopub.status.busy": "2022-03-04T12:09:16.539694Z",
     "iopub.status.idle": "2022-03-04T12:09:16.545084Z",
     "shell.execute_reply": "2022-03-04T12:09:16.544639Z",
     "shell.execute_reply.started": "2022-03-04T11:56:20.213453Z"
    },
    "papermill": {
     "duration": 0.093488,
     "end_time": "2022-03-04T12:09:16.545193",
     "exception": false,
     "start_time": "2022-03-04T12:09:16.451705",
     "status": "completed"
    },
    "tags": []
   },
   "outputs": [
    {
     "data": {
      "text/plain": [
       "370.7148325358852"
      ]
     },
     "execution_count": 28,
     "metadata": {},
     "output_type": "execute_result"
    }
   ],
   "source": [
    "df_imputed_val[\"Cholesterol\"].mean()"
   ]
  },
  {
   "cell_type": "markdown",
   "id": "d0eaf98f",
   "metadata": {
    "papermill": {
     "duration": 0.084782,
     "end_time": "2022-03-04T12:09:16.714240",
     "exception": false,
     "start_time": "2022-03-04T12:09:16.629458",
     "status": "completed"
    },
    "tags": []
   },
   "source": [
    "**Albumin**\\\n",
    "When the liver is damaged, Albumin is supposed to  decrease. Advanced cirrhosis is characterised by reduced albumin concentration as well as impaired albumin function as a result of specific structural changes and oxidative damage. The given data is shown to be low among all patients regardless of their corrhosis progression. Hence, Albumin data is redundant."
   ]
  },
  {
   "cell_type": "code",
   "execution_count": 29,
   "id": "0a82c684",
   "metadata": {
    "execution": {
     "iopub.execute_input": "2022-03-04T12:09:16.888701Z",
     "iopub.status.busy": "2022-03-04T12:09:16.887894Z",
     "iopub.status.idle": "2022-03-04T12:09:16.895463Z",
     "shell.execute_reply": "2022-03-04T12:09:16.895870Z",
     "shell.execute_reply.started": "2022-03-04T11:56:20.223736Z"
    },
    "papermill": {
     "duration": 0.097476,
     "end_time": "2022-03-04T12:09:16.895994",
     "exception": false,
     "start_time": "2022-03-04T12:09:16.798518",
     "status": "completed"
    },
    "tags": []
   },
   "outputs": [
    {
     "data": {
      "text/plain": [
       "Stage  Edema\n",
       "1.0    N        3.008232\n",
       "       S        3.090833\n",
       "       Y        3.094516\n",
       "2.0    N        3.047978\n",
       "       S        3.048952\n",
       "       Y        3.075556\n",
       "3.0    N        3.054245\n",
       "       S        3.035435\n",
       "       Y        3.112391\n",
       "4.0    N        3.019602\n",
       "       S        3.035189\n",
       "       Y        3.049664\n",
       "Name: Albumin, dtype: float64"
      ]
     },
     "execution_count": 29,
     "metadata": {},
     "output_type": "execute_result"
    }
   ],
   "source": [
    "df.groupby([\"Stage\", \"Edema\"])[\"Albumin\"].mean()"
   ]
  },
  {
   "cell_type": "code",
   "execution_count": 30,
   "id": "2b663b5e",
   "metadata": {
    "execution": {
     "iopub.execute_input": "2022-03-04T12:09:17.074506Z",
     "iopub.status.busy": "2022-03-04T12:09:17.073833Z",
     "iopub.status.idle": "2022-03-04T12:09:17.076349Z",
     "shell.execute_reply": "2022-03-04T12:09:17.076737Z",
     "shell.execute_reply.started": "2022-03-04T11:56:20.241549Z"
    },
    "papermill": {
     "duration": 0.096281,
     "end_time": "2022-03-04T12:09:17.076862",
     "exception": false,
     "start_time": "2022-03-04T12:09:16.980581",
     "status": "completed"
    },
    "tags": []
   },
   "outputs": [
    {
     "data": {
      "text/plain": [
       "Edema\n",
       "N    3.547203\n",
       "S    3.372955\n",
       "Y    2.890500\n",
       "Name: Albumin, dtype: float64"
      ]
     },
     "execution_count": 30,
     "metadata": {},
     "output_type": "execute_result"
    }
   ],
   "source": [
    "df_val.groupby([\"Edema\"])[\"Albumin\"].mean()"
   ]
  },
  {
   "cell_type": "markdown",
   "id": "709ac723",
   "metadata": {
    "papermill": {
     "duration": 0.088902,
     "end_time": "2022-03-04T12:09:17.250626",
     "exception": false,
     "start_time": "2022-03-04T12:09:17.161724",
     "status": "completed"
    },
    "tags": []
   },
   "source": [
    "**Edema**\\\n",
    "Edema is inflammation of muscles. It happens when blood vessels leak fluid into the tissues. Edema has many causes but one gets Cirrhosis related Edema when a follow-up Albumin test show low concerntrations. But the given data shows that patients have Cirrhosis regardless of whether they have Edema."
   ]
  },
  {
   "cell_type": "markdown",
   "id": "98d65385",
   "metadata": {
    "papermill": {
     "duration": 0.084519,
     "end_time": "2022-03-04T12:09:17.430144",
     "exception": false,
     "start_time": "2022-03-04T12:09:17.345625",
     "status": "completed"
    },
    "tags": []
   },
   "source": [
    "**Platelets**\\\n",
    "When liver is damaged, platelet production is said to be decreased and the given data does not reflect this trend."
   ]
  },
  {
   "cell_type": "code",
   "execution_count": 31,
   "id": "b8c45865",
   "metadata": {
    "execution": {
     "iopub.execute_input": "2022-03-04T12:09:17.605856Z",
     "iopub.status.busy": "2022-03-04T12:09:17.605087Z",
     "iopub.status.idle": "2022-03-04T12:09:17.610813Z",
     "shell.execute_reply": "2022-03-04T12:09:17.611285Z",
     "shell.execute_reply.started": "2022-03-04T11:56:20.255786Z"
    },
    "papermill": {
     "duration": 0.096471,
     "end_time": "2022-03-04T12:09:17.611415",
     "exception": false,
     "start_time": "2022-03-04T12:09:17.514944",
     "status": "completed"
    },
    "tags": []
   },
   "outputs": [
    {
     "data": {
      "text/plain": [
       "Stage\n",
       "1.0    295.414624\n",
       "2.0    297.361911\n",
       "3.0    295.032224\n",
       "4.0    290.751968\n",
       "Name: Platelets, dtype: float64"
      ]
     },
     "execution_count": 31,
     "metadata": {},
     "output_type": "execute_result"
    }
   ],
   "source": [
    "df_imputed.groupby(\"Stage\")[\"Platelets\"].mean()"
   ]
  },
  {
   "cell_type": "code",
   "execution_count": 32,
   "id": "0d37053f",
   "metadata": {
    "execution": {
     "iopub.execute_input": "2022-03-04T12:09:17.786594Z",
     "iopub.status.busy": "2022-03-04T12:09:17.785826Z",
     "iopub.status.idle": "2022-03-04T12:09:17.789209Z",
     "shell.execute_reply": "2022-03-04T12:09:17.788757Z",
     "shell.execute_reply.started": "2022-03-04T11:56:20.269430Z"
    },
    "papermill": {
     "duration": 0.092662,
     "end_time": "2022-03-04T12:09:17.789320",
     "exception": false,
     "start_time": "2022-03-04T12:09:17.696658",
     "status": "completed"
    },
    "tags": []
   },
   "outputs": [
    {
     "data": {
      "text/plain": [
       "257.155980861244"
      ]
     },
     "execution_count": 32,
     "metadata": {},
     "output_type": "execute_result"
    }
   ],
   "source": [
    "df_imputed_val[\"Platelets\"].mean()"
   ]
  },
  {
   "cell_type": "markdown",
   "id": "9576076d",
   "metadata": {
    "papermill": {
     "duration": 0.089687,
     "end_time": "2022-03-04T12:09:17.964706",
     "exception": false,
     "start_time": "2022-03-04T12:09:17.875019",
     "status": "completed"
    },
    "tags": []
   },
   "source": [
    "**Age**\\\n",
    "Visualising what age groups tend to get this disease."
   ]
  },
  {
   "cell_type": "code",
   "execution_count": 33,
   "id": "13757101",
   "metadata": {
    "execution": {
     "iopub.execute_input": "2022-03-04T12:09:18.167473Z",
     "iopub.status.busy": "2022-03-04T12:09:18.164884Z",
     "iopub.status.idle": "2022-03-04T12:09:18.962909Z",
     "shell.execute_reply": "2022-03-04T12:09:18.963466Z",
     "shell.execute_reply.started": "2022-03-04T11:56:20.279693Z"
    },
    "papermill": {
     "duration": 0.905109,
     "end_time": "2022-03-04T12:09:18.963643",
     "exception": false,
     "start_time": "2022-03-04T12:09:18.058534",
     "status": "completed"
    },
    "tags": []
   },
   "outputs": [
    {
     "data": {
      "text/plain": [
       "Text(0.5, 0.98, 'Age Distributions')"
      ]
     },
     "execution_count": 33,
     "metadata": {},
     "output_type": "execute_result"
    },
    {
     "data": {
      "text/plain": [
       "<Figure size 1440x720 with 0 Axes>"
      ]
     },
     "metadata": {},
     "output_type": "display_data"
    },
    {
     "data": {
      "image/png": "[encoded data removed]",
      "text/plain": [
       "<Figure size 1080x1080 with 4 Axes>"
      ]
     },
     "metadata": {
      "needs_background": "light"
     },
     "output_type": "display_data"
    }
   ],
   "source": [
    "df_1[\"Age\"] = (df_1[\"Age\"]/365).astype(int)\n",
    "df_2[\"Age\"] = (df_2[\"Age\"]/365).astype(int)\n",
    "df_3[\"Age\"] = (df_3[\"Age\"]/365).astype(int)\n",
    "df_4[\"Age\"] = (df_4[\"Age\"]/365).astype(int)\n",
    "\n",
    "plt.figure(figsize=(20,10))\n",
    "f, axes = plt.subplots(nrows = 2, ncols = 2, sharex=True, sharey = True, figsize = (15, 15))\n",
    "axes[0][0].hist(df_1[\"Age\"], 20, facecolor='green', alpha=0.5, edgecolor='black')\n",
    "axes[0][0].set_xticks(range(0,80,4))\n",
    "axes[0][0].set_xlabel('Age Group', labelpad = 5)\n",
    "axes[0][0].set_ylabel('Counts', labelpad = 5)\n",
    "axes[0][0].set_title('Stage 1')\n",
    "\n",
    "axes[0][1].hist(df_2[\"Age\"], 20, facecolor='blue', alpha=0.5, edgecolor='black')\n",
    "axes[0][1].set_xticks(range(0,80,4))\n",
    "axes[0][1].set_xlabel('Age Group', labelpad = 5)\n",
    "axes[0][1].set_ylabel('Counts', labelpad = 5)\n",
    "axes[0][1].set_title('Stage 2')\n",
    "\n",
    "axes[1][0].hist(df_3[\"Age\"], 20, facecolor='yellow', alpha=0.5, edgecolor='black')\n",
    "axes[1][0].set_xticks(range(0,80,4))\n",
    "axes[1][0].set_xlabel('Age Group', labelpad = 5)\n",
    "axes[1][0].set_ylabel('Counts', labelpad = 5)\n",
    "axes[1][0].set_title('Stage 3')\n",
    "\n",
    "axes[1][1].hist(df_4[\"Age\"], 20, facecolor='red', alpha=0.5, edgecolor='black')\n",
    "axes[1][1].set_xticks(range(0,80,4))\n",
    "axes[1][1].set_xlabel('Age Group', labelpad = 5)\n",
    "axes[1][1].set_ylabel('Counts', labelpad = 5)\n",
    "axes[1][1].set_title('Stage 4')\n",
    "\n",
    "f.suptitle(\"Age Distributions\", fontsize=15)"
   ]
  },
  {
   "cell_type": "code",
   "execution_count": 34,
   "id": "72791d99",
   "metadata": {
    "execution": {
     "iopub.execute_input": "2022-03-04T12:09:19.168006Z",
     "iopub.status.busy": "2022-03-04T12:09:19.166702Z",
     "iopub.status.idle": "2022-03-04T12:09:19.338542Z",
     "shell.execute_reply": "2022-03-04T12:09:19.338907Z",
     "shell.execute_reply.started": "2022-03-04T11:56:21.476528Z"
    },
    "papermill": {
     "duration": 0.285754,
     "end_time": "2022-03-04T12:09:19.339070",
     "exception": false,
     "start_time": "2022-03-04T12:09:19.053316",
     "status": "completed"
    },
    "tags": []
   },
   "outputs": [
    {
     "data": {
      "image/png": "[encoded data removed]",
      "text/plain": [
       "<Figure size 504x504 with 1 Axes>"
      ]
     },
     "metadata": {
      "needs_background": "light"
     },
     "output_type": "display_data"
    }
   ],
   "source": [
    "df_val[\"Age\"] = (df_val[\"Age\"]/365).astype(int)\n",
    "plt.figure(figsize=(7,7))\n",
    "plt.hist(df_val[\"Age\"], 20, facecolor='deeppink', alpha=0.5, edgecolor='black')\n",
    "plt.show()"
   ]
  },
  {
   "cell_type": "markdown",
   "id": "ef6ef321",
   "metadata": {
    "papermill": {
     "duration": 0.088051,
     "end_time": "2022-03-04T12:09:19.515709",
     "exception": false,
     "start_time": "2022-03-04T12:09:19.427658",
     "status": "completed"
    },
    "tags": []
   },
   "source": [
    "**Spider**\\\n",
    "Spider is an abnormal collection of blood vessels near the surface of the skin. Spiders were seen more commonly in patients with alcoholic cirrhosis than in those with non-alcoholic cirrhosis. So one might get cirrhosis regardless of whether they have Spiders. \\\n",
    "Therefore this data is not going to help predict target (y)."
   ]
  },
  {
   "cell_type": "code",
   "execution_count": 35,
   "id": "7fe55b25",
   "metadata": {
    "execution": {
     "iopub.execute_input": "2022-03-04T12:09:19.698140Z",
     "iopub.status.busy": "2022-03-04T12:09:19.697362Z",
     "iopub.status.idle": "2022-03-04T12:09:19.705636Z",
     "shell.execute_reply": "2022-03-04T12:09:19.705202Z",
     "shell.execute_reply.started": "2022-03-04T11:56:21.738009Z"
    },
    "papermill": {
     "duration": 0.101335,
     "end_time": "2022-03-04T12:09:19.705742",
     "exception": false,
     "start_time": "2022-03-04T12:09:19.604407",
     "status": "completed"
    },
    "tags": []
   },
   "outputs": [
    {
     "data": {
      "text/plain": [
       "Stage  Spiders\n",
       "1.0    N           199\n",
       "       Y            88\n",
       "2.0    N           623\n",
       "       Y           303\n",
       "3.0    N           583\n",
       "       Y           240\n",
       "4.0    N          1505\n",
       "       Y           669\n",
       "Name: ID, dtype: int64"
      ]
     },
     "execution_count": 35,
     "metadata": {},
     "output_type": "execute_result"
    }
   ],
   "source": [
    "df.groupby([\"Stage\", \"Spiders\"])[\"ID\"].count()"
   ]
  },
  {
   "cell_type": "code",
   "execution_count": 36,
   "id": "1ad5bb1b",
   "metadata": {
    "execution": {
     "iopub.execute_input": "2022-03-04T12:09:19.890382Z",
     "iopub.status.busy": "2022-03-04T12:09:19.889746Z",
     "iopub.status.idle": "2022-03-04T12:09:19.892382Z",
     "shell.execute_reply": "2022-03-04T12:09:19.892793Z",
     "shell.execute_reply.started": "2022-03-04T11:56:21.756189Z"
    },
    "papermill": {
     "duration": 0.098334,
     "end_time": "2022-03-04T12:09:19.892916",
     "exception": false,
     "start_time": "2022-03-04T12:09:19.794582",
     "status": "completed"
    },
    "tags": []
   },
   "outputs": [
    {
     "data": {
      "text/plain": [
       "Spiders\n",
       "N    222\n",
       "Y     90\n",
       "Name: ID, dtype: int64"
      ]
     },
     "execution_count": 36,
     "metadata": {},
     "output_type": "execute_result"
    }
   ],
   "source": [
    "df_val.groupby([\"Spiders\"])[\"ID\"].count()"
   ]
  },
  {
   "cell_type": "markdown",
   "id": "6a9926e3",
   "metadata": {
    "papermill": {
     "duration": 0.092159,
     "end_time": "2022-03-04T12:09:20.073633",
     "exception": false,
     "start_time": "2022-03-04T12:09:19.981474",
     "status": "completed"
    },
    "tags": []
   },
   "source": [
    "**Hepatomegaly**\\\n",
    "Hepatomegaly is a condition where one has an enlarged liver. Hepatomegaly is considered as one of the potential complications of Liver Cirrhosis but not a definite indicator."
   ]
  },
  {
   "cell_type": "code",
   "execution_count": 37,
   "id": "23777cc1",
   "metadata": {
    "execution": {
     "iopub.execute_input": "2022-03-04T12:09:20.268633Z",
     "iopub.status.busy": "2022-03-04T12:09:20.266896Z",
     "iopub.status.idle": "2022-03-04T12:09:20.270999Z",
     "shell.execute_reply": "2022-03-04T12:09:20.271409Z",
     "shell.execute_reply.started": "2022-03-04T11:56:21.770878Z"
    },
    "papermill": {
     "duration": 0.102869,
     "end_time": "2022-03-04T12:09:20.271542",
     "exception": false,
     "start_time": "2022-03-04T12:09:20.168673",
     "status": "completed"
    },
    "tags": []
   },
   "outputs": [
    {
     "data": {
      "text/plain": [
       "Stage  Hepatomegaly\n",
       "1.0    N                188\n",
       "       Y                134\n",
       "2.0    N                560\n",
       "       Y                408\n",
       "3.0    N                503\n",
       "       Y                355\n",
       "4.0    N               1303\n",
       "       Y                922\n",
       "Name: ID, dtype: int64"
      ]
     },
     "execution_count": 37,
     "metadata": {},
     "output_type": "execute_result"
    }
   ],
   "source": [
    "df.groupby([\"Stage\", \"Hepatomegaly\"])[\"ID\"].count()"
   ]
  },
  {
   "cell_type": "code",
   "execution_count": 38,
   "id": "aa8de955",
   "metadata": {
    "execution": {
     "iopub.execute_input": "2022-03-04T12:09:20.456880Z",
     "iopub.status.busy": "2022-03-04T12:09:20.456258Z",
     "iopub.status.idle": "2022-03-04T12:09:20.458874Z",
     "shell.execute_reply": "2022-03-04T12:09:20.459280Z",
     "shell.execute_reply.started": "2022-03-04T11:56:21.788402Z"
    },
    "papermill": {
     "duration": 0.098673,
     "end_time": "2022-03-04T12:09:20.459404",
     "exception": false,
     "start_time": "2022-03-04T12:09:20.360731",
     "status": "completed"
    },
    "tags": []
   },
   "outputs": [
    {
     "data": {
      "text/plain": [
       "Hepatomegaly\n",
       "N    152\n",
       "Y    160\n",
       "Name: ID, dtype: int64"
      ]
     },
     "execution_count": 38,
     "metadata": {},
     "output_type": "execute_result"
    }
   ],
   "source": [
    "df_val.groupby([\"Hepatomegaly\"])[\"ID\"].count()"
   ]
  },
  {
   "cell_type": "markdown",
   "id": "1eeead75",
   "metadata": {
    "papermill": {
     "duration": 0.08976,
     "end_time": "2022-03-04T12:09:20.638374",
     "exception": false,
     "start_time": "2022-03-04T12:09:20.548614",
     "status": "completed"
    },
    "tags": []
   },
   "source": [
    "**Ascites**\\\n",
    "Ascites is abdominal swelling caused due to accumulation of fluid in the abdomen. Mostly it is related to liver cirrhosis/liver cancer/kidney damage. Cirrhosis of the liver is the most common cause of ascites. But the given data points to the contrary. \\\n",
    "Therefore the data is not suitable for predicting target (y)."
   ]
  },
  {
   "cell_type": "code",
   "execution_count": 39,
   "id": "0320b5b9",
   "metadata": {
    "execution": {
     "iopub.execute_input": "2022-03-04T12:09:20.822732Z",
     "iopub.status.busy": "2022-03-04T12:09:20.821954Z",
     "iopub.status.idle": "2022-03-04T12:09:20.829786Z",
     "shell.execute_reply": "2022-03-04T12:09:20.829350Z",
     "shell.execute_reply.started": "2022-03-04T11:56:21.801212Z"
    },
    "papermill": {
     "duration": 0.10139,
     "end_time": "2022-03-04T12:09:20.829890",
     "exception": false,
     "start_time": "2022-03-04T12:09:20.728500",
     "status": "completed"
    },
    "tags": []
   },
   "outputs": [
    {
     "data": {
      "text/plain": [
       "Stage  Ascites\n",
       "1.0    N           257\n",
       "       Y            41\n",
       "2.0    N           866\n",
       "       Y           126\n",
       "3.0    N           759\n",
       "       Y           131\n",
       "4.0    N          2091\n",
       "       Y           283\n",
       "Name: ID, dtype: int64"
      ]
     },
     "execution_count": 39,
     "metadata": {},
     "output_type": "execute_result"
    }
   ],
   "source": [
    "df.groupby([\"Stage\", \"Ascites\"])[\"ID\"].count()"
   ]
  },
  {
   "cell_type": "code",
   "execution_count": 40,
   "id": "e9d0db02",
   "metadata": {
    "execution": {
     "iopub.execute_input": "2022-03-04T12:09:21.012585Z",
     "iopub.status.busy": "2022-03-04T12:09:21.011821Z",
     "iopub.status.idle": "2022-03-04T12:09:21.018789Z",
     "shell.execute_reply": "2022-03-04T12:09:21.019259Z",
     "shell.execute_reply.started": "2022-03-04T11:56:21.818480Z"
    },
    "papermill": {
     "duration": 0.099704,
     "end_time": "2022-03-04T12:09:21.019389",
     "exception": false,
     "start_time": "2022-03-04T12:09:20.919685",
     "status": "completed"
    },
    "tags": []
   },
   "outputs": [
    {
     "data": {
      "text/plain": [
       "Ascites\n",
       "N    288\n",
       "Y     24\n",
       "Name: ID, dtype: int64"
      ]
     },
     "execution_count": 40,
     "metadata": {},
     "output_type": "execute_result"
    }
   ],
   "source": [
    "df_val.groupby([\"Ascites\"])[\"ID\"].count()"
   ]
  },
  {
   "cell_type": "markdown",
   "id": "0015370d",
   "metadata": {
    "papermill": {
     "duration": 0.090466,
     "end_time": "2022-03-04T12:09:21.200878",
     "exception": false,
     "start_time": "2022-03-04T12:09:21.110412",
     "status": "completed"
    },
    "tags": []
   },
   "source": [
    "# SCALING OPERATION\n",
    "Using RobustScaler for removing the outliers and then using MinMaxScaler for preprocessing the dataset."
   ]
  },
  {
   "cell_type": "code",
   "execution_count": 41,
   "id": "d72fe016",
   "metadata": {
    "execution": {
     "iopub.execute_input": "2022-03-04T12:09:21.390939Z",
     "iopub.status.busy": "2022-03-04T12:09:21.390088Z",
     "iopub.status.idle": "2022-03-04T12:09:21.409927Z",
     "shell.execute_reply": "2022-03-04T12:09:21.410346Z",
     "shell.execute_reply.started": "2022-03-04T11:56:21.831492Z"
    },
    "papermill": {
     "duration": 0.118953,
     "end_time": "2022-03-04T12:09:21.410487",
     "exception": false,
     "start_time": "2022-03-04T12:09:21.291534",
     "status": "completed"
    },
    "tags": []
   },
   "outputs": [],
   "source": [
    "from sklearn.preprocessing import RobustScaler\n",
    "from sklearn.preprocessing import MinMaxScaler\n",
    "\n",
    "\n",
    "def ScaleAll(df_imputed):\n",
    "    cols = ['N_Days', 'Age', 'Ascites', 'Hepatomegaly', 'Spiders', 'Cholesterol', 'Albumin', 'Copper', 'Alk_Phos', 'SGOT', 'Tryglicerides', 'Platelets']\n",
    "    temp = df_imputed[cols]\n",
    "    df_scaled = df_imputed.copy()\n",
    "\n",
    "\n",
    "    #Scaling selected columns\n",
    "    scale = RobustScaler(with_centering=False, with_scaling=True)\n",
    "    df_temp1 = pd.DataFrame(scale.fit_transform(temp))\n",
    "    del scale\n",
    "    scale = MinMaxScaler()\n",
    "    df_temp2 = pd.DataFrame(scale.fit_transform(df_temp1))\n",
    "    del scale\n",
    "\n",
    "    df_temp2.columns = temp.columns\n",
    "    df_scaled[cols] = df_temp2[cols]\n",
    "\n",
    "    return df_scaled\n",
    "\n",
    "df_scaled = ScaleAll(df_imputed)\n",
    "df_scaled_val = ScaleAll(df_imputed_val)"
   ]
  },
  {
   "cell_type": "code",
   "execution_count": 42,
   "id": "96e90fcd",
   "metadata": {
    "execution": {
     "iopub.execute_input": "2022-03-04T12:09:21.595537Z",
     "iopub.status.busy": "2022-03-04T12:09:21.594887Z",
     "iopub.status.idle": "2022-03-04T12:09:21.760519Z",
     "shell.execute_reply": "2022-03-04T12:09:21.760971Z",
     "shell.execute_reply.started": "2022-03-04T11:56:21.874879Z"
    },
    "papermill": {
     "duration": 0.260268,
     "end_time": "2022-03-04T12:09:21.761149",
     "exception": false,
     "start_time": "2022-03-04T12:09:21.500881",
     "status": "completed"
    },
    "tags": []
   },
   "outputs": [],
   "source": [
    "df_scaled.to_csv('proc_data.csv')   #Simply saving the data"
   ]
  },
  {
   "cell_type": "markdown",
   "id": "f9934e8a",
   "metadata": {
    "papermill": {
     "duration": 0.093244,
     "end_time": "2022-03-04T12:09:21.945957",
     "exception": false,
     "start_time": "2022-03-04T12:09:21.852713",
     "status": "completed"
    },
    "tags": []
   },
   "source": [
    "# FEATURE SELECTION AND ENGINEERING\n",
    "As it has been presented in the Feature Exploration section, many (pairs of) features tend to have strong correlation to the target and some features were target leakages.\\\n",
    "In this section, features are filtered and refined features are engineered using Dimensionality Reduction method."
   ]
  },
  {
   "cell_type": "markdown",
   "id": "b43f447b",
   "metadata": {
    "papermill": {
     "duration": 0.091464,
     "end_time": "2022-03-04T12:09:22.127970",
     "exception": false,
     "start_time": "2022-03-04T12:09:22.036506",
     "status": "completed"
    },
    "tags": []
   },
   "source": [
    "Removing the most obvious target leakages:"
   ]
  },
  {
   "cell_type": "code",
   "execution_count": 43,
   "id": "114ee3a6",
   "metadata": {
    "execution": {
     "iopub.execute_input": "2022-03-04T12:09:22.315426Z",
     "iopub.status.busy": "2022-03-04T12:09:22.314654Z",
     "iopub.status.idle": "2022-03-04T12:09:22.320805Z",
     "shell.execute_reply": "2022-03-04T12:09:22.320353Z",
     "shell.execute_reply.started": "2022-03-04T11:56:22.083757Z"
    },
    "papermill": {
     "duration": 0.102751,
     "end_time": "2022-03-04T12:09:22.320914",
     "exception": false,
     "start_time": "2022-03-04T12:09:22.218163",
     "status": "completed"
    },
    "tags": []
   },
   "outputs": [
    {
     "data": {
      "text/plain": [
       "0       3\n",
       "1       0\n",
       "2       2\n",
       "3       3\n",
       "4       1\n",
       "       ..\n",
       "6795    0\n",
       "6796    3\n",
       "6797    0\n",
       "6798    1\n",
       "6799    3\n",
       "Name: Stage, Length: 6800, dtype: int64"
      ]
     },
     "execution_count": 43,
     "metadata": {},
     "output_type": "execute_result"
    }
   ],
   "source": [
    "X = df_scaled.drop([\"ID\", \"Status\", \"Prothrombin\",\"Spiders\", \"Ascites\", \"Edema\"], axis=1)\n",
    "y = X.pop(\"Stage\")\n",
    "y = y - 1\n",
    "y.astype(int)"
   ]
  },
  {
   "cell_type": "code",
   "execution_count": 44,
   "id": "242f447d",
   "metadata": {
    "execution": {
     "iopub.execute_input": "2022-03-04T12:09:22.505345Z",
     "iopub.status.busy": "2022-03-04T12:09:22.504550Z",
     "iopub.status.idle": "2022-03-04T12:09:22.513274Z",
     "shell.execute_reply": "2022-03-04T12:09:22.512822Z",
     "shell.execute_reply.started": "2022-03-04T11:56:22.098731Z"
    },
    "papermill": {
     "duration": 0.101693,
     "end_time": "2022-03-04T12:09:22.513383",
     "exception": false,
     "start_time": "2022-03-04T12:09:22.411690",
     "status": "completed"
    },
    "tags": []
   },
   "outputs": [
    {
     "data": {
      "text/plain": [
       "0      3\n",
       "1      2\n",
       "2      3\n",
       "3      3\n",
       "4      2\n",
       "      ..\n",
       "413    2\n",
       "414    3\n",
       "415    2\n",
       "416    2\n",
       "417    3\n",
       "Name: Stage, Length: 418, dtype: int64"
      ]
     },
     "execution_count": 44,
     "metadata": {},
     "output_type": "execute_result"
    }
   ],
   "source": [
    "X_val = df_scaled_val.drop([\"ID\", \"Status\", \"Prothrombin\", \"Spiders\", \"Ascites\", \"Edema\"], axis=1)\n",
    "y_val = X_val.pop(\"Stage\")\n",
    "y_val = y_val - 1\n",
    "y_val.astype(int)"
   ]
  },
  {
   "cell_type": "markdown",
   "id": "554a33ca",
   "metadata": {
    "papermill": {
     "duration": 0.090529,
     "end_time": "2022-03-04T12:09:22.694673",
     "exception": false,
     "start_time": "2022-03-04T12:09:22.604144",
     "status": "completed"
    },
    "tags": []
   },
   "source": [
    "Decrementing the target class by 1.\\\n",
    "XGBClassifier expects target classes to be in the range of `(0, number of class]`."
   ]
  },
  {
   "cell_type": "code",
   "execution_count": 45,
   "id": "709c9195",
   "metadata": {
    "execution": {
     "iopub.execute_input": "2022-03-04T12:09:22.899462Z",
     "iopub.status.busy": "2022-03-04T12:09:22.898546Z",
     "iopub.status.idle": "2022-03-04T12:09:22.900525Z",
     "shell.execute_reply": "2022-03-04T12:09:22.901340Z",
     "shell.execute_reply.started": "2022-03-04T11:56:22.116809Z"
    },
    "papermill": {
     "duration": 0.115486,
     "end_time": "2022-03-04T12:09:22.901536",
     "exception": false,
     "start_time": "2022-03-04T12:09:22.786050",
     "status": "completed"
    },
    "tags": []
   },
   "outputs": [],
   "source": [
    "from sklearn.decomposition import IncrementalPCA\n",
    "\n",
    "def Dimen_Reduce(X, y, n, X_val):\n",
    "    \n",
    "    pca = IncrementalPCA(n_components = n, batch_size=200)\n",
    "    X_pca = pca.fit_transform(X, y)\n",
    "    V_pca = pca.transform(X_val)\n",
    "    del pca\n",
    "    return X_pca, V_pca\n"
   ]
  },
  {
   "cell_type": "markdown",
   "id": "4152c039",
   "metadata": {
    "papermill": {
     "duration": 0.158884,
     "end_time": "2022-03-04T12:09:23.240729",
     "exception": false,
     "start_time": "2022-03-04T12:09:23.081845",
     "status": "completed"
    },
    "tags": []
   },
   "source": [
    "Performing Dimensionality Reduction using Incremental Principal Component Analysis\\\n",
    "Depending on the size of the input data, this algorithm can be much more memory efficient than a PCA.\\\n",
    "\\\n",
    "This algorithm has constant memory complexity, on the order of `batch_size * n_features`, enabling use of `np.memmap files` without loading the entire file into memory.\\\n",
    "(For more information, please check [documentation](http://scikit-learn.org/stable/modules/generated/sklearn.decomposition.IncrementalPCA.html))"
   ]
  },
  {
   "cell_type": "markdown",
   "id": "bf9c7dee",
   "metadata": {
    "papermill": {
     "duration": 0.119129,
     "end_time": "2022-03-04T12:09:23.513536",
     "exception": false,
     "start_time": "2022-03-04T12:09:23.394407",
     "status": "completed"
    },
    "tags": []
   },
   "source": [
    "Based on insights gained from Feature Exploration, new features are engineered using few selected features which might show stronger correlation to the target."
   ]
  },
  {
   "cell_type": "code",
   "execution_count": 46,
   "id": "799032dd",
   "metadata": {
    "execution": {
     "iopub.execute_input": "2022-03-04T12:09:23.705053Z",
     "iopub.status.busy": "2022-03-04T12:09:23.704190Z",
     "iopub.status.idle": "2022-03-04T12:09:23.805287Z",
     "shell.execute_reply": "2022-03-04T12:09:23.805644Z",
     "shell.execute_reply.started": "2022-03-04T11:56:22.127275Z"
    },
    "papermill": {
     "duration": 0.201257,
     "end_time": "2022-03-04T12:09:23.805780",
     "exception": false,
     "start_time": "2022-03-04T12:09:23.604523",
     "status": "completed"
    },
    "tags": []
   },
   "outputs": [
    {
     "data": {
      "text/html": [
       "<div>\n",
       "<style scoped>\n",
       "    .dataframe tbody tr th:only-of-type {\n",
       "        vertical-align: middle;\n",
       "    }\n",
       "\n",
       "    .dataframe tbody tr th {\n",
       "        vertical-align: top;\n",
       "    }\n",
       "\n",
       "    .dataframe thead th {\n",
       "        text-align: right;\n",
       "    }\n",
       "</style>\n",
       "<table border=\"1\" class=\"dataframe\">\n",
       "  <thead>\n",
       "    <tr style=\"text-align: right;\">\n",
       "      <th></th>\n",
       "      <th>N_Days</th>\n",
       "      <th>Drug</th>\n",
       "      <th>Age</th>\n",
       "      <th>Hepatomegaly</th>\n",
       "      <th>Bilirubin</th>\n",
       "      <th>Cholesterol</th>\n",
       "      <th>Albumin</th>\n",
       "      <th>Copper</th>\n",
       "      <th>Alk_Phos</th>\n",
       "      <th>SGOT</th>\n",
       "      <th>...</th>\n",
       "      <th>Sex_M</th>\n",
       "      <th>new_comp1</th>\n",
       "      <th>new_comp2</th>\n",
       "      <th>new_comp3</th>\n",
       "      <th>new_comp4</th>\n",
       "      <th>new_comp5</th>\n",
       "      <th>new_comp6</th>\n",
       "      <th>new_comp7</th>\n",
       "      <th>new_comp8</th>\n",
       "      <th>new_comp9</th>\n",
       "    </tr>\n",
       "  </thead>\n",
       "  <tbody>\n",
       "    <tr>\n",
       "      <th>0</th>\n",
       "      <td>0.075515</td>\n",
       "      <td>0.0</td>\n",
       "      <td>0.622822</td>\n",
       "      <td>1.0</td>\n",
       "      <td>14.5</td>\n",
       "      <td>0.085196</td>\n",
       "      <td>0.238806</td>\n",
       "      <td>0.260274</td>\n",
       "      <td>0.105279</td>\n",
       "      <td>0.258993</td>\n",
       "      <td>...</td>\n",
       "      <td>0.0</td>\n",
       "      <td>12.693838</td>\n",
       "      <td>-0.020360</td>\n",
       "      <td>12.693898</td>\n",
       "      <td>0.083598</td>\n",
       "      <td>-0.286704</td>\n",
       "      <td>-0.496084</td>\n",
       "      <td>12.693836</td>\n",
       "      <td>-0.022708</td>\n",
       "      <td>0.027554</td>\n",
       "    </tr>\n",
       "    <tr>\n",
       "      <th>1</th>\n",
       "      <td>0.937947</td>\n",
       "      <td>0.0</td>\n",
       "      <td>0.578364</td>\n",
       "      <td>1.0</td>\n",
       "      <td>1.1</td>\n",
       "      <td>0.109970</td>\n",
       "      <td>0.813433</td>\n",
       "      <td>0.085616</td>\n",
       "      <td>0.523509</td>\n",
       "      <td>0.202298</td>\n",
       "      <td>...</td>\n",
       "      <td>0.0</td>\n",
       "      <td>-0.705676</td>\n",
       "      <td>0.413160</td>\n",
       "      <td>-0.706130</td>\n",
       "      <td>0.033784</td>\n",
       "      <td>-0.286934</td>\n",
       "      <td>-0.496146</td>\n",
       "      <td>-0.705670</td>\n",
       "      <td>0.421648</td>\n",
       "      <td>-0.085616</td>\n",
       "    </tr>\n",
       "    <tr>\n",
       "      <th>2</th>\n",
       "      <td>0.204249</td>\n",
       "      <td>0.0</td>\n",
       "      <td>0.839597</td>\n",
       "      <td>0.0</td>\n",
       "      <td>1.4</td>\n",
       "      <td>0.033837</td>\n",
       "      <td>0.567164</td>\n",
       "      <td>0.352740</td>\n",
       "      <td>0.016724</td>\n",
       "      <td>0.161871</td>\n",
       "      <td>...</td>\n",
       "      <td>1.0</td>\n",
       "      <td>-0.406255</td>\n",
       "      <td>-0.093968</td>\n",
       "      <td>-0.406151</td>\n",
       "      <td>-0.006797</td>\n",
       "      <td>-0.286582</td>\n",
       "      <td>-0.496050</td>\n",
       "      <td>-0.406245</td>\n",
       "      <td>-0.078943</td>\n",
       "      <td>-0.185596</td>\n",
       "    </tr>\n",
       "    <tr>\n",
       "      <th>3</th>\n",
       "      <td>0.396298</td>\n",
       "      <td>0.0</td>\n",
       "      <td>0.545664</td>\n",
       "      <td>1.0</td>\n",
       "      <td>1.8</td>\n",
       "      <td>0.074924</td>\n",
       "      <td>0.216418</td>\n",
       "      <td>0.102740</td>\n",
       "      <td>0.429723</td>\n",
       "      <td>0.079554</td>\n",
       "      <td>...</td>\n",
       "      <td>0.0</td>\n",
       "      <td>-0.005784</td>\n",
       "      <td>0.318575</td>\n",
       "      <td>-0.006193</td>\n",
       "      <td>-0.089318</td>\n",
       "      <td>-0.286912</td>\n",
       "      <td>-0.496140</td>\n",
       "      <td>-0.005777</td>\n",
       "      <td>0.326798</td>\n",
       "      <td>-0.086316</td>\n",
       "    </tr>\n",
       "    <tr>\n",
       "      <th>4</th>\n",
       "      <td>0.307741</td>\n",
       "      <td>1.0</td>\n",
       "      <td>0.226748</td>\n",
       "      <td>1.0</td>\n",
       "      <td>3.4</td>\n",
       "      <td>0.096073</td>\n",
       "      <td>0.585821</td>\n",
       "      <td>0.238014</td>\n",
       "      <td>0.028143</td>\n",
       "      <td>0.201439</td>\n",
       "      <td>...</td>\n",
       "      <td>0.0</td>\n",
       "      <td>1.593757</td>\n",
       "      <td>-0.084830</td>\n",
       "      <td>1.593869</td>\n",
       "      <td>0.031744</td>\n",
       "      <td>-0.308830</td>\n",
       "      <td>0.503664</td>\n",
       "      <td>1.593765</td>\n",
       "      <td>-0.072325</td>\n",
       "      <td>-0.154748</td>\n",
       "    </tr>\n",
       "    <tr>\n",
       "      <th>...</th>\n",
       "      <td>...</td>\n",
       "      <td>...</td>\n",
       "      <td>...</td>\n",
       "      <td>...</td>\n",
       "      <td>...</td>\n",
       "      <td>...</td>\n",
       "      <td>...</td>\n",
       "      <td>...</td>\n",
       "      <td>...</td>\n",
       "      <td>...</td>\n",
       "      <td>...</td>\n",
       "      <td>...</td>\n",
       "      <td>...</td>\n",
       "      <td>...</td>\n",
       "      <td>...</td>\n",
       "      <td>...</td>\n",
       "      <td>...</td>\n",
       "      <td>...</td>\n",
       "      <td>...</td>\n",
       "      <td>...</td>\n",
       "      <td>...</td>\n",
       "    </tr>\n",
       "    <tr>\n",
       "      <th>413</th>\n",
       "      <td>0.134623</td>\n",
       "      <td>0.6</td>\n",
       "      <td>0.780705</td>\n",
       "      <td>1.0</td>\n",
       "      <td>1.2</td>\n",
       "      <td>0.103565</td>\n",
       "      <td>0.373134</td>\n",
       "      <td>0.250685</td>\n",
       "      <td>0.153170</td>\n",
       "      <td>0.200794</td>\n",
       "      <td>...</td>\n",
       "      <td>0.0</td>\n",
       "      <td>-0.606099</td>\n",
       "      <td>0.042707</td>\n",
       "      <td>-0.606131</td>\n",
       "      <td>0.032229</td>\n",
       "      <td>0.699781</td>\n",
       "      <td>0.125863</td>\n",
       "      <td>-0.606098</td>\n",
       "      <td>0.043413</td>\n",
       "      <td>-0.006775</td>\n",
       "    </tr>\n",
       "    <tr>\n",
       "      <th>414</th>\n",
       "      <td>0.223391</td>\n",
       "      <td>0.0</td>\n",
       "      <td>0.243911</td>\n",
       "      <td>0.2</td>\n",
       "      <td>0.9</td>\n",
       "      <td>0.145740</td>\n",
       "      <td>0.697761</td>\n",
       "      <td>0.112671</td>\n",
       "      <td>0.083870</td>\n",
       "      <td>0.186238</td>\n",
       "      <td>...</td>\n",
       "      <td>0.0</td>\n",
       "      <td>-0.906178</td>\n",
       "      <td>-0.026251</td>\n",
       "      <td>-0.906138</td>\n",
       "      <td>0.017827</td>\n",
       "      <td>0.712856</td>\n",
       "      <td>-0.474040</td>\n",
       "      <td>-0.906173</td>\n",
       "      <td>-0.019505</td>\n",
       "      <td>-0.082676</td>\n",
       "    </tr>\n",
       "    <tr>\n",
       "      <th>415</th>\n",
       "      <td>0.213294</td>\n",
       "      <td>0.8</td>\n",
       "      <td>0.588967</td>\n",
       "      <td>0.4</td>\n",
       "      <td>1.6</td>\n",
       "      <td>0.151299</td>\n",
       "      <td>0.544776</td>\n",
       "      <td>0.190068</td>\n",
       "      <td>0.065835</td>\n",
       "      <td>0.185867</td>\n",
       "      <td>...</td>\n",
       "      <td>0.0</td>\n",
       "      <td>-0.206199</td>\n",
       "      <td>-0.045085</td>\n",
       "      <td>-0.206138</td>\n",
       "      <td>0.017097</td>\n",
       "      <td>0.695281</td>\n",
       "      <td>0.325792</td>\n",
       "      <td>-0.206193</td>\n",
       "      <td>-0.036820</td>\n",
       "      <td>-0.101829</td>\n",
       "    </tr>\n",
       "    <tr>\n",
       "      <th>416</th>\n",
       "      <td>0.136727</td>\n",
       "      <td>0.8</td>\n",
       "      <td>0.608178</td>\n",
       "      <td>0.4</td>\n",
       "      <td>0.8</td>\n",
       "      <td>0.203867</td>\n",
       "      <td>0.667910</td>\n",
       "      <td>0.277055</td>\n",
       "      <td>0.093668</td>\n",
       "      <td>0.286517</td>\n",
       "      <td>...</td>\n",
       "      <td>0.0</td>\n",
       "      <td>-1.006166</td>\n",
       "      <td>-0.016339</td>\n",
       "      <td>-1.006087</td>\n",
       "      <td>0.118157</td>\n",
       "      <td>0.695396</td>\n",
       "      <td>0.325823</td>\n",
       "      <td>-1.006162</td>\n",
       "      <td>-0.010005</td>\n",
       "      <td>-0.077278</td>\n",
       "    </tr>\n",
       "    <tr>\n",
       "      <th>417</th>\n",
       "      <td>0.196676</td>\n",
       "      <td>0.4</td>\n",
       "      <td>0.512282</td>\n",
       "      <td>1.0</td>\n",
       "      <td>0.7</td>\n",
       "      <td>0.116254</td>\n",
       "      <td>0.496269</td>\n",
       "      <td>0.213014</td>\n",
       "      <td>0.116242</td>\n",
       "      <td>0.288907</td>\n",
       "      <td>...</td>\n",
       "      <td>0.0</td>\n",
       "      <td>-1.106141</td>\n",
       "      <td>0.006349</td>\n",
       "      <td>-1.106085</td>\n",
       "      <td>0.120599</td>\n",
       "      <td>0.704150</td>\n",
       "      <td>-0.074102</td>\n",
       "      <td>-1.106136</td>\n",
       "      <td>0.013219</td>\n",
       "      <td>-0.082823</td>\n",
       "    </tr>\n",
       "  </tbody>\n",
       "</table>\n",
       "<p>418 rows × 24 columns</p>\n",
       "</div>"
      ],
      "text/plain": [
       "       N_Days  Drug       Age  Hepatomegaly  Bilirubin  Cholesterol   Albumin  \\\n",
       "0    0.075515   0.0  0.622822           1.0       14.5     0.085196  0.238806   \n",
       "1    0.937947   0.0  0.578364           1.0        1.1     0.109970  0.813433   \n",
       "2    0.204249   0.0  0.839597           0.0        1.4     0.033837  0.567164   \n",
       "3    0.396298   0.0  0.545664           1.0        1.8     0.074924  0.216418   \n",
       "4    0.307741   1.0  0.226748           1.0        3.4     0.096073  0.585821   \n",
       "..        ...   ...       ...           ...        ...          ...       ...   \n",
       "413  0.134623   0.6  0.780705           1.0        1.2     0.103565  0.373134   \n",
       "414  0.223391   0.0  0.243911           0.2        0.9     0.145740  0.697761   \n",
       "415  0.213294   0.8  0.588967           0.4        1.6     0.151299  0.544776   \n",
       "416  0.136727   0.8  0.608178           0.4        0.8     0.203867  0.667910   \n",
       "417  0.196676   0.4  0.512282           1.0        0.7     0.116254  0.496269   \n",
       "\n",
       "       Copper  Alk_Phos      SGOT  ...  Sex_M  new_comp1  new_comp2  \\\n",
       "0    0.260274  0.105279  0.258993  ...    0.0  12.693838  -0.020360   \n",
       "1    0.085616  0.523509  0.202298  ...    0.0  -0.705676   0.413160   \n",
       "2    0.352740  0.016724  0.161871  ...    1.0  -0.406255  -0.093968   \n",
       "3    0.102740  0.429723  0.079554  ...    0.0  -0.005784   0.318575   \n",
       "4    0.238014  0.028143  0.201439  ...    0.0   1.593757  -0.084830   \n",
       "..        ...       ...       ...  ...    ...        ...        ...   \n",
       "413  0.250685  0.153170  0.200794  ...    0.0  -0.606099   0.042707   \n",
       "414  0.112671  0.083870  0.186238  ...    0.0  -0.906178  -0.026251   \n",
       "415  0.190068  0.065835  0.185867  ...    0.0  -0.206199  -0.045085   \n",
       "416  0.277055  0.093668  0.286517  ...    0.0  -1.006166  -0.016339   \n",
       "417  0.213014  0.116242  0.288907  ...    0.0  -1.106141   0.006349   \n",
       "\n",
       "     new_comp3  new_comp4  new_comp5  new_comp6  new_comp7  new_comp8  \\\n",
       "0    12.693898   0.083598  -0.286704  -0.496084  12.693836  -0.022708   \n",
       "1    -0.706130   0.033784  -0.286934  -0.496146  -0.705670   0.421648   \n",
       "2    -0.406151  -0.006797  -0.286582  -0.496050  -0.406245  -0.078943   \n",
       "3    -0.006193  -0.089318  -0.286912  -0.496140  -0.005777   0.326798   \n",
       "4     1.593869   0.031744  -0.308830   0.503664   1.593765  -0.072325   \n",
       "..         ...        ...        ...        ...        ...        ...   \n",
       "413  -0.606131   0.032229   0.699781   0.125863  -0.606098   0.043413   \n",
       "414  -0.906138   0.017827   0.712856  -0.474040  -0.906173  -0.019505   \n",
       "415  -0.206138   0.017097   0.695281   0.325792  -0.206193  -0.036820   \n",
       "416  -1.006087   0.118157   0.695396   0.325823  -1.006162  -0.010005   \n",
       "417  -1.106085   0.120599   0.704150  -0.074102  -1.106136   0.013219   \n",
       "\n",
       "     new_comp9  \n",
       "0     0.027554  \n",
       "1    -0.085616  \n",
       "2    -0.185596  \n",
       "3    -0.086316  \n",
       "4    -0.154748  \n",
       "..         ...  \n",
       "413  -0.006775  \n",
       "414  -0.082676  \n",
       "415  -0.101829  \n",
       "416  -0.077278  \n",
       "417  -0.082823  \n",
       "\n",
       "[418 rows x 24 columns]"
      ]
     },
     "execution_count": 46,
     "metadata": {},
     "output_type": "execute_result"
    }
   ],
   "source": [
    "new_comp1 = X[[\"Bilirubin\", \"Alk_Phos\"]]\n",
    "new_comp2 = X[[\"Bilirubin\", \"SGOT\"]]\n",
    "new_comp3 = X[[\"Drug\", \"NaN_Drug\", \"Copper\"]]\n",
    "new_comp4 = X[[\"Tryglicerides\", \"Bilirubin\", \"Alk_Phos\"]]\n",
    "\n",
    "new_comp1_val = X_val[[\"Bilirubin\", \"Alk_Phos\"]]\n",
    "new_comp2_val = X_val[[\"Bilirubin\", \"SGOT\"]]\n",
    "new_comp3_val = X_val[[\"Drug\", \"NaN_Drug\", \"Copper\"]]\n",
    "new_comp4_val = X_val[[\"Tryglicerides\", \"Bilirubin\", \"Alk_Phos\"]]\n",
    "\n",
    "new_comps1, new_comps1_val = Dimen_Reduce(new_comp1, y, 2, new_comp1_val)\n",
    "new_comps2, new_comps2_val = Dimen_Reduce(new_comp2, y, 2, new_comp2_val)\n",
    "new_comps3, new_comps3_val = Dimen_Reduce(new_comp3, y, 2, new_comp3_val)\n",
    "new_comps4, new_comps4_val = Dimen_Reduce(new_comp4, y, 3, new_comp4_val)\n",
    "\n",
    "\n",
    "X[[\"new_comp1\", \"new_comp2\"]] = new_comps1\n",
    "X[[\"new_comp3\", \"new_comp4\"]] = new_comps2\n",
    "X[[\"new_comp5\", \"new_comp6\"]] = new_comps3\n",
    "X[[\"new_comp7\", \"new_comp8\", \"new_comp9\"]] = new_comps4\n",
    "\n",
    "X_val[[\"new_comp1\", \"new_comp2\"]] = new_comps1_val\n",
    "X_val[[\"new_comp3\", \"new_comp4\"]] = new_comps2_val\n",
    "X_val[[\"new_comp5\", \"new_comp6\"]] = new_comps3_val\n",
    "X_val[[\"new_comp7\", \"new_comp8\", \"new_comp9\"]] = new_comps4_val\n",
    "\n",
    "X_val"
   ]
  },
  {
   "cell_type": "markdown",
   "id": "34ae0e44",
   "metadata": {
    "papermill": {
     "duration": 0.09413,
     "end_time": "2022-03-04T12:09:23.991775",
     "exception": false,
     "start_time": "2022-03-04T12:09:23.897645",
     "status": "completed"
    },
    "tags": []
   },
   "source": [
    "Finding Mutual Information scores between features to see how strongly they are correlated to the target."
   ]
  },
  {
   "cell_type": "code",
   "execution_count": 47,
   "id": "99a3b43d",
   "metadata": {
    "execution": {
     "iopub.execute_input": "2022-03-04T12:09:24.191894Z",
     "iopub.status.busy": "2022-03-04T12:09:24.191299Z",
     "iopub.status.idle": "2022-03-04T12:09:24.236078Z",
     "shell.execute_reply": "2022-03-04T12:09:24.236489Z",
     "shell.execute_reply.started": "2022-03-04T11:56:22.273054Z"
    },
    "papermill": {
     "duration": 0.152015,
     "end_time": "2022-03-04T12:09:24.236619",
     "exception": false,
     "start_time": "2022-03-04T12:09:24.084604",
     "status": "completed"
    },
    "tags": []
   },
   "outputs": [
    {
     "name": "stdout",
     "output_type": "stream",
     "text": [
      "['new_comp9', 'new_comp8', 'new_comp7', 'new_comp1', 'new_comp2', 'new_comp4', 'new_comp3', 'N_Days', 'Alk_Phos', 'Age', 'Cholesterol', 'new_comp6', 'new_comp5']\n"
     ]
    },
    {
     "data": {
      "text/plain": [
       "new_comp9      1.220616\n",
       "new_comp8      1.220616\n",
       "new_comp7      1.220616\n",
       "new_comp1      1.217300\n",
       "new_comp2      1.217300\n",
       "new_comp4      1.190768\n",
       "new_comp3      1.190768\n",
       "N_Days         1.174186\n",
       "Alk_Phos       1.170869\n",
       "Age            1.025938\n",
       "Cholesterol    0.973002\n",
       "new_comp6      0.951081\n",
       "new_comp5      0.951081\n",
       "Platelets      0.846852\n",
       "SGOT           0.819581\n",
       "Name: MI Scores, dtype: float64"
      ]
     },
     "execution_count": 47,
     "metadata": {},
     "output_type": "execute_result"
    }
   ],
   "source": [
    "discrete_features = X.dtypes is not str\n",
    "\n",
    "from sklearn.feature_selection import mutual_info_classif\n",
    "\n",
    "\n",
    "def make_mi_scores(X, y, discrete_features):\n",
    "    mi_scores = mutual_info_classif(X, y, discrete_features=discrete_features, random_state = 42)\n",
    "    mi_scores = pd.Series(mi_scores, name=\"MI Scores\", index=X.columns)\n",
    "    mi_scores = mi_scores.sort_values(ascending=False)\n",
    "    return mi_scores\n",
    "\n",
    "mi_scores = make_mi_scores(X_val, y_val.astype(int), discrete_features)\n",
    "mi_scores = mi_scores.sort_values(ascending=False)\n",
    "k = mi_scores.index.tolist()\n",
    "refined_cols = k[:13]\n",
    "print(refined_cols)\n",
    "mi_scores[:15]"
   ]
  },
  {
   "cell_type": "code",
   "execution_count": 48,
   "id": "98aa9128",
   "metadata": {
    "execution": {
     "iopub.execute_input": "2022-03-04T12:09:24.445874Z",
     "iopub.status.busy": "2022-03-04T12:09:24.435920Z",
     "iopub.status.idle": "2022-03-04T12:09:24.732351Z",
     "shell.execute_reply": "2022-03-04T12:09:24.731858Z",
     "shell.execute_reply.started": "2022-03-04T11:56:22.333425Z"
    },
    "papermill": {
     "duration": 0.403295,
     "end_time": "2022-03-04T12:09:24.732475",
     "exception": false,
     "start_time": "2022-03-04T12:09:24.329180",
     "status": "completed"
    },
    "tags": []
   },
   "outputs": [
    {
     "data": {
      "image/png": "[encoded data removed]",
      "text/plain": [
       "<Figure size 800x500 with 1 Axes>"
      ]
     },
     "metadata": {
      "needs_background": "light"
     },
     "output_type": "display_data"
    }
   ],
   "source": [
    "import matplotlib.pyplot as plt\n",
    "import numpy as np\n",
    "\n",
    "def plot_mi_scores(scores):\n",
    "    scores = scores.sort_values(ascending=True)\n",
    "    width = np.arange(len(scores))\n",
    "    ticks = list(scores.index)\n",
    "    plt.barh(width, scores)\n",
    "    plt.yticks(width, ticks)\n",
    "    plt.title(\"Mutual Information Scores\")\n",
    "\n",
    "plt.figure(dpi=100, figsize=(8, 5))\n",
    "plot_mi_scores(mi_scores)"
   ]
  },
  {
   "cell_type": "markdown",
   "id": "542b9ad0",
   "metadata": {
    "papermill": {
     "duration": 0.094521,
     "end_time": "2022-03-04T12:09:24.920709",
     "exception": false,
     "start_time": "2022-03-04T12:09:24.826188",
     "status": "completed"
    },
    "tags": []
   },
   "source": [
    "Using 12 columns with top mutual information scores for training."
   ]
  },
  {
   "cell_type": "markdown",
   "id": "7549aa19",
   "metadata": {
    "papermill": {
     "duration": 0.094381,
     "end_time": "2022-03-04T12:09:25.109986",
     "exception": false,
     "start_time": "2022-03-04T12:09:25.015605",
     "status": "completed"
    },
    "tags": []
   },
   "source": [
    "# MODELING"
   ]
  },
  {
   "cell_type": "markdown",
   "id": "c6199f5c",
   "metadata": {
    "papermill": {
     "duration": 0.094443,
     "end_time": "2022-03-04T12:09:25.299151",
     "exception": false,
     "start_time": "2022-03-04T12:09:25.204708",
     "status": "completed"
    },
    "tags": []
   },
   "source": [
    "Splitting data for training and testing and checking overfitting and underfitting.\\\n",
    "Using `stratify` parameter to account for the imbalance in the data."
   ]
  },
  {
   "cell_type": "markdown",
   "id": "03bee71a",
   "metadata": {
    "papermill": {
     "duration": 0.093465,
     "end_time": "2022-03-04T12:09:25.486368",
     "exception": false,
     "start_time": "2022-03-04T12:09:25.392903",
     "status": "completed"
    },
    "tags": []
   },
   "source": [
    "Tests on `XGBClassifier` with `OneVsRestClassifier`:"
   ]
  },
  {
   "cell_type": "code",
   "execution_count": 49,
   "id": "fa26ba88",
   "metadata": {
    "execution": {
     "iopub.execute_input": "2022-03-04T12:09:25.683218Z",
     "iopub.status.busy": "2022-03-04T12:09:25.682069Z",
     "iopub.status.idle": "2022-03-04T12:09:25.685165Z",
     "shell.execute_reply": "2022-03-04T12:09:25.685577Z",
     "shell.execute_reply.started": "2022-03-04T11:56:22.766280Z"
    },
    "papermill": {
     "duration": 0.104913,
     "end_time": "2022-03-04T12:09:25.685702",
     "exception": false,
     "start_time": "2022-03-04T12:09:25.580789",
     "status": "completed"
    },
    "tags": []
   },
   "outputs": [
    {
     "data": {
      "text/plain": [
       "3.0    3506\n",
       "1.0    1507\n",
       "2.0    1322\n",
       "0.0     465\n",
       "Name: Stage, dtype: int64"
      ]
     },
     "execution_count": 49,
     "metadata": {},
     "output_type": "execute_result"
    }
   ],
   "source": [
    "y.value_counts()"
   ]
  },
  {
   "cell_type": "code",
   "execution_count": 50,
   "id": "eb6d5af8",
   "metadata": {
    "execution": {
     "iopub.execute_input": "2022-03-04T12:09:25.882302Z",
     "iopub.status.busy": "2022-03-04T12:09:25.881621Z",
     "iopub.status.idle": "2022-03-04T12:09:29.830799Z",
     "shell.execute_reply": "2022-03-04T12:09:29.831432Z",
     "shell.execute_reply.started": "2022-03-04T11:56:22.777081Z"
    },
    "papermill": {
     "duration": 4.051509,
     "end_time": "2022-03-04T12:09:29.831585",
     "exception": false,
     "start_time": "2022-03-04T12:09:25.780076",
     "status": "completed"
    },
    "tags": []
   },
   "outputs": [
    {
     "data": {
      "text/plain": [
       "XGBClassifier(base_score=0.5, booster='gbtree', colsample_bylevel=1,\n",
       "              colsample_bynode=1, colsample_bytree=1, enable_categorical=False,\n",
       "              eval_metric='logloss', gamma=0, gpu_id=0, importance_type=None,\n",
       "              interaction_constraints='', learning_rate=0.17, max_delta_step=0,\n",
       "              max_depth=4, min_child_weight=1, missing=nan,\n",
       "              monotone_constraints='()', n_estimators=180, n_jobs=-1,\n",
       "              num_class=4, num_parallel_tree=1, objective='multi:softprob',\n",
       "              predictor='auto', random_state=42, reg_alpha=0, reg_lambda=1,\n",
       "              scale_pos_weight=None, subsample=1, tree_method='gpu_hist',\n",
       "              use_label_encoder=False, ...)"
      ]
     },
     "execution_count": 50,
     "metadata": {},
     "output_type": "execute_result"
    }
   ],
   "source": [
    "from xgboost import XGBClassifier\n",
    "def class_weight(labels_dict,mu=0.15):\n",
    "    total = np.sum(labels_dict.values())\n",
    "    keys = labels_dict.keys()\n",
    "    weight = dict()\n",
    "    for i in keys:\n",
    "        score = np.log(mu*total/float(labels_dict[i]))\n",
    "        weight[i] = score if score > 1 else 1\n",
    "    return weight\n",
    "# random labels_dict\n",
    "#labels_dict = y.value_counts().to_dict()\n",
    "#weights = class_weight(labels_dict)\n",
    "weights = y.value_counts()/len(y)\n",
    "\n",
    "model = obj = XGBClassifier(objective = \"multi:softmax\" , num_class = 4, n_jobs = -1, learning_rate= 0.17,\n",
    "                    max_depth = 4, n_estimators = 180, tree_method = 'gpu_hist', subsample = 1,\n",
    "                    random_state = 42, use_label_encoder=False, eval_metric = \"logloss\")\n",
    "model.fit(X[refined_cols],y)\n"
   ]
  },
  {
   "cell_type": "code",
   "execution_count": 51,
   "id": "b2e8a743",
   "metadata": {
    "execution": {
     "iopub.execute_input": "2022-03-04T12:09:30.026780Z",
     "iopub.status.busy": "2022-03-04T12:09:30.026069Z",
     "iopub.status.idle": "2022-03-04T12:09:30.094626Z",
     "shell.execute_reply": "2022-03-04T12:09:30.095307Z",
     "shell.execute_reply.started": "2022-03-04T11:56:23.726693Z"
    },
    "papermill": {
     "duration": 0.168813,
     "end_time": "2022-03-04T12:09:30.095484",
     "exception": false,
     "start_time": "2022-03-04T12:09:29.926671",
     "status": "completed"
    },
    "tags": []
   },
   "outputs": [
    {
     "name": "stdout",
     "output_type": "stream",
     "text": [
      "Train score: 0.6475673527067612 \n",
      "Test score: 0.2743924769775534 \n"
     ]
    },
    {
     "data": {
      "text/plain": [
       "array([3, 3, 3, 3, 3, 3, 3, 3, 3, 3, 3, 3, 3, 3, 3, 3, 3, 3, 3, 3, 3, 3,\n",
       "       1, 3, 3, 3, 3, 1, 3, 3, 3, 3, 2, 3, 3, 3, 3, 3, 3, 3, 2, 3, 3, 1,\n",
       "       3, 3, 3, 3, 3, 3, 3, 3, 3, 3, 3, 2, 3, 3, 2, 3, 3, 2, 3, 3, 2, 3,\n",
       "       2, 3, 1, 3, 3, 2, 3, 3, 2, 3, 2, 2, 3, 3, 1, 3, 3, 3, 1, 3, 3, 3,\n",
       "       3, 1, 3, 3, 1, 3, 3, 1, 3, 3, 3, 3, 3, 3, 3, 3, 2, 3, 3, 3, 3, 3,\n",
       "       2, 3, 3, 3, 3, 3, 1, 3, 3, 3, 3, 3, 3, 3, 3, 3, 3, 2, 3, 1, 3, 3,\n",
       "       3, 3, 3, 3, 3, 3, 3, 3, 3, 3, 3, 1, 3, 3, 2, 2, 3, 3, 3, 3, 3, 3,\n",
       "       2, 1, 1, 3, 3, 3, 3, 3, 3, 2, 3, 2, 3, 3, 1, 3, 3, 3, 2, 3, 3, 3,\n",
       "       3, 3, 3, 3, 3, 3, 3, 1, 1, 3, 3, 3, 3, 3, 1, 3, 3, 3, 3, 3, 3, 2,\n",
       "       2, 2, 3, 3, 3, 3, 3, 3, 3, 3, 3, 1, 3, 3, 3, 3, 2, 3, 1, 3, 3, 3,\n",
       "       3, 3, 2, 3, 3, 3, 3, 3, 3, 3, 3, 3, 3, 3, 2, 2, 3, 3, 3, 3, 2, 3,\n",
       "       3, 3, 3, 3, 3, 3, 3, 3, 3, 3, 2, 3, 2, 2, 3, 3, 3, 3, 3, 3, 3, 3,\n",
       "       3, 3, 3, 3, 3, 2, 3, 3, 2, 3, 3, 3, 2, 2, 3, 3, 3, 3, 3, 3, 3, 3,\n",
       "       3, 3, 3, 3, 3, 3, 3, 0, 3, 2, 2, 3, 3, 3, 3, 1, 3, 3, 1, 3, 3, 3,\n",
       "       3, 3, 3, 3, 3, 3, 3, 3, 3, 3, 3, 3, 2, 3, 3, 3, 3, 3, 3, 3, 3, 3,\n",
       "       3, 3, 3, 3, 3, 3, 3, 2, 3, 3, 3, 1, 3, 2, 3, 3, 3, 3, 3, 3, 3, 3,\n",
       "       3, 3, 2, 3, 1, 3, 3, 3, 3, 3, 3, 3, 3, 3, 3, 3, 1, 1, 3, 3, 3, 3,\n",
       "       3, 3, 3, 3, 3, 3, 3, 2, 3, 3, 3, 3, 1, 3, 3, 3, 3, 3, 3, 2, 2, 3,\n",
       "       3, 3, 1, 3, 3, 3, 3, 2, 3, 3, 2, 3, 3, 3, 3, 3, 3, 3, 3, 3, 3, 3])"
      ]
     },
     "execution_count": 51,
     "metadata": {},
     "output_type": "execute_result"
    }
   ],
   "source": [
    "from sklearn.multiclass import OneVsRestClassifier\n",
    "from xgboost import XGBClassifier\n",
    "\n",
    "\n",
    "val_results = model.predict(X_val[refined_cols])\n",
    "train_results = model.predict(X[refined_cols])\n",
    "\n",
    "\n",
    "from sklearn.metrics import f1_score\n",
    "\n",
    "acc_train = f1_score(y,train_results, average = 'weighted')\n",
    "acc_val = f1_score(y_val.astype(int),val_results, average = 'weighted')\n",
    "\n",
    "\n",
    "print(\"Train score: {} \".format(acc_train))\n",
    "print(\"Test score: {} \".format(acc_val))\n",
    "val_results"
   ]
  },
  {
   "cell_type": "code",
   "execution_count": 52,
   "id": "ee0fe12b",
   "metadata": {
    "execution": {
     "iopub.execute_input": "2022-03-04T12:09:30.294385Z",
     "iopub.status.busy": "2022-03-04T12:09:30.293567Z",
     "iopub.status.idle": "2022-03-04T12:09:30.324136Z",
     "shell.execute_reply": "2022-03-04T12:09:30.323677Z",
     "shell.execute_reply.started": "2022-03-04T11:56:23.825890Z"
    },
    "papermill": {
     "duration": 0.131349,
     "end_time": "2022-03-04T12:09:30.324250",
     "exception": false,
     "start_time": "2022-03-04T12:09:30.192901",
     "status": "completed"
    },
    "tags": []
   },
   "outputs": [
    {
     "name": "stdout",
     "output_type": "stream",
     "text": [
      "Confusion matrix : \n",
      " [[ 114   10    2  339]\n",
      " [   0  600    9  898]\n",
      " [   0   18  465  839]\n",
      " [   0   14    4 3488]]\n",
      "Outcome values : \n",
      " 600 0 10 114\n",
      "Classification report : \n",
      "               precision    recall  f1-score   support\n",
      "\n",
      "           0       1.00      0.25      0.39       465\n",
      "           1       0.93      0.40      0.56      1507\n",
      "           2       0.97      0.35      0.52      1322\n",
      "           3       0.63      0.99      0.77      3506\n",
      "\n",
      "    accuracy                           0.69      6800\n",
      "   macro avg       0.88      0.50      0.56      6800\n",
      "weighted avg       0.79      0.69      0.65      6800\n",
      "\n"
     ]
    }
   ],
   "source": [
    "from sklearn.metrics import confusion_matrix\n",
    "from sklearn.metrics import classification_report\n",
    "\n",
    "# confusion matrix\n",
    "matrix = confusion_matrix(y, train_results, labels=[0, 1, 2, 3])\n",
    "print('Confusion matrix : \\n',matrix)\n",
    "\n",
    "# outcome values order in sklearn\n",
    "tp, fn, fp, tn = confusion_matrix(y, train_results,labels=[1,0]).reshape(-1)\n",
    "print('Outcome values : \\n', tp, fn, fp, tn)\n",
    "\n",
    "# classification report for precision, recall f1-score and accuracy\n",
    "matrix = classification_report(y, train_results,labels=[0, 1, 2, 3])\n",
    "print('Classification report : \\n',matrix)"
   ]
  },
  {
   "cell_type": "code",
   "execution_count": 53,
   "id": "51f69af2",
   "metadata": {
    "execution": {
     "iopub.execute_input": "2022-03-04T12:09:30.526562Z",
     "iopub.status.busy": "2022-03-04T12:09:30.525993Z",
     "iopub.status.idle": "2022-03-04T12:09:30.538096Z",
     "shell.execute_reply": "2022-03-04T12:09:30.538512Z",
     "shell.execute_reply.started": "2022-03-04T11:56:23.873048Z"
    },
    "papermill": {
     "duration": 0.114378,
     "end_time": "2022-03-04T12:09:30.538651",
     "exception": false,
     "start_time": "2022-03-04T12:09:30.424273",
     "status": "completed"
    },
    "tags": []
   },
   "outputs": [
    {
     "name": "stdout",
     "output_type": "stream",
     "text": [
      "Confusion matrix : \n",
      " [[  0   0   2  19]\n",
      " [  0   7   6  81]\n",
      " [  0  12  22 125]\n",
      " [  1   9  16 118]]\n",
      "Outcome values : \n",
      " 7 0 0 0\n",
      "Classification report : \n",
      "               precision    recall  f1-score   support\n",
      "\n",
      "           0       0.00      0.00      0.00        21\n",
      "           1       0.25      0.07      0.11        94\n",
      "           2       0.48      0.14      0.21       159\n",
      "           3       0.34      0.82      0.48       144\n",
      "\n",
      "    accuracy                           0.35       418\n",
      "   macro avg       0.27      0.26      0.20       418\n",
      "weighted avg       0.36      0.35      0.27       418\n",
      "\n"
     ]
    }
   ],
   "source": [
    "from sklearn.metrics import confusion_matrix\n",
    "from sklearn.metrics import classification_report\n",
    "\n",
    "# confusion matrix\n",
    "matrix = confusion_matrix(y_val.astype(int), val_results, labels=[0, 1, 2, 3])\n",
    "print('Confusion matrix : \\n',matrix)\n",
    "\n",
    "# outcome values order in sklearn\n",
    "tp, fn, fp, tn = confusion_matrix(y_val.astype(int), val_results,labels=[1,0]).reshape(-1)\n",
    "print('Outcome values : \\n', tp, fn, fp, tn)\n",
    "\n",
    "# classification report for precision, recall f1-score and accuracy\n",
    "matrix = classification_report(y_val.astype(int), val_results,labels=[0, 1, 2, 3])\n",
    "print('Classification report : \\n',matrix)"
   ]
  },
  {
   "cell_type": "markdown",
   "id": "9801acd2",
   "metadata": {
    "papermill": {
     "duration": 0.098751,
     "end_time": "2022-03-04T12:09:30.732818",
     "exception": false,
     "start_time": "2022-03-04T12:09:30.634067",
     "status": "completed"
    },
    "tags": []
   },
   "source": [
    "## Final Results: \n",
    "### Train score: 0.6475673527067612 \n",
    "### Test score: 0.2743924769775534 "
   ]
  },
  {
   "cell_type": "markdown",
   "id": "ebbec0f5",
   "metadata": {
    "papermill": {
     "duration": 0.096785,
     "end_time": "2022-03-04T12:09:30.927729",
     "exception": false,
     "start_time": "2022-03-04T12:09:30.830944",
     "status": "completed"
    },
    "tags": []
   },
   "source": [
    "Usually in medical research, atmost 5-6% of missing values in the dataset is acceptable. \\\n",
    "Since the given dataset has 20.63% of the values missing, the testing scores are consequentially low."
   ]
  },
  {
   "cell_type": "markdown",
   "id": "aac558f4",
   "metadata": {
    "papermill": {
     "duration": 0.095579,
     "end_time": "2022-03-04T12:09:31.119755",
     "exception": false,
     "start_time": "2022-03-04T12:09:31.024176",
     "status": "completed"
    },
    "tags": []
   },
   "source": [
    "**Acknowledgements:**\n",
    "* https://medlineplus.gov/lab-tests/alkaline-phosphatase/\n",
    "* https://www.webmd.com/heart-disease/heart-failure/edema-overview#:~:text=Medications%2C%20pregnancy%2C%20infections%2C%20and,almost%20anywhere%20in%20the%20body.\n",
    "* https://www.webmd.com/digestive-disorders/tests-for-cirrhosis\n",
    "* https://www.hepatitis.va.gov/hcv/patient/diagnosis/labtests-prothrombin-time.asp#:~:text=When%20the%20PT%20is%20high,serious%20liver%20damage%20or%20cirrhosis.\n",
    "* https://amj.amegroups.com/article/view/4703/html\n",
    "* https://www.ncbi.nlm.nih.gov/pmc/articles/PMC3644745/#:~:text=found%20that%20the%20serum%20cholesterol,the%20progress%20of%20alcoholic%20cirrhosis.&text=Few%20studies%20on%20cirrhosis%20of,cholesterol%20values%20were%20significantly%20diminished.\n",
    "* https://www.webmd.com/hepatitis/enlarged-liver-causes\n",
    "* https://www.healthgrades.com/right-care/liver-conditions/enlarged-liver\n",
    "* https://www.journal-of-hepatology.eu/article/S0168-8278(11)00682-9/fulltext\n",
    "* https://gi.org/topics/ascites/\n",
    "* https://www.healthline.com/health/sgot-test#followup\n",
    "* https://www.ncbi.nlm.nih.gov/pmc/articles/PMC3644745/#:~:text=Severe%20metabolic%20impairment%20in%20cirrhosis,density%20lipoprotein%20(LDL)%20cholesterol.\n"
   ]
  }
 ],
 "metadata": {
  "kernelspec": {
   "display_name": "Python 3",
   "language": "python",
   "name": "python3"
  },
  "language_info": {
   "codemirror_mode": {
    "name": "ipython",
    "version": 3
   },
   "file_extension": ".py",
   "mimetype": "text/x-python",
   "name": "python",
   "nbconvert_exporter": "python",
   "pygments_lexer": "ipython3",
   "version": "3.7.12"
  },
  "papermill": {
   "default_parameters": {},
   "duration": 41.208334,
   "end_time": "2022-03-04T12:09:32.427309",
   "environment_variables": {},
   "exception": null,
   "input_path": "__notebook__.ipynb",
   "output_path": "__notebook__.ipynb",
   "parameters": {},
   "start_time": "2022-03-04T12:08:51.218975",
   "version": "2.3.3"
  }
 },
 "nbformat": 4,
 "nbformat_minor": 5
}
